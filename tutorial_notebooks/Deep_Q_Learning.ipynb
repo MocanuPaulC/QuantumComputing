{
 "cells": [
  {
   "cell_type": "markdown",
   "metadata": {},
   "source": [
    "# Quantum Approximate Q-learning with Parametrized Quantum Circuits\n",
    "\n",
    "In this Notebook we are going to implement a Quantum version of the Reinforcement Learning technique called Deep Q-learning, which uses a Deep Neural Network, named *Deep Q-Network* (hence DQN), to approximate the optimal state-action pair Q-values $Q^\\ast(s,a)$ characterizing the reinforcement learning task to be solved.  \n",
    "\n",
    "But since this is a Qiskit's Hackathon, let's throw some quantumness in there! \n",
    "In fact, a natural question arise in the mind of a quantum enthusiast: what if we substitute the Deep Neural Network with a quantum parametric circuit, playing the role of a Quantum Neural Network? That's exactly the approach we are going to follow in this notebook, and in particular we are recreating a simplified, yet efficient, version of the algorithm proposed by Skolik et al [[1]](#1), but written entirely in Qiskit! \n",
    "\n",
    "For this project, we will be using the brand new Qiskit Machine Learning [[2]](#2) module to create the quantum neural network and iterface it with PyTorch [[3]](#3) using Qiskit's `TorchConnector` to use fast and seamless evaluation of gradients! At last, we connect this setup with the `CartPole` environment created using OpenAI `gym` [[4]](#4), an open-source library for Reinforcement Learning.  \n",
    "\n",
    "Without further ado, let's code! \n",
    "\n",
    "---\n",
    "### References\n",
    "\n",
    "<a id=\"1\">[1]</a> \n",
    "Andrea Skolik, Sofiene Jerbi and Vedran Dunjko (2019), *Quantum agents in the Gym: a variational quantum algorithm for deep Q-learning*, [arXiv:2103.15084](https://arxiv.org/abs/2103.15084).\n",
    "\n",
    "<a id=\"2\">[2]</a> \n",
    "IBM, Qiskit Quantum Machine Learning repository, [GitHub](https://github.com/Qiskit/qiskit-machine-learning).\n",
    "\n",
    "<a id=\"3\">[3]</a> \n",
    "Adam Paszke, Sam Gross, Soumith Chintala, Gregory Chanan, Edward Yang, Zachary DeVito, Zeming Lin, Alban Desmaison, Luca Antiga,  and Adam Lerer (2017), *Automatic differentiation in PyTorch*, NIPS-W. PyTorch [Website](https://pytorch.org/), [GitHub](https://github.com/pytorch/pytorch).\n",
    "\n",
    "<a id=\"4\">[4]</a> \n",
    "OpenAI [Website](https://openai.com/), [Github](https://github.com/openai/gym)."
   ]
  },
  {
   "cell_type": "markdown",
   "metadata": {},
   "source": [
    "#### Import of relevant packages"
   ]
  },
  {
   "cell_type": "code",
   "execution_count": 210,
   "metadata": {
    "ExecuteTime": {
     "end_time": "2024-03-01T21:20:31.335762500Z",
     "start_time": "2024-03-01T21:20:31.279720309Z"
    }
   },
   "outputs": [],
   "source": [
    "# General imports\n",
    "import numpy as np\n",
    "import matplotlib.pyplot as plt\n",
    "\n",
    "from qiskit.circuit.library import TwoLocal\n",
    "\n",
    "import qiskit as qk\n",
    "\n",
    "from qiskit_machine_learning.connectors import TorchConnector\n",
    "\n",
    "# Fix seed for reproducibility\n",
    "seed = 42\n",
    "np.random.seed(seed)\n",
    "\n",
    "# To get smooth animations on Jupyter Notebooks. \n",
    "# Note: these plotting function are taken from https://github.com/ageron/handson-ml2\n",
    "import matplotlib as mpl\n",
    "import matplotlib.animation as animation\n",
    "mpl.rc('animation', html='jshtml')\n",
    "\n",
    "def update_scene(num, frames, patch):\n",
    "    patch.set_data(frames[num])\n",
    "    return patch,\n",
    "\n",
    "def plot_animation(frames, repeat=False, interval=40):\n",
    "    fig = plt.figure()\n",
    "    patch = plt.imshow(frames[0])\n",
    "    plt.axis('off')\n",
    "    anim = animation.FuncAnimation(\n",
    "        fig, update_scene, fargs=(frames, patch),\n",
    "        frames=len(frames), repeat=repeat, interval=interval)\n",
    "    plt.close()\n",
    "    return anim"
   ]
  },
  {
   "cell_type": "markdown",
   "metadata": {},
   "source": [
    "## Definition of the *Parametrized Quantum Circuit* (PQC)  \n",
    "\n",
    "The first step in our Quantum Reinforcement Learning journey with quantum neural networks, is to choose the specific structure of the quantum circuit.  \n",
    "\n",
    "In particular, we need two things: first, a way to encode classical data into a quantum circuit, second a parametrized variational circuit, which is the trainable part of the quantum neural network that we optimize to solve the reinforcement learning task. As said previously, we implement the same structure proposed in [[1]](#1).  \n",
    "\n",
    "So, we define the following two functions, `encoding_circuit` and  `parametrized_circuit`, each implementing one of the two steps above.\n",
    "\n",
    "##### `encoding_circuit`\n",
    "\n",
    "This function is used to load on the circuit the classical inputs. In our case, the inputs are the state variables of the `CartPole` environment, which consists of an array of 4 numbers, i.e. the state of the system is given by $\\vec{s} \\in \\mathbb{R}^4$. These features are encoded on a quantum register of 4 qubits initized in zero $|0000\\rangle$ by means of $R_x$ rotations.\n",
    "\n",
    "####  `parametrized_circuit`  \n",
    "\n",
    "This function creates the full parametrized quantum circuit, given by econding plus variational ansatz. The variational ansatz consists of a repeated structure of $R_y$ and $R_z$ rotations, followed by a circular entagling scheme made of $CZ$ gates. It is possible to choose the number of repetitions (*layers*) in the variational quantum circuit, as well as wether to use *data reuploading*, i.e. loading again the classical data at the start of each new layer, in order to increase the circuit's expressivity (see [[1]](#1) for further details).  \n",
    "Both inputs and weights (trainable parameters) are created as Qiskit's `Parameters`."
   ]
  },
  {
   "cell_type": "code",
   "execution_count": 211,
   "metadata": {
    "ExecuteTime": {
     "end_time": "2024-03-01T21:20:31.351374816Z",
     "start_time": "2024-03-01T21:20:31.342636663Z"
    }
   },
   "outputs": [],
   "source": [
    "def encoding_circuit(inputs, num_qubits = 4, *args):\n",
    "    \"\"\"\n",
    "    Encode classical input data (i.e. the state of the enironment) on a quantum circuit. \n",
    "    To be used inside the `parametrized_circuit` function. \n",
    "    \n",
    "    Args\n",
    "    -------\n",
    "    inputs (list): a list containing the classical inputs.\n",
    "    num_qubits (int): number of qubits in the quantum circuit.\n",
    "    \n",
    "    Return\n",
    "    -------\n",
    "    qc (QuantumCircuit): quantum circuit with encoding gates.\n",
    "    \n",
    "    \"\"\"\n",
    "    \n",
    "    qc = qk.QuantumCircuit(num_qubits)\n",
    "    \n",
    "    # Encode data with a RX rotation\n",
    "    for i in range(len(inputs)): \n",
    "        qc.rx(inputs[i], i)\n",
    "        \n",
    "    return qc\n",
    "\n",
    "def parametrized_circuit(num_qubits = 4, reuploading = False, reps = 2, insert_barriers = True, meas = False):\n",
    "    \"\"\"\n",
    "    Create the Parameterized Quantum Circuit (PQC) for estimating Q-values.\n",
    "    It implements the architecure proposed in Skolik et al. arXiv:2104.15084.\n",
    "    \n",
    "    Args\n",
    "    -------\n",
    "    num_qubit (int): number of qubits in the quantum circuit. \n",
    "    reuploading (bool): True if want to use data reuploading technique.\n",
    "    reps (int): number of repetitions (layers) in the variational circuit. \n",
    "    insert_barrirerd (bool): True to add barriers in between gates, for better drawing of the circuit. \n",
    "    meas (bool): True to add final measurements on the qubits. \n",
    "    \n",
    "    Return\n",
    "    -------\n",
    "    qc (QuantumCircuit): the full parametrized quantum circuit. \n",
    "    \"\"\"\n",
    "    \n",
    "    qr = qk.QuantumRegister(num_qubits, 'qr')\n",
    "    qc = qk.QuantumCircuit(qr)\n",
    "    \n",
    "    if meas:\n",
    "        qr = qk.QuantumRegister(num_qubits, 'qr')\n",
    "        cr = qk.ClassicalRegister(num_qubits, 'cr')\n",
    "        qc = qk.QuantumCircuit(qr,cr)\n",
    "    \n",
    "    \n",
    "    if not reuploading:\n",
    "        \n",
    "        # Define a vector containg Inputs as parameters (*not* to be optimized)\n",
    "        inputs = qk.circuit.ParameterVector('x', num_qubits)\n",
    "                \n",
    "        # Encode classical input data\n",
    "        qc.compose(encoding_circuit(inputs, num_qubits = num_qubits), inplace = True)\n",
    "        if insert_barriers: qc.barrier()\n",
    "        \n",
    "        # Variational circuit\n",
    "        qc.compose(TwoLocal(num_qubits, ['ry', 'rz'], 'cz', 'circular', \n",
    "               reps=reps, insert_barriers= insert_barriers, \n",
    "               skip_final_rotation_layer = True), inplace = True)\n",
    "        if insert_barriers: qc.barrier()\n",
    "        \n",
    "        # Add final measurements\n",
    "        if meas: qc.measure(qr,cr)\n",
    "        \n",
    "    elif reuploading:\n",
    "        \n",
    "        # Define a vector containg Inputs as parameters (*not* to be optimized)\n",
    "        inputs = qk.circuit.ParameterVector('x', num_qubits)\n",
    "                \n",
    "        # Define a vector containng variational parameters\n",
    "        θ = qk.circuit.ParameterVector('θ', 2 * num_qubits * reps)\n",
    "        \n",
    "        # Iterate for a number of repetitions\n",
    "        for rep in range(reps):\n",
    "\n",
    "            # Encode classical input data\n",
    "            qc.compose(encoding_circuit(inputs, num_qubits = num_qubits), inplace = True)\n",
    "            if insert_barriers: qc.barrier()\n",
    "                \n",
    "            # Variational circuit (does the same as TwoLocal from Qiskit)\n",
    "            for qubit in range(num_qubits):\n",
    "                qc.ry(θ[qubit + 2*num_qubits*(rep)], qubit)\n",
    "                qc.rz(θ[qubit + 2*num_qubits*(rep) + num_qubits], qubit)\n",
    "            if insert_barriers: qc.barrier()\n",
    "                \n",
    "            # Add entanglers (this code is for a circular entangler)\n",
    "            qc.cz(qr[-1], qr[0])\n",
    "            for qubit in range(num_qubits-1):\n",
    "                qc.cz(qr[qubit], qr[qubit+1])\n",
    "            if insert_barriers: qc.barrier()\n",
    "                        \n",
    "        # Add final measurements\n",
    "        if meas: qc.measure(qr,cr)\n",
    "        \n",
    "    return qc"
   ]
  },
  {
   "cell_type": "markdown",
   "metadata": {},
   "source": [
    "### Create the PQC  \n",
    "\n",
    "We can use the functions just defined to create the Parametrized Quantum Circuit:"
   ]
  },
  {
   "cell_type": "code",
   "execution_count": 212,
   "metadata": {
    "ExecuteTime": {
     "end_time": "2024-03-01T21:20:31.732186082Z",
     "start_time": "2024-03-01T21:20:31.352449892Z"
    }
   },
   "outputs": [
    {
     "data": {
      "text/plain": "<Figure size 2222.57x1204 with 1 Axes>",
      "image/png": "[encoded data removed]"
     },
     "execution_count": 212,
     "metadata": {},
     "output_type": "execute_result"
    }
   ],
   "source": [
    "# Select the number of qubits\n",
    "num_qubits = 4\n",
    "\n",
    "# Generate the Parametrized Quantum Circuit (note the flags reuploading and reps)\n",
    "qc = parametrized_circuit(num_qubits = num_qubits, \n",
    "                          reuploading = True, \n",
    "                          reps = 6)\n",
    "\n",
    "# Fetch the parameters from the circuit and divide them in Inputs (X) and Trainable Parameters (params)\n",
    "# The first four parameters are for the inputs \n",
    "X = list(qc.parameters)[: num_qubits]\n",
    "\n",
    "# The remaining ones are the trainable weights of the quantum neural network\n",
    "params = list(qc.parameters)[num_qubits:]\n",
    "\n",
    "qc.draw(\"mpl\", style=\"iqx\")\n"
   ]
  },
  {
   "cell_type": "markdown",
   "metadata": {},
   "source": [
    "### Create a `PyTorch` layer  \n",
    "\n",
    "We can sse Qiskit's brand new `CircuitQNN` and `TorchConnector` functionalities to create a `PyTorch` model from the parametrized quantum circuit: "
   ]
  },
  {
   "cell_type": "code",
   "execution_count": 213,
   "metadata": {
    "ExecuteTime": {
     "end_time": "2024-03-01T21:20:31.884345505Z",
     "start_time": "2024-03-01T21:20:31.769604011Z"
    }
   },
   "outputs": [
    {
     "name": "stderr",
     "output_type": "stream",
     "text": [
      "No interpret function given, output_shape will be automatically determined as 2^num_qubits.\n"
     ]
    }
   ],
   "source": [
    "from qiskit_machine_learning.neural_networks import SamplerQNN\n",
    "\n",
    "# Select a quantum backend to run the simulation of the quantum circuit\n",
    "# qi = QuantumInstance(qk.Aer.get_backend('statevector_simulator'))\n",
    "\n",
    "# Create a Quantum Neural Network object starting from the quantum circuit defined above\n",
    "qnn=SamplerQNN(circuit=qc, input_params=X, weight_params=params, output_shape=2)\n",
    "\n",
    "# Connect to PyTorch\n",
    "initial_weights = (2*np.random.rand(qnn.num_weights) - 1)\n",
    "quantum_nn = TorchConnector(qnn)"
   ]
  },
  {
   "cell_type": "markdown",
   "metadata": {},
   "source": [
    "## Classical pre- and post-processing layers  \n",
    "\n",
    "In order for the model to function properly, classical pre- and post-processing layers are needed. Both of these will contains parameters hence will be trainable and optimized duirng the draining of the model.  \n",
    "\n",
    "We define such layers as classes inheriting from `PyTorch`'s `torch.nn.Module`.  \n",
    "\n",
    "#### `encoding_layer`  (not to be confused with the quantum encoding circuit)\n",
    "\n",
    "First, we define the classical pre-processing (*encoding*) layer, which takes the classical inputs $\\vec{s}= (s_0, s_1, s_2, s_3)$, multiplies them by a trainable parameters $\\vec{w}= (w_0, w_1, w_2, w_3)$, and then applies an $\\arctan$ on it, thus leading to the overall mapping:  \n",
    "\n",
    "$$ \n",
    "\\vec{s} \\rightarrow \\vec{s}' = (s'_0, s'_1, s'_2, s'_3)\\quad\n",
    "{\\rm{with}}\\quad s'_i = \\arctan(w_i \\cdot s_i)\\, .\n",
    "$$  "
   ]
  },
  {
   "cell_type": "code",
   "outputs": [],
   "source": [
    "import torch\n",
    "from torch import Tensor"
   ],
   "metadata": {
    "collapsed": false,
    "ExecuteTime": {
     "end_time": "2024-03-01T21:20:31.885095287Z",
     "start_time": "2024-03-01T21:20:31.769832294Z"
    }
   },
   "execution_count": 214
  },
  {
   "cell_type": "code",
   "execution_count": 215,
   "metadata": {
    "ExecuteTime": {
     "end_time": "2024-03-01T21:20:31.885416596Z",
     "start_time": "2024-03-01T21:20:31.769875814Z"
    }
   },
   "outputs": [],
   "source": [
    "class encoding_layer(torch.nn.Module):\n",
    "    def __init__(self, num_qubits = 4):\n",
    "        super().__init__()\n",
    "        \n",
    "        # Define weights for the layer\n",
    "        weights = torch.Tensor(num_qubits)\n",
    "        print(weights)\n",
    "        self.weights = torch.nn.Parameter(weights)\n",
    "        torch.nn.init.uniform_(self.weights, -1, 1) # <--  Initialization strategy\n",
    "        print(self.weights)\n",
    "        \n",
    "    def forward(self, x):\n",
    "        \"\"\"Forward step, as explained above.\"\"\"\n",
    "        \n",
    "        if not isinstance(x, Tensor):\n",
    "            x = Tensor(x)\n",
    "        \n",
    "        x = self.weights * x\n",
    "        \n",
    "        x = torch.atan(x)\n",
    "                \n",
    "        return x"
   ]
  },
  {
   "cell_type": "markdown",
   "metadata": {},
   "source": [
    "#### `exp_val_layer`\n",
    "Then, we create the classical post-processing layer, which takes as input the output of the quantum circuit $\\vec{p} = (p_0, p_1,\\cdots, p_{15})$, consisting of the probability vector of size $2^{\\rm n\\_qubits}$ (one entry per computational basis' state).  \n",
    "> Using Qiskit's ordering of the qubits, $p_0$ corresponds to the probability of measuring state $|0000\\rangle$, $p_1$ probability of measuring state $|0001\\rangle$, and so on up until $p_{15}$, corresponding to the probability of measuring $|1111\\rangle$.   \n",
    "\n",
    "Given these probabilities, the `exp_val_layer` evaluates the expectation values $\\langle Z_0 Z_1\\rangle$ and $\\langle Z_2 Z_3\\rangle$, corresponding to the Q-values $Q(s,a)$ of the two possible actions $a$: \"*left*\" or \"*right*\". At last, these values are shifted in $[0,1]$ and multiplied by a trainable weight each. \n",
    "\n",
    "#### More in detail... \n",
    "The math behind this layer is as follows. Be $O_a$ the operator corresponding to action $a$, which are taken to be $O_{\\rm left} = Z_0 Z_1$ and $O_{\\rm right} = Z_2 Z_3$.  \n",
    "> By $Z_0 Z_1$ we mean the Pauli Operator $Z$ acting of qubits '0' and '1', and identities on the other qubits, i.e the operator $Z_0 Z_1 \\leftarrow Z_0 \\otimes Z_1 \\otimes \\mathbb{1}_2 \\otimes \\mathbb{1}_3$. Same goes for $Z_3 Z_4$.  \n",
    "\n",
    "The Q-values $Q(s, a)$ of action $a$ given a state $s$ is given by:\n",
    "\n",
    "$$\n",
    "Q(s, a) = w_{a}\\cdot \\frac{\\langle \\boldsymbol{0} | U_{\\theta}(\\vec{s})^\\dagger O_a U_{\\theta}(\\vec{s}) |\\boldsymbol{0}\\rangle +1}{2}\n",
    "$$\n",
    "\n",
    "where $U_{\\theta}(\\vec{s})$ denotes the quantum neural network (which is a function of the input state $s$ and of the variational parameters $\\theta$), and $w_a$ denotes a new trainable weight, one for each of the actions. \n",
    "\n",
    "Thus, the final output of the `exp_val_layer` consists of the pair of Q-values: $\\big[Q(s, a = {\\rm left}),\\, Q(s, a = {\\rm right})\\big]$. \n",
    "\n",
    "In order to go from the vector of probabilities $\\vec{p}$ to the expectation values $\\langle Z_0 Z_1\\rangle$ and $\\langle Z_2 Z_3\\rangle$, one can do the following.  \n",
    "Be $|\\psi\\rangle = U_{\\theta}(\\vec{s})|0000\\rangle$ the state created by the Parametrized Quantum Circuit, on which we want to evaluate the expectation vales. Then  \n",
    "\n",
    "$$\n",
    "\\langle Z_j Z_k\\rangle = \\langle \\psi |Z_j Z_k \\mathbb{1}|\\psi\\rangle = \\sum_{i = 0}^{15} \\langle \\psi |\\underbrace{Z_j Z_k |i\\rangle}_{ = f_{kj}(i)|i\\rangle}\\langle i |\\psi\\rangle = \\sum_{i=0}^{15}f_{kj}(i)|\\langle i | \\psi \\rangle |^2 = \\sum_{i=0}^{15}f_{jk}(i) \\cdot p_i\\,\n",
    "$$\n",
    "\n",
    "where $f_{jk}(i)$ is given by  \n",
    "\n",
    "$$\n",
    "Z_j Z_k |i\\rangle = Z_j Z_k |i_3 i_2 i_1 i_0\\rangle = (-)^{i_j}(-)^{i_k}|i_3 i_2 i_1 i_0\\rangle = (-)^{i_j+i_k}|i\\rangle \\quad \\big(\\text{NOTE: Qiskit ordering is being used!}\\big)\\\\\n",
    "\\implies \\langle Z_j Z_k\\rangle = \\sum_{i} (-)^{i_j + i_k} p_i\n",
    "$$\n",
    "\n",
    "One can check manually that (using `Qiskit` *little endian* ordering of the qubits):  \n",
    "\n",
    "$$\n",
    "Z_0 Z_1 \\rightarrow \\vec{f}_{01} = (1,-1,-1,1,1,-1,-1,1,1,-1,-1,1,1,-1,-1,1)\\\\\n",
    "Z_2 Z_3 \\rightarrow \\vec{f}_{23} = (-1,-1,-1,-1,1,1,1,1,-1,-1,-1,-1,1,1,1,1)\n",
    "$$\n"
   ]
  },
  {
   "cell_type": "code",
   "execution_count": 216,
   "metadata": {
    "ExecuteTime": {
     "end_time": "2024-03-01T21:20:31.885728284Z",
     "start_time": "2024-03-01T21:20:31.769919509Z"
    }
   },
   "outputs": [],
   "source": [
    "class exp_val_layer(torch.nn.Module):\n",
    "    def __init__(self, action_space = 2):\n",
    "        super().__init__()\n",
    "        \n",
    "        # Define the weights for the layer\n",
    "        weights = torch.Tensor(action_space)\n",
    "        self.weights = torch.nn.Parameter(weights)\n",
    "        torch.nn.init.uniform_(self.weights, 35, 40) # <-- Initialization strategy (heuristic choice)\n",
    "        \n",
    "        # Masks that map the vector of probabilities to <Z_0*Z_1> and <Z_2*Z_3>\n",
    "        self.mask_ZZ_12 = torch.tensor([1.,-1.,-1.,1.,1.,-1.,-1.,1.,1.,-1.,-1.,1.,1.,-1.,-1.,1.], requires_grad = False)\n",
    "        self.mask_ZZ_34 = torch.tensor([-1.,-1.,-1.,-1.,1.,1.,1.,1.,-1.,-1.,-1.,-1.,1.,1.,1.,1.], requires_grad = False)\n",
    "        \n",
    "    def forward(self, x):\n",
    "        \"\"\"Forward step, as described above.\"\"\"\n",
    "        \n",
    "        expval_ZZ_12 = self.mask_ZZ_12 * x\n",
    "        expval_ZZ_34 = self.mask_ZZ_34 * x\n",
    "        \n",
    "        # Single sample\n",
    "        if len(x.shape) == 1:\n",
    "            expval_ZZ_12 = torch.sum(expval_ZZ_12)\n",
    "            expval_ZZ_34 = torch.sum(expval_ZZ_34)\n",
    "            out = torch.cat((expval_ZZ_12.unsqueeze(0), expval_ZZ_34.unsqueeze(0)))\n",
    "        \n",
    "        # Batch of samples\n",
    "        else:\n",
    "            expval_ZZ_12 = torch.sum(expval_ZZ_12, dim = 1, keepdim = True)\n",
    "            expval_ZZ_34 = torch.sum(expval_ZZ_34, dim = 1, keepdim = True)\n",
    "            out = torch.cat((expval_ZZ_12, expval_ZZ_34), 1)\n",
    "                \n",
    "        return self.weights * ((out + 1.) / 2.)"
   ]
  },
  {
   "cell_type": "markdown",
   "metadata": {},
   "source": [
    "## Quantum Deep Q-network  \n",
    "\n",
    "We now have all the necessary ingredients to build the full hybrid quantum-classical neural network, which will be trained to solve the `CartPole` environment. \n",
    "\n",
    "### Final model  \n",
    "\n",
    "We construct the final hybrid classical-quantum neural network by stacking together the three layers:  \n",
    "`model` = `encoding_layer` --> `quantum_layer` --> `exp_val_layer`"
   ]
  },
  {
   "cell_type": "code",
   "execution_count": 217,
   "metadata": {
    "ExecuteTime": {
     "end_time": "2024-03-01T21:20:31.886200676Z",
     "start_time": "2024-03-01T21:20:31.770032662Z"
    }
   },
   "outputs": [
    {
     "name": "stdout",
     "output_type": "stream",
     "text": [
      "tensor([0., 0., 0., 0.])\n",
      "Parameter containing:\n",
      "tensor([-0.8169,  0.2950, -0.6410, -0.9891], requires_grad=True)\n"
     ]
    },
    {
     "data": {
      "text/plain": "OrderedDict([('0.weights', tensor([-0.8169,  0.2950, -0.6410, -0.9891])),\n             ('1.weight',\n              tensor([-0.5722,  0.0855, -0.4837, -0.4277, -0.3358,  0.1779, -0.4200, -0.8553,\n                      -0.2071,  0.4955,  0.8686, -0.4298, -0.4577,  0.8917,  0.8412, -0.9568,\n                      -0.3002,  0.9940, -0.4433,  0.3994, -0.4128,  0.0534,  0.3386,  0.0368,\n                      -0.8193, -0.1547,  0.5048, -0.3042, -0.2986,  0.5122,  0.3542,  0.8605,\n                      -0.5060,  0.5268,  0.2175, -0.4589, -0.2056, -0.1561, -0.8351,  0.4567,\n                       0.7005,  0.2668, -0.6104,  0.0407, -0.6059,  0.1410,  0.2609, -0.7072])),\n             ('1._weights',\n              tensor([-0.5722,  0.0855, -0.4837, -0.4277, -0.3358,  0.1779, -0.4200, -0.8553,\n                      -0.2071,  0.4955,  0.8686, -0.4298, -0.4577,  0.8917,  0.8412, -0.9568,\n                      -0.3002,  0.9940, -0.4433,  0.3994, -0.4128,  0.0534,  0.3386,  0.0368,\n                      -0.8193, -0.1547,  0.5048, -0.3042, -0.2986,  0.5122,  0.3542,  0.8605,\n                      -0.5060,  0.5268,  0.2175, -0.4589, -0.2056, -0.1561, -0.8351,  0.4567,\n                       0.7005,  0.2668, -0.6104,  0.0407, -0.6059,  0.1410,  0.2609, -0.7072])),\n             ('2.weights', tensor([36.8970, 39.9842]))])"
     },
     "execution_count": 217,
     "metadata": {},
     "output_type": "execute_result"
    }
   ],
   "source": [
    "# Classical trainable preprocessing\n",
    "encoding = encoding_layer()\n",
    "\n",
    "# Classical trainable postprocessing\n",
    "exp_val = exp_val_layer()\n",
    "\n",
    "# Stack the classical and quantum layers together \n",
    "model = torch.nn.Sequential(encoding, \n",
    "                            quantum_nn, \n",
    "                            exp_val)\n",
    "\n",
    "model.state_dict()"
   ]
  },
  {
   "cell_type": "markdown",
   "metadata": {},
   "source": [
    "If you want don't want to train the model youself (also because it takes extremely long, ~24h), you can load pre-trained weights with (decomment the cell first):"
   ]
  },
  {
   "cell_type": "markdown",
   "metadata": {},
   "source": [
    "#### Create the `CartPole` environment \n",
    "\n",
    "Let's use OpenAI's `gym` library to crete the Reinforcement Learning environment, in particular `CartPole-v1`:"
   ]
  },
  {
   "cell_type": "code",
   "execution_count": 218,
   "metadata": {
    "ExecuteTime": {
     "end_time": "2024-03-01T21:20:31.886532169Z",
     "start_time": "2024-03-01T21:20:31.770102316Z"
    }
   },
   "outputs": [],
   "source": [
    "import gymnasium as gym\n",
    "env = gym.make(\"CartPole-v1\")\n",
    "input_shape = env.observation_space.shape\n",
    "n_outputs = env.action_space.n"
   ]
  },
  {
   "cell_type": "markdown",
   "metadata": {},
   "source": [
    "### Training Functions  \n",
    "\n",
    "Ok, so we have the environment and we have a quantum-classical neural network, but how the heck are we going to actually train the quantum agent?  \n",
    "\n",
    "The training algortihm used is classical Deep Q-Learning, but with the substitution of the classical net, with a quantum one. The main idea is to first let the agent behave randomly, so that it *explores* the environment and accumulate some experiences in memory. Then, wo go through an *exploitation* phase, where the agent learns from the past experiences to solve the environment. Technically, as time goes by, the agent makes more and more accurate estimates of the optimal Q-values $Q^\\ast(s,a)$, eventually finding an optimal policy for balancing the pole. This explanation is super qualitative and sketchy, and if you're not familiar with RL, you may want to read some theory of Q-learning.   \n",
    "\n",
    "Alternatively, just run the code and be happy. \n",
    "\n",
    "We now proceed writing the functions for the Approximate Q-Learning algorithm. These are based on the implementation found here: https://github.com/ageron/handson-ml2"
   ]
  },
  {
   "cell_type": "markdown",
   "metadata": {},
   "source": [
    "This code is used to store memories of the past experiences for the agents, which are used during the training of the agent."
   ]
  },
  {
   "cell_type": "code",
   "execution_count": 219,
   "metadata": {
    "ExecuteTime": {
     "end_time": "2024-03-01T21:20:31.886848436Z",
     "start_time": "2024-03-01T21:20:31.770144290Z"
    }
   },
   "outputs": [],
   "source": [
    "from collections import deque\n",
    "\n",
    "replay_memory = deque(maxlen=2000)"
   ]
  },
  {
   "cell_type": "code",
   "execution_count": 220,
   "metadata": {
    "ExecuteTime": {
     "end_time": "2024-03-01T21:20:31.887176360Z",
     "start_time": "2024-03-01T21:20:31.771636762Z"
    }
   },
   "outputs": [],
   "source": [
    "def epsilon_greedy_policy(state, epsilon=0):\n",
    "    \"\"\"Manages the transition from the *exploration* to *exploitation* phase\"\"\"\n",
    "    if np.random.rand() < epsilon:\n",
    "        return np.random.randint(n_outputs)\n",
    "    else:\n",
    "        with torch.no_grad():\n",
    "            \n",
    "            Q_values = model(Tensor(state)).numpy()\n",
    "        return np.argmax(Q_values[0])\n",
    "    \n",
    "def sample_experiences(batch_size):\n",
    "    \"\"\"Sample some past experiences from the replay memory\"\"\"\n",
    "    indices = np.random.randint(len(replay_memory), size=batch_size)\n",
    "    batch = [replay_memory[index] for index in indices]\n",
    "    states, actions, rewards, next_states, dones = [\n",
    "        np.array([experience[field_index] for experience in batch])\n",
    "        for field_index in range(5)]\n",
    "    return states, actions, rewards, next_states, dones\n",
    "\n",
    "def play_one_step(env, state, epsilon):\n",
    "    \"\"\"Perform one action in the environment and register the state of the system\"\"\"\n",
    "    action = epsilon_greedy_policy(state, epsilon)\n",
    "    next_state, reward, done,truncated, info = env.step(action)\n",
    "    replay_memory.append((state, action, reward, next_state, done))\n",
    "    return next_state, reward, done,truncated, info\n",
    "\n",
    "def sequential_training_step(batch_size,optimizer):\n",
    "    \"\"\"\n",
    "    Actual training routine. Implements the Deep Q-Learning algorithm.\n",
    "    \n",
    "    This implementation evaluates individual losses sequentially instead of using batches. \n",
    "    This is due to an issue in the TorchConnector, which yields vanishing gradients if it \n",
    "    is called with a batch of data (see https://github.com/Qiskit/qiskit-machine-learning/issues/100).\n",
    "    \n",
    "    Use this training for the quantum model. If using the classical model, you can use indifferently \n",
    "    this implementation or the batched one below. \n",
    "    \"\"\"\n",
    "    \n",
    "    # Sample past experiences \n",
    "    experiences = sample_experiences(batch_size)\n",
    "    states, actions, rewards, next_states, dones = experiences\n",
    "    \n",
    "    # Evaluates Target Q-values\n",
    "    with torch.no_grad():\n",
    "        next_Q_values = model(Tensor(next_states)).numpy()\n",
    "    max_next_Q_values = np.max(next_Q_values, axis=1)\n",
    "    target_Q_values = (rewards + (1 - dones) * discount_rate * max_next_Q_values)\n",
    "    \n",
    "    # Accumulate Loss sequentially (if batching data, gradients of the parameters are vanishing)\n",
    "    loss = 0.\n",
    "    for j, state in enumerate(states):\n",
    "        single_Q_value = model(Tensor(state))\n",
    "        Q_value = single_Q_value[actions[j]]\n",
    "        loss += (target_Q_values[j] - Q_value)**2\n",
    "    \n",
    "    # Evaluate the gradients and update the parameters \n",
    "    optimizer.zero_grad()\n",
    "    loss.backward()\n",
    "    optimizer.step()\n"
   ]
  },
  {
   "cell_type": "markdown",
   "metadata": {},
   "source": [
    "#### Define hyperparameters  \n",
    "\n",
    "Define some hyperparameters used in training:"
   ]
  },
  {
   "cell_type": "code",
   "execution_count": 221,
   "metadata": {
    "ExecuteTime": {
     "end_time": "2024-03-01T21:20:31.887721174Z",
     "start_time": "2024-03-01T21:20:31.774144261Z"
    }
   },
   "outputs": [],
   "source": [
    "from torch.optim import Adam\n",
    "\n",
    "batch_size = 16\n",
    "discount_rate = 0.99\n",
    "optimizer = Adam(model.parameters(), lr=1e-2)"
   ]
  },
  {
   "cell_type": "markdown",
   "metadata": {},
   "source": [
    "## Unleash Elliot, the quantum agent  \n",
    "\n",
    "We now are really ready to unleash Elliot, the quantum agent, to learn its way to solve the `CartPole` environment. \n",
    "\n",
    "Note that the **training is very computationally intensive, and in our simulations it took ~24h to complete**. Unless you really want to train the agent yourself, you can load the pre-trained weights in the model (see cells above, or below) and just enjoy the trained agent. Otherwise, you can let the agent train for few episodes only (start with few hundreds) to get the gist of it. "
   ]
  },
  {
   "cell_type": "code",
   "execution_count": 223,
   "metadata": {
    "ExecuteTime": {
     "end_time": "2024-03-01T21:29:01.673521349Z",
     "start_time": "2024-03-01T21:20:40.347261524Z"
    }
   },
   "outputs": [
    {
     "name": "stdout",
     "output_type": "stream",
     "text": [
      "Episode: 21, Steps : 12, eps: 0.972tensor(407.3929, grad_fn=<AddBackward0>)\n",
      "Episode: 22, Steps : 35, eps: 0.971tensor(296.2227, grad_fn=<AddBackward0>)\n",
      "Episode: 23, Steps : 14, eps: 0.969tensor(396.3368, grad_fn=<AddBackward0>)\n",
      "Episode: 24, Steps : 22, eps: 0.968tensor(326.3285, grad_fn=<AddBackward0>)\n",
      "Episode: 25, Steps : 18, eps: 0.967tensor(391.9464, grad_fn=<AddBackward0>)\n",
      "Episode: 26, Steps : 21, eps: 0.965tensor(488.1596, grad_fn=<AddBackward0>)\n",
      "Episode: 27, Steps : 19, eps: 0.964tensor(320.3730, grad_fn=<AddBackward0>)\n",
      "Episode: 28, Steps : 13, eps: 0.963tensor(227.4160, grad_fn=<AddBackward0>)\n",
      "Episode: 29, Steps : 41, eps: 0.961tensor(271.5911, grad_fn=<AddBackward0>)\n",
      "Episode: 30, Steps : 19, eps: 0.960tensor(396.3112, grad_fn=<AddBackward0>)\n",
      "Episode: 31, Steps : 15, eps: 0.959tensor(207.8323, grad_fn=<AddBackward0>)\n",
      "Episode: 32, Steps : 39, eps: 0.957tensor(510.7310, grad_fn=<AddBackward0>)\n",
      "Episode: 33, Steps : 11, eps: 0.956tensor(399.7264, grad_fn=<AddBackward0>)\n",
      "Episode: 34, Steps : 10, eps: 0.955tensor(144.7799, grad_fn=<AddBackward0>)\n",
      "Episode: 35, Steps : 22, eps: 0.953tensor(488.4551, grad_fn=<AddBackward0>)\n",
      "Episode: 36, Steps : 36, eps: 0.952tensor(93.3736, grad_fn=<AddBackward0>)\n",
      "Episode: 37, Steps : 14, eps: 0.951tensor(76.6952, grad_fn=<AddBackward0>)\n",
      "Episode: 38, Steps : 21, eps: 0.949tensor(254.5273, grad_fn=<AddBackward0>)\n",
      "Episode: 39, Steps : 25, eps: 0.948tensor(130.9586, grad_fn=<AddBackward0>)\n",
      "Episode: 40, Steps : 84, eps: 0.947tensor(89.5776, grad_fn=<AddBackward0>)\n",
      "Episode: 41, Steps : 17, eps: 0.945tensor(354.3861, grad_fn=<AddBackward0>)\n",
      "Episode: 42, Steps : 19, eps: 0.944tensor(143.0698, grad_fn=<AddBackward0>)\n",
      "Episode: 43, Steps : 16, eps: 0.943tensor(267.2558, grad_fn=<AddBackward0>)\n",
      "Episode: 44, Steps : 36, eps: 0.941tensor(546.7499, grad_fn=<AddBackward0>)\n",
      "Episode: 45, Steps : 18, eps: 0.940tensor(233.6251, grad_fn=<AddBackward0>)\n",
      "Episode: 46, Steps : 14, eps: 0.939tensor(406.9237, grad_fn=<AddBackward0>)\n",
      "Episode: 47, Steps : 11, eps: 0.937tensor(638.3342, grad_fn=<AddBackward0>)\n",
      "Episode: 48, Steps : 15, eps: 0.936tensor(307.6089, grad_fn=<AddBackward0>)\n",
      "Episode: 49, Steps : 17, eps: 0.935tensor(144.1321, grad_fn=<AddBackward0>)\n",
      "Episode: 50, Steps : 23, eps: 0.933tensor(144.2318, grad_fn=<AddBackward0>)\n",
      "Episode: 51, Steps : 16, eps: 0.932tensor(45.5899, grad_fn=<AddBackward0>)\n",
      "Episode: 52, Steps : 15, eps: 0.931tensor(36.9990, grad_fn=<AddBackward0>)\n",
      "Episode: 53, Steps : 15, eps: 0.929tensor(117.7686, grad_fn=<AddBackward0>)\n",
      "Episode: 54, Steps : 16, eps: 0.928tensor(105.5300, grad_fn=<AddBackward0>)\n",
      "Episode: 55, Steps : 32, eps: 0.927tensor(296.4957, grad_fn=<AddBackward0>)\n",
      "Episode: 56, Steps : 25, eps: 0.925tensor(81.6448, grad_fn=<AddBackward0>)\n",
      "Episode: 57, Steps : 11, eps: 0.924tensor(842.9569, grad_fn=<AddBackward0>)\n",
      "Episode: 58, Steps : 29, eps: 0.923tensor(577.4851, grad_fn=<AddBackward0>)\n",
      "Episode: 59, Steps : 26, eps: 0.921tensor(628.4043, grad_fn=<AddBackward0>)\n",
      "Episode: 60, Steps : 31, eps: 0.920tensor(619.4762, grad_fn=<AddBackward0>)\n",
      "Episode: 61, Steps : 25, eps: 0.919tensor(72.6600, grad_fn=<AddBackward0>)\n",
      "Episode: 62, Steps : 15, eps: 0.917tensor(77.4847, grad_fn=<AddBackward0>)\n",
      "Episode: 63, Steps : 11, eps: 0.916tensor(72.2972, grad_fn=<AddBackward0>)\n",
      "Episode: 64, Steps : 28, eps: 0.915tensor(89.0003, grad_fn=<AddBackward0>)\n",
      "Episode: 65, Steps : 10, eps: 0.913tensor(778.1895, grad_fn=<AddBackward0>)\n",
      "Episode: 66, Steps : 10, eps: 0.912tensor(237.0915, grad_fn=<AddBackward0>)\n",
      "Episode: 67, Steps : 12, eps: 0.911tensor(57.3605, grad_fn=<AddBackward0>)\n",
      "Episode: 68, Steps : 16, eps: 0.909tensor(1028.4376, grad_fn=<AddBackward0>)\n",
      "Episode: 69, Steps : 22, eps: 0.908tensor(76.7978, grad_fn=<AddBackward0>)\n",
      "Episode: 70, Steps : 15, eps: 0.907tensor(997.6577, grad_fn=<AddBackward0>)\n",
      "Episode: 71, Steps : 17, eps: 0.905tensor(285.8730, grad_fn=<AddBackward0>)\n",
      "Episode: 72, Steps : 16, eps: 0.904tensor(55.8980, grad_fn=<AddBackward0>)\n",
      "Episode: 73, Steps : 11, eps: 0.903tensor(601.1281, grad_fn=<AddBackward0>)\n",
      "Episode: 74, Steps : 14, eps: 0.901tensor(616.8046, grad_fn=<AddBackward0>)\n",
      "Episode: 75, Steps : 11, eps: 0.900tensor(843.8762, grad_fn=<AddBackward0>)\n",
      "Episode: 76, Steps : 29, eps: 0.899tensor(304.1992, grad_fn=<AddBackward0>)\n",
      "Episode: 77, Steps : 14, eps: 0.897tensor(593.1186, grad_fn=<AddBackward0>)\n",
      "Episode: 78, Steps : 24, eps: 0.896tensor(58.2772, grad_fn=<AddBackward0>)\n",
      "Episode: 79, Steps : 23, eps: 0.895tensor(379.1646, grad_fn=<AddBackward0>)\n",
      "Episode: 80, Steps : 44, eps: 0.893tensor(332.1978, grad_fn=<AddBackward0>)\n",
      "Episode: 81, Steps : 23, eps: 0.892tensor(42.0193, grad_fn=<AddBackward0>)\n",
      "Episode: 82, Steps : 10, eps: 0.891tensor(49.8754, grad_fn=<AddBackward0>)\n",
      "Episode: 83, Steps : 16, eps: 0.889tensor(40.8965, grad_fn=<AddBackward0>)\n",
      "Episode: 84, Steps : 37, eps: 0.888tensor(672.8342, grad_fn=<AddBackward0>)\n",
      "Episode: 85, Steps : 15, eps: 0.887tensor(541.3631, grad_fn=<AddBackward0>)\n",
      "Episode: 86, Steps : 15, eps: 0.885tensor(53.5882, grad_fn=<AddBackward0>)\n",
      "Episode: 87, Steps : 13, eps: 0.884tensor(40.5821, grad_fn=<AddBackward0>)\n",
      "Episode: 88, Steps : 24, eps: 0.883tensor(578.5393, grad_fn=<AddBackward0>)\n",
      "Episode: 89, Steps : 16, eps: 0.881tensor(254.5433, grad_fn=<AddBackward0>)\n",
      "Episode: 90, Steps : 26, eps: 0.880tensor(335.2965, grad_fn=<AddBackward0>)\n",
      "Episode: 91, Steps : 17, eps: 0.879tensor(273.6453, grad_fn=<AddBackward0>)\n",
      "Episode: 92, Steps : 12, eps: 0.877tensor(686.0634, grad_fn=<AddBackward0>)\n",
      "Episode: 93, Steps : 13, eps: 0.876tensor(52.8856, grad_fn=<AddBackward0>)\n",
      "Episode: 94, Steps : 25, eps: 0.875tensor(52.8790, grad_fn=<AddBackward0>)\n",
      "Episode: 95, Steps : 22, eps: 0.873tensor(57.5788, grad_fn=<AddBackward0>)\n",
      "Episode: 96, Steps : 16, eps: 0.872tensor(77.7087, grad_fn=<AddBackward0>)\n",
      "Episode: 97, Steps : 18, eps: 0.871tensor(67.6963, grad_fn=<AddBackward0>)\n",
      "Episode: 98, Steps : 15, eps: 0.869tensor(236.9154, grad_fn=<AddBackward0>)\n",
      "Episode: 99, Steps : 25, eps: 0.868tensor(258.6388, grad_fn=<AddBackward0>)\n",
      "Episode: 100, Steps : 45, eps: 0.867tensor(567.9986, grad_fn=<AddBackward0>)\n",
      "Episode: 101, Steps : 14, eps: 0.865tensor(32.9248, grad_fn=<AddBackward0>)\n",
      "Episode: 102, Steps : 10, eps: 0.864tensor(814.6255, grad_fn=<AddBackward0>)\n",
      "Episode: 103, Steps : 14, eps: 0.863tensor(54.0950, grad_fn=<AddBackward0>)\n",
      "Episode: 104, Steps : 16, eps: 0.861tensor(706.2387, grad_fn=<AddBackward0>)\n",
      "Episode: 105, Steps : 15, eps: 0.860tensor(18.2117, grad_fn=<AddBackward0>)\n",
      "Episode: 106, Steps : 17, eps: 0.859tensor(801.0151, grad_fn=<AddBackward0>)\n",
      "Episode: 107, Steps : 13, eps: 0.857tensor(653.1791, grad_fn=<AddBackward0>)\n",
      "Episode: 108, Steps : 20, eps: 0.856tensor(601.4616, grad_fn=<AddBackward0>)\n",
      "Episode: 109, Steps : 29, eps: 0.855tensor(914.8268, grad_fn=<AddBackward0>)\n",
      "Episode: 110, Steps : 42, eps: 0.853tensor(857.0673, grad_fn=<AddBackward0>)\n",
      "Episode: 111, Steps : 24, eps: 0.852tensor(212.6309, grad_fn=<AddBackward0>)\n",
      "Episode: 112, Steps : 14, eps: 0.851tensor(40.8523, grad_fn=<AddBackward0>)\n",
      "Episode: 113, Steps : 29, eps: 0.849tensor(49.9582, grad_fn=<AddBackward0>)\n",
      "Episode: 114, Steps : 36, eps: 0.848tensor(857.6662, grad_fn=<AddBackward0>)\n",
      "Episode: 115, Steps : 11, eps: 0.847tensor(575.9393, grad_fn=<AddBackward0>)\n",
      "Episode: 116, Steps : 14, eps: 0.845tensor(43.1562, grad_fn=<AddBackward0>)\n",
      "Episode: 117, Steps : 48, eps: 0.844tensor(563.9100, grad_fn=<AddBackward0>)\n",
      "Episode: 118, Steps : 16, eps: 0.843tensor(39.7821, grad_fn=<AddBackward0>)\n",
      "Episode: 119, Steps : 11, eps: 0.841tensor(24.3724, grad_fn=<AddBackward0>)\n",
      "Episode: 120, Steps : 17, eps: 0.840tensor(742.1210, grad_fn=<AddBackward0>)\n",
      "Episode: 121, Steps : 15, eps: 0.839tensor(211.4980, grad_fn=<AddBackward0>)\n",
      "Episode: 122, Steps : 15, eps: 0.837tensor(285.3609, grad_fn=<AddBackward0>)\n",
      "Episode: 123, Steps : 29, eps: 0.836tensor(496.3179, grad_fn=<AddBackward0>)\n",
      "Episode: 124, Steps : 15, eps: 0.835tensor(121.1361, grad_fn=<AddBackward0>)\n",
      "Episode: 125, Steps : 12, eps: 0.833tensor(733.4091, grad_fn=<AddBackward0>)\n",
      "Episode: 126, Steps : 15, eps: 0.832tensor(788.3924, grad_fn=<AddBackward0>)\n",
      "Episode: 127, Steps : 17, eps: 0.831tensor(106.2384, grad_fn=<AddBackward0>)\n",
      "Episode: 128, Steps : 9, eps: 0.829"
     ]
    },
    {
     "ename": "KeyboardInterrupt",
     "evalue": "",
     "output_type": "error",
     "traceback": [
      "\u001B[0;31m---------------------------------------------------------------------------\u001B[0m",
      "\u001B[0;31mKeyboardInterrupt\u001B[0m                         Traceback (most recent call last)",
      "Cell \u001B[0;32mIn[223], line 35\u001B[0m\n\u001B[1;32m     33\u001B[0m \u001B[38;5;66;03m# Start training only after some exploration experiences  \u001B[39;00m\n\u001B[1;32m     34\u001B[0m \u001B[38;5;28;01mif\u001B[39;00m episode \u001B[38;5;241m>\u001B[39m \u001B[38;5;241m20\u001B[39m:\n\u001B[0;32m---> 35\u001B[0m     \u001B[43msequential_training_step\u001B[49m\u001B[43m(\u001B[49m\u001B[43mbatch_size\u001B[49m\u001B[43m,\u001B[49m\u001B[43moptimizer\u001B[49m\u001B[43m)\u001B[49m\n",
      "Cell \u001B[0;32mIn[220], line 58\u001B[0m, in \u001B[0;36msequential_training_step\u001B[0;34m(batch_size, optimizer)\u001B[0m\n\u001B[1;32m     56\u001B[0m \u001B[38;5;66;03m# Evaluate the gradients and update the parameters \u001B[39;00m\n\u001B[1;32m     57\u001B[0m optimizer\u001B[38;5;241m.\u001B[39mzero_grad()\n\u001B[0;32m---> 58\u001B[0m \u001B[43mloss\u001B[49m\u001B[38;5;241;43m.\u001B[39;49m\u001B[43mbackward\u001B[49m\u001B[43m(\u001B[49m\u001B[43m)\u001B[49m\n\u001B[1;32m     59\u001B[0m \u001B[38;5;28mprint\u001B[39m(loss)\n\u001B[1;32m     60\u001B[0m optimizer\u001B[38;5;241m.\u001B[39mstep()\n",
      "File \u001B[0;32m~/PycharmProjects/quantum-computing/.venv/lib/python3.10/site-packages/torch/_tensor.py:363\u001B[0m, in \u001B[0;36mTensor.backward\u001B[0;34m(self, gradient, retain_graph, create_graph, inputs)\u001B[0m\n\u001B[1;32m    354\u001B[0m \u001B[38;5;28;01mif\u001B[39;00m has_torch_function_unary(\u001B[38;5;28mself\u001B[39m):\n\u001B[1;32m    355\u001B[0m     \u001B[38;5;28;01mreturn\u001B[39;00m handle_torch_function(\n\u001B[1;32m    356\u001B[0m         Tensor\u001B[38;5;241m.\u001B[39mbackward,\n\u001B[1;32m    357\u001B[0m         (\u001B[38;5;28mself\u001B[39m,),\n\u001B[0;32m   (...)\u001B[0m\n\u001B[1;32m    361\u001B[0m         create_graph\u001B[38;5;241m=\u001B[39mcreate_graph,\n\u001B[1;32m    362\u001B[0m         inputs\u001B[38;5;241m=\u001B[39minputs)\n\u001B[0;32m--> 363\u001B[0m \u001B[43mtorch\u001B[49m\u001B[38;5;241;43m.\u001B[39;49m\u001B[43mautograd\u001B[49m\u001B[38;5;241;43m.\u001B[39;49m\u001B[43mbackward\u001B[49m\u001B[43m(\u001B[49m\u001B[38;5;28;43mself\u001B[39;49m\u001B[43m,\u001B[49m\u001B[43m \u001B[49m\u001B[43mgradient\u001B[49m\u001B[43m,\u001B[49m\u001B[43m \u001B[49m\u001B[43mretain_graph\u001B[49m\u001B[43m,\u001B[49m\u001B[43m \u001B[49m\u001B[43mcreate_graph\u001B[49m\u001B[43m,\u001B[49m\u001B[43m \u001B[49m\u001B[43minputs\u001B[49m\u001B[38;5;241;43m=\u001B[39;49m\u001B[43minputs\u001B[49m\u001B[43m)\u001B[49m\n",
      "File \u001B[0;32m~/PycharmProjects/quantum-computing/.venv/lib/python3.10/site-packages/torch/autograd/__init__.py:173\u001B[0m, in \u001B[0;36mbackward\u001B[0;34m(tensors, grad_tensors, retain_graph, create_graph, grad_variables, inputs)\u001B[0m\n\u001B[1;32m    168\u001B[0m     retain_graph \u001B[38;5;241m=\u001B[39m create_graph\n\u001B[1;32m    170\u001B[0m \u001B[38;5;66;03m# The reason we repeat same the comment below is that\u001B[39;00m\n\u001B[1;32m    171\u001B[0m \u001B[38;5;66;03m# some Python versions print out the first line of a multi-line function\u001B[39;00m\n\u001B[1;32m    172\u001B[0m \u001B[38;5;66;03m# calls in the traceback and some print out the last line\u001B[39;00m\n\u001B[0;32m--> 173\u001B[0m \u001B[43mVariable\u001B[49m\u001B[38;5;241;43m.\u001B[39;49m\u001B[43m_execution_engine\u001B[49m\u001B[38;5;241;43m.\u001B[39;49m\u001B[43mrun_backward\u001B[49m\u001B[43m(\u001B[49m\u001B[43m  \u001B[49m\u001B[38;5;66;43;03m# Calls into the C++ engine to run the backward pass\u001B[39;49;00m\n\u001B[1;32m    174\u001B[0m \u001B[43m    \u001B[49m\u001B[43mtensors\u001B[49m\u001B[43m,\u001B[49m\u001B[43m \u001B[49m\u001B[43mgrad_tensors_\u001B[49m\u001B[43m,\u001B[49m\u001B[43m \u001B[49m\u001B[43mretain_graph\u001B[49m\u001B[43m,\u001B[49m\u001B[43m \u001B[49m\u001B[43mcreate_graph\u001B[49m\u001B[43m,\u001B[49m\u001B[43m \u001B[49m\u001B[43minputs\u001B[49m\u001B[43m,\u001B[49m\n\u001B[1;32m    175\u001B[0m \u001B[43m    \u001B[49m\u001B[43mallow_unreachable\u001B[49m\u001B[38;5;241;43m=\u001B[39;49m\u001B[38;5;28;43;01mTrue\u001B[39;49;00m\u001B[43m,\u001B[49m\u001B[43m \u001B[49m\u001B[43maccumulate_grad\u001B[49m\u001B[38;5;241;43m=\u001B[39;49m\u001B[38;5;28;43;01mTrue\u001B[39;49;00m\u001B[43m)\u001B[49m\n",
      "File \u001B[0;32m~/PycharmProjects/quantum-computing/.venv/lib/python3.10/site-packages/torch/autograd/function.py:253\u001B[0m, in \u001B[0;36mBackwardCFunction.apply\u001B[0;34m(self, *args)\u001B[0m\n\u001B[1;32m    249\u001B[0m     \u001B[38;5;28;01mraise\u001B[39;00m \u001B[38;5;167;01mRuntimeError\u001B[39;00m(\u001B[38;5;124m\"\u001B[39m\u001B[38;5;124mImplementing both \u001B[39m\u001B[38;5;124m'\u001B[39m\u001B[38;5;124mbackward\u001B[39m\u001B[38;5;124m'\u001B[39m\u001B[38;5;124m and \u001B[39m\u001B[38;5;124m'\u001B[39m\u001B[38;5;124mvjp\u001B[39m\u001B[38;5;124m'\u001B[39m\u001B[38;5;124m for a custom \u001B[39m\u001B[38;5;124m\"\u001B[39m\n\u001B[1;32m    250\u001B[0m                        \u001B[38;5;124m\"\u001B[39m\u001B[38;5;124mFunction is not allowed. You should only implement one \u001B[39m\u001B[38;5;124m\"\u001B[39m\n\u001B[1;32m    251\u001B[0m                        \u001B[38;5;124m\"\u001B[39m\u001B[38;5;124mof them.\u001B[39m\u001B[38;5;124m\"\u001B[39m)\n\u001B[1;32m    252\u001B[0m user_fn \u001B[38;5;241m=\u001B[39m vjp_fn \u001B[38;5;28;01mif\u001B[39;00m vjp_fn \u001B[38;5;129;01mis\u001B[39;00m \u001B[38;5;129;01mnot\u001B[39;00m Function\u001B[38;5;241m.\u001B[39mvjp \u001B[38;5;28;01melse\u001B[39;00m backward_fn\n\u001B[0;32m--> 253\u001B[0m \u001B[38;5;28;01mreturn\u001B[39;00m \u001B[43muser_fn\u001B[49m\u001B[43m(\u001B[49m\u001B[38;5;28;43mself\u001B[39;49m\u001B[43m,\u001B[49m\u001B[43m \u001B[49m\u001B[38;5;241;43m*\u001B[39;49m\u001B[43margs\u001B[49m\u001B[43m)\u001B[49m\n",
      "File \u001B[0;32m~/PycharmProjects/quantum-computing/.venv/lib/python3.10/site-packages/qiskit_machine_learning/connectors/torch_connector.py:169\u001B[0m, in \u001B[0;36mTorchConnector._TorchNNFunction.backward\u001B[0;34m(ctx, grad_output)\u001B[0m\n\u001B[1;32m    166\u001B[0m     grad_output \u001B[38;5;241m=\u001B[39m grad_output\u001B[38;5;241m.\u001B[39mview(\u001B[38;5;241m1\u001B[39m, \u001B[38;5;241m-\u001B[39m\u001B[38;5;241m1\u001B[39m)\n\u001B[1;32m    168\u001B[0m \u001B[38;5;66;03m# evaluate QNN gradient\u001B[39;00m\n\u001B[0;32m--> 169\u001B[0m input_grad, weights_grad \u001B[38;5;241m=\u001B[39m \u001B[43mneural_network\u001B[49m\u001B[38;5;241;43m.\u001B[39;49m\u001B[43mbackward\u001B[49m\u001B[43m(\u001B[49m\n\u001B[1;32m    170\u001B[0m \u001B[43m    \u001B[49m\u001B[43minput_data\u001B[49m\u001B[38;5;241;43m.\u001B[39;49m\u001B[43mdetach\u001B[49m\u001B[43m(\u001B[49m\u001B[43m)\u001B[49m\u001B[38;5;241;43m.\u001B[39;49m\u001B[43mcpu\u001B[49m\u001B[43m(\u001B[49m\u001B[43m)\u001B[49m\u001B[38;5;241;43m.\u001B[39;49m\u001B[43mnumpy\u001B[49m\u001B[43m(\u001B[49m\u001B[43m)\u001B[49m\u001B[43m,\u001B[49m\u001B[43m \u001B[49m\u001B[43mweights\u001B[49m\u001B[38;5;241;43m.\u001B[39;49m\u001B[43mdetach\u001B[49m\u001B[43m(\u001B[49m\u001B[43m)\u001B[49m\u001B[38;5;241;43m.\u001B[39;49m\u001B[43mcpu\u001B[49m\u001B[43m(\u001B[49m\u001B[43m)\u001B[49m\u001B[38;5;241;43m.\u001B[39;49m\u001B[43mnumpy\u001B[49m\u001B[43m(\u001B[49m\u001B[43m)\u001B[49m\n\u001B[1;32m    171\u001B[0m \u001B[43m\u001B[49m\u001B[43m)\u001B[49m\n\u001B[1;32m    172\u001B[0m \u001B[38;5;28;01mif\u001B[39;00m input_grad \u001B[38;5;129;01mis\u001B[39;00m \u001B[38;5;129;01mnot\u001B[39;00m \u001B[38;5;28;01mNone\u001B[39;00m:\n\u001B[1;32m    173\u001B[0m     \u001B[38;5;28;01mif\u001B[39;00m ctx\u001B[38;5;241m.\u001B[39msparse:\n",
      "File \u001B[0;32m~/PycharmProjects/quantum-computing/.venv/lib/python3.10/site-packages/qiskit_machine_learning/neural_networks/neural_network.py:254\u001B[0m, in \u001B[0;36mNeuralNetwork.backward\u001B[0;34m(self, input_data, weights)\u001B[0m\n\u001B[1;32m    252\u001B[0m input_, shape \u001B[38;5;241m=\u001B[39m \u001B[38;5;28mself\u001B[39m\u001B[38;5;241m.\u001B[39m_validate_input(input_data)\n\u001B[1;32m    253\u001B[0m weights_ \u001B[38;5;241m=\u001B[39m \u001B[38;5;28mself\u001B[39m\u001B[38;5;241m.\u001B[39m_validate_weights(weights)\n\u001B[0;32m--> 254\u001B[0m input_grad, weight_grad \u001B[38;5;241m=\u001B[39m \u001B[38;5;28;43mself\u001B[39;49m\u001B[38;5;241;43m.\u001B[39;49m\u001B[43m_backward\u001B[49m\u001B[43m(\u001B[49m\u001B[43minput_\u001B[49m\u001B[43m,\u001B[49m\u001B[43m \u001B[49m\u001B[43mweights_\u001B[49m\u001B[43m)\u001B[49m\n\u001B[1;32m    256\u001B[0m input_grad_reshaped, weight_grad_reshaped \u001B[38;5;241m=\u001B[39m \u001B[38;5;28mself\u001B[39m\u001B[38;5;241m.\u001B[39m_validate_backward_output(\n\u001B[1;32m    257\u001B[0m     input_grad, weight_grad, shape\n\u001B[1;32m    258\u001B[0m )\n\u001B[1;32m    260\u001B[0m \u001B[38;5;28;01mreturn\u001B[39;00m input_grad_reshaped, weight_grad_reshaped\n",
      "File \u001B[0;32m~/PycharmProjects/quantum-computing/.venv/lib/python3.10/site-packages/qiskit_machine_learning/neural_networks/sampler_qnn.py:420\u001B[0m, in \u001B[0;36mSamplerQNN._backward\u001B[0;34m(self, input_data, weights)\u001B[0m\n\u001B[1;32m    418\u001B[0m \u001B[38;5;28;01mif\u001B[39;00m job \u001B[38;5;129;01mis\u001B[39;00m \u001B[38;5;129;01mnot\u001B[39;00m \u001B[38;5;28;01mNone\u001B[39;00m:\n\u001B[1;32m    419\u001B[0m     \u001B[38;5;28;01mtry\u001B[39;00m:\n\u001B[0;32m--> 420\u001B[0m         results \u001B[38;5;241m=\u001B[39m \u001B[43mjob\u001B[49m\u001B[38;5;241;43m.\u001B[39;49m\u001B[43mresult\u001B[49m\u001B[43m(\u001B[49m\u001B[43m)\u001B[49m\n\u001B[1;32m    421\u001B[0m     \u001B[38;5;28;01mexcept\u001B[39;00m \u001B[38;5;167;01mException\u001B[39;00m \u001B[38;5;28;01mas\u001B[39;00m exc:\n\u001B[1;32m    422\u001B[0m         \u001B[38;5;28;01mraise\u001B[39;00m QiskitMachineLearningError(\u001B[38;5;124m\"\u001B[39m\u001B[38;5;124mSampler job failed.\u001B[39m\u001B[38;5;124m\"\u001B[39m) \u001B[38;5;28;01mfrom\u001B[39;00m \u001B[38;5;21;01mexc\u001B[39;00m\n",
      "File \u001B[0;32m~/PycharmProjects/quantum-computing/.venv/lib/python3.10/site-packages/qiskit/primitives/primitive_job.py:55\u001B[0m, in \u001B[0;36mPrimitiveJob.result\u001B[0;34m(self)\u001B[0m\n\u001B[1;32m     53\u001B[0m \u001B[38;5;250m\u001B[39m\u001B[38;5;124;03m\"\"\"Return the results of the job.\"\"\"\u001B[39;00m\n\u001B[1;32m     54\u001B[0m \u001B[38;5;28mself\u001B[39m\u001B[38;5;241m.\u001B[39m_check_submitted()\n\u001B[0;32m---> 55\u001B[0m \u001B[38;5;28;01mreturn\u001B[39;00m \u001B[38;5;28;43mself\u001B[39;49m\u001B[38;5;241;43m.\u001B[39;49m\u001B[43m_future\u001B[49m\u001B[38;5;241;43m.\u001B[39;49m\u001B[43mresult\u001B[49m\u001B[43m(\u001B[49m\u001B[43m)\u001B[49m\n",
      "File \u001B[0;32m/usr/lib/python3.10/concurrent/futures/_base.py:453\u001B[0m, in \u001B[0;36mFuture.result\u001B[0;34m(self, timeout)\u001B[0m\n\u001B[1;32m    450\u001B[0m \u001B[38;5;28;01melif\u001B[39;00m \u001B[38;5;28mself\u001B[39m\u001B[38;5;241m.\u001B[39m_state \u001B[38;5;241m==\u001B[39m FINISHED:\n\u001B[1;32m    451\u001B[0m     \u001B[38;5;28;01mreturn\u001B[39;00m \u001B[38;5;28mself\u001B[39m\u001B[38;5;241m.\u001B[39m__get_result()\n\u001B[0;32m--> 453\u001B[0m \u001B[38;5;28;43mself\u001B[39;49m\u001B[38;5;241;43m.\u001B[39;49m\u001B[43m_condition\u001B[49m\u001B[38;5;241;43m.\u001B[39;49m\u001B[43mwait\u001B[49m\u001B[43m(\u001B[49m\u001B[43mtimeout\u001B[49m\u001B[43m)\u001B[49m\n\u001B[1;32m    455\u001B[0m \u001B[38;5;28;01mif\u001B[39;00m \u001B[38;5;28mself\u001B[39m\u001B[38;5;241m.\u001B[39m_state \u001B[38;5;129;01min\u001B[39;00m [CANCELLED, CANCELLED_AND_NOTIFIED]:\n\u001B[1;32m    456\u001B[0m     \u001B[38;5;28;01mraise\u001B[39;00m CancelledError()\n",
      "File \u001B[0;32m/usr/lib/python3.10/threading.py:320\u001B[0m, in \u001B[0;36mCondition.wait\u001B[0;34m(self, timeout)\u001B[0m\n\u001B[1;32m    318\u001B[0m \u001B[38;5;28;01mtry\u001B[39;00m:    \u001B[38;5;66;03m# restore state no matter what (e.g., KeyboardInterrupt)\u001B[39;00m\n\u001B[1;32m    319\u001B[0m     \u001B[38;5;28;01mif\u001B[39;00m timeout \u001B[38;5;129;01mis\u001B[39;00m \u001B[38;5;28;01mNone\u001B[39;00m:\n\u001B[0;32m--> 320\u001B[0m         \u001B[43mwaiter\u001B[49m\u001B[38;5;241;43m.\u001B[39;49m\u001B[43macquire\u001B[49m\u001B[43m(\u001B[49m\u001B[43m)\u001B[49m\n\u001B[1;32m    321\u001B[0m         gotit \u001B[38;5;241m=\u001B[39m \u001B[38;5;28;01mTrue\u001B[39;00m\n\u001B[1;32m    322\u001B[0m     \u001B[38;5;28;01melse\u001B[39;00m:\n",
      "\u001B[0;31mKeyboardInterrupt\u001B[0m: "
     ]
    }
   ],
   "source": [
    "rewards = [] \n",
    "best_score = 0\n",
    "\n",
    "# We let the agent train for 2000 episodes\n",
    "for episode in range(500):\n",
    "\n",
    "    # Run enviroment simulation\n",
    "    obs = env.reset()  \n",
    "\n",
    "    # 200 is the target score for considering the environment solved\n",
    "    for step in range(200):\n",
    "\n",
    "        # Manages the transition from exploration to exploitation\n",
    "        epsilon = max(1 - episode / 750, 0.01)\n",
    "        if isinstance(obs, tuple):\n",
    "            obs = obs[0]  # Assuming the first element of the tuple is the state array\n",
    "\n",
    "        # Check if state is an instance of np.ndarray, convert it to a list if it is\n",
    "        if isinstance(obs, np.ndarray):\n",
    "            obs = obs.tolist()\n",
    "        obs, reward, done,truncated, info = play_one_step(env, obs, epsilon)\n",
    "        if done or truncated:\n",
    "            break\n",
    "    rewards.append(step)\n",
    "\n",
    "    # Saving best agent\n",
    "    if step >= best_score:\n",
    "        # torch.save(model.state_dict(), './new_model_best_weights.pth') # Save best weights\n",
    "        best_score = step\n",
    "\n",
    "    print(\"\\rEpisode: {}, Steps : {}, eps: {:.3f}\".format(episode, step + 1, epsilon), end=\"\")\n",
    "\n",
    "    # Start training only after some exploration experiences  \n",
    "    if episode > 20:\n",
    "        sequential_training_step(batch_size,optimizer)\n",
    "\n",
    "torch.save(model.state_dict(), './model_best_weights_6reps_longtrain.pth') # Save best weights"
   ]
  },
  {
   "cell_type": "markdown",
   "metadata": {},
   "source": [
    "Let's see the final optimized  weights of the agent:"
   ]
  },
  {
   "cell_type": "code",
   "execution_count": 134,
   "metadata": {
    "ExecuteTime": {
     "end_time": "2024-03-01T20:51:58.880421996Z",
     "start_time": "2024-03-01T20:51:58.870680608Z"
    }
   },
   "outputs": [
    {
     "data": {
      "text/plain": "OrderedDict([('0.weights', tensor([ 0.0015, -0.0026, -1.3532, -0.1230])),\n             ('1.weight',\n              tensor([-0.4632,  0.1344, -1.2410,  0.6165, -0.4232,  0.1079, -0.5612, -0.2814,\n                      -0.1333, -0.0794,  0.4502,  0.4264,  0.9828,  1.7792,  0.2652,  0.2041,\n                      -0.5196, -0.1521, -1.3603, -0.6038, -0.3367, -0.3450,  0.5923,  0.3647,\n                      -0.0499, -0.0917, -0.8534,  0.6290, -0.9544,  1.0905,  0.9335, -0.8620,\n                       0.0879,  0.6218,  0.4238, -0.1843,  0.9954, -0.3283, -0.3977, -0.4859,\n                       0.9590,  0.3145, -0.3707, -0.9746, -0.3780, -0.3496,  0.4592,  0.2751])),\n             ('1._weights',\n              tensor([-0.4632,  0.1344, -1.2410,  0.6165, -0.4232,  0.1079, -0.5612, -0.2814,\n                      -0.1333, -0.0794,  0.4502,  0.4264,  0.9828,  1.7792,  0.2652,  0.2041,\n                      -0.5196, -0.1521, -1.3603, -0.6038, -0.3367, -0.3450,  0.5923,  0.3647,\n                      -0.0499, -0.0917, -0.8534,  0.6290, -0.9544,  1.0905,  0.9335, -0.8620,\n                       0.0879,  0.6218,  0.4238, -0.1843,  0.9954, -0.3283, -0.3977, -0.4859,\n                       0.9590,  0.3145, -0.3707, -0.9746, -0.3780, -0.3496,  0.4592,  0.2751])),\n             ('2.weights', tensor([46.3898, 46.3740]))])"
     },
     "execution_count": 134,
     "metadata": {},
     "output_type": "execute_result"
    }
   ],
   "source": [
    "# DECOMMENT IF WANT TO LOAD PRETRAINED WEIGHTS\n",
    "# Load pre-trained weights (check if the file exists):\n",
    "# try:\n",
    "model.load_state_dict(torch.load(\"./model_best_weights_6reps_longtrain.pth\"),strict=False)\n",
    "# except: \n",
    "#     print(\"No pre-trained weights found. Looks like you have to train from scratch...\")\n",
    "\n",
    "model.state_dict()"
   ]
  },
  {
   "cell_type": "markdown",
   "metadata": {},
   "source": [
    "And we can plot the total rewards obtained by the quantum agent. The closer to 200 (which is the maximum for the `Cartpole` environment), the better."
   ]
  },
  {
   "cell_type": "code",
   "execution_count": null,
   "metadata": {
    "scrolled": true,
    "ExecuteTime": {
     "end_time": "2024-03-01T15:32:42.414868387Z",
     "start_time": "2024-03-01T15:32:42.412374721Z"
    }
   },
   "outputs": [],
   "source": [
    "plt.figure(figsize=(8, 4))\n",
    "plt.plot(rewards)\n",
    "plt.xlabel(\"Episode\", fontsize=14)\n",
    "plt.ylabel(\"Sum of rewards\", fontsize=14)\n",
    "plt.show()"
   ]
  },
  {
   "cell_type": "markdown",
   "metadata": {},
   "source": [
    "Here is a nice plot of the final rewards from a previous training run"
   ]
  },
  {
   "cell_type": "code",
   "execution_count": null,
   "metadata": {
    "ExecuteTime": {
     "start_time": "2024-03-01T15:32:42.413529994Z"
    }
   },
   "outputs": [],
   "source": [
    "import matplotlib.pyplot as plt\n",
    "import seaborn as sns\n",
    "sns.set_theme()\n",
    "\n",
    "# This file contains the sum of rewards from a previous successfull training run\n",
    "rewards_history = np.loadtxt(\"training_rewards2.txt\") + 1\n",
    "\n",
    "cmap = plt.get_cmap('tab20c')\n",
    "\n",
    "fig = plt.figure(figsize=(8,5))\n",
    "plt.axhline([200], ls = 'dashed', c=cmap(9))\n",
    "plt.text(-50,190, s='Max reward', c=cmap(8))\n",
    "\n",
    "plt.text(-50,100, s='Exploration\\nphase', c=cmap(12))\n",
    "plt.text(1100,100, s='Exploitation\\nphase', c=cmap(12))\n",
    "\n",
    "plt.plot(rewards_history, c = cmap(4))\n",
    "plt.xlabel(\"Episodes\")\n",
    "plt.ylabel(\"Final reward\")\n",
    "\n",
    "plt.tight_layout()\n",
    "plt.show()"
   ]
  },
  {
   "cell_type": "markdown",
   "metadata": {},
   "source": [
    "### Let's see Elliot play\n",
    "\n",
    "We can use the following cell to create an animation of the quantum agent solving the CartPole environment. \n",
    "\n",
    "> **Note for rendering the animation**  \n",
    "There may be problem running this cell in a Jupyter Notebook, since OpenAI's `env.render` command opens a new window and cause the Notebook's kernel to die if such new window is closed. The suggested solution is to let the new window open but then ignore it, and come back to this Notebook to see the animation generated here (it takes ~10s seconds to output the animation, so don't worry and just wait). Then, only when you are done with this Notebook, you can safely close the external window. Unfortunately, this is a well-known problem of rendering OpenAI animations on a server, and we couldn't find a proper way to circumvent the issue, since it is higlhy dependant on the libraries' versions, as well as on the Operating System."
   ]
  },
  {
   "cell_type": "code",
   "execution_count": 192,
   "metadata": {
    "ExecuteTime": {
     "end_time": "2024-03-01T20:56:20.992733089Z",
     "start_time": "2024-03-01T20:56:20.949523530Z"
    }
   },
   "outputs": [
    {
     "name": "stdout",
     "output_type": "stream",
     "text": [
      "End at step: 9\n",
      "[-0.18578255 -1.9215261   0.26456857  3.1093264 ]\n"
     ]
    }
   ],
   "source": [
    "# Set the environment seed for reproducibility \n",
    "# env.seed(42)\n",
    "\n",
    "state = env.reset()\n",
    "\n",
    "frames = []\n",
    "for step in range(200):\n",
    "    if isinstance(state, tuple):\n",
    "        state = state[0]  # Assuming the first element of the tuple is the state array\n",
    "            \n",
    "            # Check if state is an instance of np.ndarray, convert it to a list if it is\n",
    "    if isinstance(state, np.ndarray):\n",
    "        state = state.tolist()\n",
    "    action = epsilon_greedy_policy(state)\n",
    "    state, reward, done,truncated, info = env.step(action)\n",
    "    if done:\n",
    "        print(\"End at step:\", step)\n",
    "        print(state)\n",
    "        break\n",
    "    img = env.render()\n",
    "    frames.append(img)\n",
    "    \n",
    "# plot_animation(frames)"
   ]
  },
  {
   "cell_type": "markdown",
   "metadata": {},
   "source": [
    "## Hurray!  🎉🎉\n",
    "\n",
    "We have succesfully solved a Reinforcement Learning task usig a Quantum Neural Network!  \n",
    "\n",
    "Our Quantum agent, Elliot, used an hybrid combination of classical operations and parametrized quantum circuits to implement the Deep Q-Learning algorithm, and thus solve the `CartPole` environment provided by OpenAI `gym`.  \n",
    "The whole quantum workflow was built using Qiskit's brand new `Qiskit Machine Learning` module, and together with `PyTorch` we could easily build the the hybrid quantum-classical neural network and leverage seamless evaluation of gradients using backpropagation.\n",
    "\n",
    "Up to now, we run perfect simulation of the quantum circuits using the `statevector_simulator`, which gives direct access to the amplitudes of the quantum states. What happens if we instead use a more realistic model, for example including noise from stochastic measurement outcomes?  \n",
    "To answer this question, go check the other Notebook \"Quantum Deep Q-Learning: analysis and results \" in this repository!\n",
    "\n",
    "#### What's next?   \n",
    "\n",
    "There are multiple ways to expand this project, and we leave here some suggestions:  \n",
    "\n",
    "* apply this model to other control problems available in the OpenAI `gym`;  \n",
    "* explore other variational ansatzes and encoding schemes, and see how they impacts performances;\n",
    "* modify the hyperparameters or the training functions, to allow for a faster training routine;\n",
    "* explore other ways to update the parameters in the circuit (for example using parameter-shift role);\n",
    "* and much, much more!  \n",
    "\n",
    "⚛️ 🤖 Quantum Elliot says Hi!"
   ]
  },
  {
   "cell_type": "code",
   "execution_count": null,
   "metadata": {
    "ExecuteTime": {
     "end_time": "2024-03-01T15:32:42.415435305Z",
     "start_time": "2024-03-01T15:32:42.415023435Z"
    }
   },
   "outputs": [],
   "source": []
  }
 ],
 "metadata": {
  "kernelspec": {
   "display_name": "Python 3",
   "language": "python",
   "name": "python3"
  },
  "language_info": {
   "codemirror_mode": {
    "name": "ipython",
    "version": 3
   },
   "file_extension": ".py",
   "mimetype": "text/x-python",
   "name": "python",
   "nbconvert_exporter": "python",
   "pygments_lexer": "ipython3",
   "version": "3.8.8"
  }
 },
 "nbformat": 4,
 "nbformat_minor": 4
}

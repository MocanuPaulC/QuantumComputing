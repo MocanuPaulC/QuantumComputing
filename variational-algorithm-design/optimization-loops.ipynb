{
 "cells": [
  {
   "cell_type": "markdown",
   "source": [
    "# Optimization Loops\n",
    "\n",
    "At a high level, optimizers are central to exploring our search space. The optimizer uses cost function evaluations to select the next set of parameters in a variational loop, and repeats the process until it reaches a stable state. At this stage, an optimal set of parameter values $\\vec\\theta^*$ is returned."
   ],
   "metadata": {
    "collapsed": false
   },
   "id": "4adbba5fe4a62403"
  },
  {
   "cell_type": "code",
   "execution_count": 1,
   "id": "initial_id",
   "metadata": {
    "collapsed": true,
    "ExecuteTime": {
     "end_time": "2024-02-14T15:40:43.451046Z",
     "start_time": "2024-02-14T15:40:43.439870Z"
    }
   },
   "outputs": [],
   "source": [
    "from dotenv import load_dotenv\n",
    "from os import getenv\n",
    "\n",
    "load_dotenv()\n",
    "token = getenv('IBM_TOKEN')"
   ]
  },
  {
   "cell_type": "markdown",
   "source": [
    "## Local and Global Optimizers\n",
    "\n",
    "We'll first setup our problem before exploring each optimizer class:"
   ],
   "metadata": {
    "collapsed": false
   },
   "id": "f9904d10961d7355"
  },
  {
   "cell_type": "code",
   "outputs": [
    {
     "data": {
      "text/plain": "<Figure size 621.739x200.667 with 1 Axes>",
      "image/png": "[encoded data removed]"
     },
     "execution_count": 5,
     "metadata": {},
     "output_type": "execute_result"
    }
   ],
   "source": [
    "from qiskit import QuantumCircuit\n",
    "from qiskit.quantum_info import SparsePauliOp\n",
    "from qiskit.circuit.library import TwoLocal\n",
    "import numpy as np\n",
    "\n",
    "theta_list = (2 * np.pi * np.random.rand(1, 8)).tolist()\n",
    "observable = SparsePauliOp.from_list([(\"XX\", 1), (\"YY\", -3)])\n",
    "\n",
    "reference_circuit = QuantumCircuit(2)\n",
    "reference_circuit.x(0)\n",
    "\n",
    "variational_form = TwoLocal(\n",
    "    2,\n",
    "    rotation_blocks=[\"rz\", \"ry\"],\n",
    "    entanglement_blocks=\"cx\",\n",
    "    entanglement=\"linear\",\n",
    "    reps=1,\n",
    ")\n",
    "ansatz = reference_circuit.compose(variational_form)\n",
    "\n",
    "ansatz.decompose().draw('mpl', style='iqp')"
   ],
   "metadata": {
    "collapsed": false,
    "ExecuteTime": {
     "end_time": "2024-02-14T15:44:37.264162Z",
     "start_time": "2024-02-14T15:44:37.120794Z"
    }
   },
   "id": "4c8306e9b6928535",
   "execution_count": 5
  },
  {
   "cell_type": "code",
   "outputs": [],
   "source": [
    "from qiskit.primitives import Estimator\n",
    "\n",
    "\n",
    "def cost_func_vqe(params: np.ndarray, ansatz: QuantumCircuit, hamiltonian: SparsePauliOp, estimator: Estimator):\n",
    "    \"\"\"Return estimate of energy from estimator\n",
    "\n",
    "    Parameters:\n",
    "        params (ndarray): Array of ansatz parameters\n",
    "        ansatz (QuantumCircuit): Parameterized ansatz circuit\n",
    "        hamiltonian (SparsePauliOp): Operator representation of Hamiltonian\n",
    "        estimator (Estimator): Estimator primitive instance\n",
    "\n",
    "    Returns:\n",
    "        float: Energy estimate\n",
    "    \"\"\"\n",
    "    cost = estimator.run(ansatz, hamiltonian, parameter_values=params).result().values[0]\n",
    "    return cost"
   ],
   "metadata": {
    "collapsed": false,
    "ExecuteTime": {
     "end_time": "2024-02-14T15:46:53.905723Z",
     "start_time": "2024-02-14T15:46:53.896015Z"
    }
   },
   "id": "c7bee03a542fd316",
   "execution_count": 7
  },
  {
   "cell_type": "code",
   "outputs": [],
   "source": [
    "from qiskit_ibm_runtime import QiskitRuntimeService, Estimator, Session\n",
    "\n",
    "# Add your token below\n",
    "service = QiskitRuntimeService(\n",
    "    channel=\"ibm_quantum\",\n",
    "    token=token\n",
    ")\n",
    "\n",
    "backend = service.backend(\"ibmq_qasm_simulator\")\n",
    "session = Session(backend=backend)\n",
    "\n",
    "# Use estimator to get the expected values corresponding to each ansatz\n",
    "estimator = Estimator(session=session)"
   ],
   "metadata": {
    "collapsed": false,
    "ExecuteTime": {
     "end_time": "2024-02-14T15:47:16.695263Z",
     "start_time": "2024-02-14T15:47:09.553690Z"
    }
   },
   "id": "97d4af0d714df8c7",
   "execution_count": 8
  },
  {
   "cell_type": "markdown",
   "source": [
    "### Local Optimizers\n",
    "\n",
    "Local optimizers search for a point that minimizes the cost function starting at (an) initial point(s) $C(\\vec\\theta_0)$ and move to different points based on what they observe in the region they are currently evaluating on successive iterations. This implies that the convergence of these algorithms will usually be fast, but can be heavily dependent on the initial point. Local optimizers are unable to see beyond the region where they are evaluating and can be especially vulnerable to local minima, reporting convergence when they find one and ignoring other states with more favorable evaluations.\n"
   ],
   "metadata": {
    "collapsed": false
   },
   "id": "a5435c8c5b6a791f"
  },
  {
   "cell_type": "code",
   "outputs": [],
   "source": [
    "# SciPy minimizer routine\n",
    "from scipy.optimize import minimize\n",
    "\n",
    "x0 = np.ones(8)\n",
    "\n",
    "result = minimize(cost_func_vqe, x0, args=(ansatz, observable, estimator), method=\"SLSQP\")\n",
    "\n",
    "result"
   ],
   "metadata": {
    "collapsed": false,
    "is_executing": true,
    "ExecuteTime": {
     "start_time": "2024-02-14T15:49:50.147884Z"
    }
   },
   "id": "9fce00e0f55fa072"
  },
  {
   "cell_type": "markdown",
   "source": [
    "### Global Optimizers\n",
    "\n",
    "Global optimizers search for the point that minimizes the cost function over several regions of its domain (i.e., non-local), evaluating it iteratively (i.e., at iteration $i$) over a set of parameter vectors $\\Theta_i := \\vec\\theta_{i,j}|j \\in \\mathcal{J}_{opt}^i$ determined by the optimizer. This makes them less susceptible to local minima and somewhat independent of initialization, but also significantly slower to converge to a proposed solution."
   ],
   "metadata": {
    "collapsed": false
   },
   "id": "1ac88d0e867d433b"
  },
  {
   "cell_type": "markdown",
   "source": [
    "### Bootstrapping Optimization\n",
    "\n",
    "Bootstrapping, or setting the initial value for parameters $\\vec\\theta$ based on a prior optimization, can help our optimizer converge on a solution faster. We refer to this as the initial point $\\vec\\theta_0$ and $|\\psi(\\vec\\theta_0)\\rangle = U_V(\\vec\\theta_0)|p\\rangle$ as the initial state. This initial state differs from our reference state $|p\\rangle$, as the former focuses on initial parameters set during our optimization loop, while the latter focuses on using known \"reference\" solutions. They may coincide if $U_V(\\vec\\theta_0) \\equiv I$ (i.e., the identity operation).\n",
    "\n",
    "When local optimizers converge to non-optimal local minima, we can try bootstrapping the optimization globally and refine the convergence locally. While this requires setting up two variational workloads, it allows the optimizer to find a more optimal solution than the local optimizer alone.\n"
   ],
   "metadata": {
    "collapsed": false
   },
   "id": "e819faa9c05745ca"
  },
  {
   "cell_type": "markdown",
   "source": [
    "## Gradient-Based and Gradient-Free Optimizers\n",
    "\n",
    "### Gradient-Based\n",
    "\n",
    "For our cost function $C(\\vec\\theta)$, if we have access to the gradient of the function $\\vec\\nabla C(\\vec\\theta)$ starting form an initial point, the simplest way to minimize the function is to update the parameters towards the direction of steepest descent of the function. That is, we update the parameters as $\\vec\\theta_{n+1} = \\vec\\theta_n - \\eta\\vec\\nabla C(\\vec\\theta)$, where $\\eta$ is the learning rate - a small, positive hyperparameter that controls the size of the update. We continue doing this until we converge to a local minimum of the cost function $C(\\vec\\theta^*)$.\n",
    "\n",
    "We can use this cost function and an optimizer to calculate optimal parameters."
   ],
   "metadata": {
    "collapsed": false
   },
   "id": "8e7eab73a0e337c0"
  },
  {
   "cell_type": "code",
   "outputs": [],
   "source": [
    "# SciPy minimizer routine\n",
    "from scipy.optimize import minimize\n",
    "\n",
    "x0 = np.ones(8)\n",
    "\n",
    "result = minimize(cost_func_vqe, x0, args=(ansatz, observable, estimator), method=\"BFGS\")\n",
    "\n",
    "result"
   ],
   "metadata": {
    "collapsed": false,
    "is_executing": true
   },
   "id": "e3ae486af1884c1f"
  },
  {
   "cell_type": "markdown",
   "source": [
    "The main disadvantages of this type of optimization are the convergence speed, which can be very slow, and there is no guarantee to achieve the optimal solution.\n",
    "\n",
    "![Gradient Descent](../resources/gradient-based-optimization.png)"
   ],
   "metadata": {
    "collapsed": false
   },
   "id": "78c43032bfe94329"
  },
  {
   "cell_type": "markdown",
   "source": [
    "### Gradient-Free\n",
    "\n",
    "Gradient-free optimization algorithms do not require gradient information and can be useful in situations where computing the gradient is difficult, expensive, or too noisy. They also tend to be more robust in finding global optima, whereas gradient-based methods tend to converge to local optima. We'll explore a few instances where a gradient-free optimizer can help avoid barren plateaus. However, gradient-free methods require higher computational ../resources, especially for problems with high-dimensional search spaces.\n",
    "\n",
    "Here's an example that uses the `COBYLA` optimizer instead:"
   ],
   "metadata": {
    "collapsed": false
   },
   "id": "12b90146c2698e78"
  },
  {
   "cell_type": "code",
   "outputs": [],
   "source": [
    "# SciPy minimizer routine\n",
    "from scipy.optimize import minimize\n",
    "\n",
    "x0 = np.ones(8)\n",
    "\n",
    "result = minimize(cost_func_vqe, x0, args=(ansatz, observable, estimator), method=\"COBYLA\")\n",
    "\n",
    "result"
   ],
   "metadata": {
    "collapsed": false,
    "is_executing": true
   },
   "id": "5a2ccb8e6a6ef7d1"
  },
  {
   "cell_type": "markdown",
   "source": [
    "## Barren Plateaus\n",
    "\n",
    "In fact, the cost landscape can be quite complicated, as shown by the hills and valleys in the example below. The optimization method navigates us around the cost landscape, searching for the minimum, as shown by the black points and lines. We can see that two of the three searches end up in a local minimum of the landscape, rather than a global one.\n",
    "\n",
    "![Cost Landscape](../resources/cost-landscape.png)\n",
    "\n",
    "Regardless of the type of optimization method used, if the cost landscape is relatively flat, it can be challenging for the method to determine the appropriate direction to search. This scenario is referred to as a barren plateau, where the cost landscape becomes progressively flatter (and thus more challenging to determine the direction to the minimum). For a broad range of parameterized quantum circuits, the probability that the gradient along any reasonable direction is non-zero to some fixed precision decreases exponentially as the number of qubits increases.\n",
    "\n",
    "![Barren Plateau](../resources/plateaus.png)\n",
    "\n",
    "While this area is still under active research, we have a few recommendations to improve optimization performance:\n",
    "\n",
    "- **Bootstrapping** can help the optimization loop avoid getting stuck in a parameter space where the gradient is small.\n",
    "- **Experimenting with hardware-efficient ansatz**: Since we're using a noisy quantum system as a black-box oracle, the quality of those evaluations can affect the optimizer's performance. Using hardware-efficient ansatz, such as `EfficientSU2`, may avoid producing exponentially small gradients.\n",
    "- **Experimenting with error suppression and error mitigation**: the Qiskit Runtime primitives provide a simple interface to experiment with various `optimization_level`s and `resilience_setting`s respectively. This can reduce the impact of noise and make the optimization process more efficient.\n",
    "- **Experimenting with gradient-free optimizers**: Unlike gradient-based optimization algorithms, optimizers such as `COBYLA` do not rely on gradient information to optimize the parameters and are therefore less likely to be affected by the barren plateau."
   ],
   "metadata": {
    "collapsed": false
   },
   "id": "75a7002aa68f5fd"
  },
  {
   "cell_type": "code",
   "outputs": [],
   "source": [],
   "metadata": {
    "collapsed": false
   },
   "id": "ff10591f966475cd"
  }
 ],
 "metadata": {
  "kernelspec": {
   "display_name": "Python 3",
   "language": "python",
   "name": "python3"
  },
  "language_info": {
   "codemirror_mode": {
    "name": "ipython",
    "version": 2
   },
   "file_extension": ".py",
   "mimetype": "text/x-python",
   "name": "python",
   "nbconvert_exporter": "python",
   "pygments_lexer": "ipython2",
   "version": "2.7.6"
  }
 },
 "nbformat": 4,
 "nbformat_minor": 5
}

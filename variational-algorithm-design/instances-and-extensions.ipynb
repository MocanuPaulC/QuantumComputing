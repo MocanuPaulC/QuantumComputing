{
 "cells": [
  {
   "cell_type": "markdown",
   "source": [
    "# Instances and Extensions\n",
    "\n",
    "This chapter goes through multiple quantum variational algorithms, including:\n",
    "- [Variational Quantum Eigensolver (VQE)](https://arxiv.org/abs/1304.3061)\n",
    "- [Subspace-Search Variational Quantum Eigensolver (SSVQE)](https://arxiv.org/abs/1810.09434)\n",
    "- [Variational Quantum Deflation (VQD)](https://arxiv.org/abs/1805.08138)\n",
    "- [Quantum Sampling Regression (QSR)](https://arxiv.org/pdf/2012.02338.pdf)\n",
    "\n",
    "## Variational Quantum Eigensolver (VQE)\n",
    "VQE is one of the most widely used variational quantum algorithms, setting up a template for other algorithms to build upon.\n",
    "\n",
    "![Overview of VQE](../resources/VQE.png)\n",
    "\n",
    "### VQE's Theoretical Layout\n",
    "\n",
    "- Prepare reference operators $U_R$.\n",
    "  - We start from the state $|0\\rangle$ and go to the reference state $|p\\rangle$.\n",
    "- Apply the variational form $U_V(\\vec\\theta_{i,j})$ to create an ansatz $U_A(\\vec\\theta_{i,j})$.\n",
    "  - We go from the state $p$ to $U_V(\\vec\\theta_{i,j})|p\\rangle = |\\psi(\\vec\\theta_{i,j})\\rangle$.\n",
    "- Bootstrap at $i = 0$ if we have a similar problem (typically found via classical simulation or sampling).\n",
    "  - Each optimizer will be bootstrapped differently, resulting in an initial set of parameter vectors $\\Theta_0 := \\vec\\theta_{i,j}|j \\in \\mathcal{J}^0_{opt}$ (e.g., from an initial point $\\vec\\theta_0$).\n",
    "- Evaluate the cost function $C(\\vec\\theta_{i,j}) := \\langle\\psi(\\vec\\theta)|\\hat H|\\psi(\\vec\\theta)\\rangle$.\n",
    "- Use a classical optimizer to select the next set of parameters $\\Theta_{i+1}$.\n",
    "- Repeat the process until convergence is reached.\n",
    "\n",
    "This is a simple classical optimization loop where we evaluate the cost function. Some optimizers may require multiple evaluations to calculate a gradient, determine the next iteration, or assess convergence.\n",
    "\n",
    "Here's the example for the following observable:\n",
    "\n",
    "$$\\hat O_1 = 2II - 2XX + 3YY - 3ZZ$$\n",
    "\n",
    "### VQE Implementation"
   ],
   "metadata": {
    "collapsed": false
   },
   "id": "be7f4fda472f28fb"
  },
  {
   "cell_type": "code",
   "execution_count": 10,
   "id": "initial_id",
   "metadata": {
    "collapsed": true,
    "ExecuteTime": {
     "end_time": "2024-02-13T18:10:09.799996Z",
     "start_time": "2024-02-13T18:10:09.701831Z"
    }
   },
   "outputs": [
    {
     "data": {
      "text/plain": "<Figure size 621.739x200.667 with 1 Axes>",
      "image/png": "[encoded data removed]"
     },
     "execution_count": 10,
     "metadata": {},
     "output_type": "execute_result"
    }
   ],
   "source": [
    "from qiskit import QuantumCircuit\n",
    "from qiskit.quantum_info import SparsePauliOp\n",
    "from qiskit.circuit.library import TwoLocal\n",
    "import numpy as np\n",
    "\n",
    "theta_list = (2 * np.pi * np.random.rand(1, 8)).tolist()\n",
    "observable = SparsePauliOp.from_list([(\"XX\", 1), (\"YY\", -3)])\n",
    "\n",
    "reference_circuit = QuantumCircuit(2)\n",
    "reference_circuit.x(0)\n",
    "\n",
    "variational_form = TwoLocal(\n",
    "    2,\n",
    "    rotation_blocks=[\"rz\", \"ry\"],\n",
    "    entanglement_blocks=\"cx\",\n",
    "    entanglement=\"linear\",\n",
    "    reps=1,\n",
    ")\n",
    "ansatz = reference_circuit.compose(variational_form)\n",
    "\n",
    "ansatz.decompose().draw('mpl', style='iqp')"
   ]
  },
  {
   "cell_type": "code",
   "outputs": [],
   "source": [
    "def cost_func_vqe(params, ansatz, hamiltonian, estimator):\n",
    "    \"\"\"Return estimate of energy from estimator\n",
    "\n",
    "    Parameters:\n",
    "        params (ndarray): Array of ansatz parameters\n",
    "        ansatz (QuantumCircuit): Parameterized ansatz circuit\n",
    "        hamiltonian (SparsePauliOp): Operator representation of Hamiltonian\n",
    "        estimator (Estimator): Estimator primitive instance\n",
    "\n",
    "    Returns:\n",
    "        float: Energy estimate\n",
    "    \"\"\"\n",
    "    cost = estimator.run(ansatz, hamiltonian, parameter_values=params).result().values[0]\n",
    "    return cost"
   ],
   "metadata": {
    "collapsed": false,
    "ExecuteTime": {
     "end_time": "2024-02-13T18:51:29.083350Z",
     "start_time": "2024-02-13T18:51:29.070452Z"
    }
   },
   "id": "b656332a97b14ae5",
   "execution_count": 11
  },
  {
   "cell_type": "code",
   "outputs": [],
   "source": [
    "from qiskit_ibm_runtime import QiskitRuntimeService, Estimator, Session\n",
    "from dotenv import load_dotenv\n",
    "from os import getenv\n",
    "\n",
    "load_dotenv()\n",
    "token = getenv('IBM_TOKEN')\n",
    "\n",
    "service = QiskitRuntimeService(channel='ibm_quantum',\n",
    "                               token=token)\n",
    "\n",
    "backend = service.backend(\"ibmq_qasm_simulator\")\n",
    "session = Session(backend=backend)\n",
    "\n",
    "# Use estimator to get the expected values corresponding to each ansatz\n",
    "estimator = Estimator(session=session)"
   ],
   "metadata": {
    "collapsed": false,
    "ExecuteTime": {
     "end_time": "2024-02-13T19:01:56.093592Z",
     "start_time": "2024-02-13T19:01:48.716123Z"
    }
   },
   "id": "49b40280a7407651",
   "execution_count": 21
  },
  {
   "cell_type": "code",
   "outputs": [
    {
     "data": {
      "text/plain": " message: Optimization terminated successfully.\n success: True\n  status: 1\n     fun: -3.998\n       x: [ 3.107e+00  3.693e-01  1.554e+00  3.187e+00  1.801e+00\n           -1.345e+00  3.050e+00  1.332e-01]\n    nfev: 111\n   maxcv: 0.0"
     },
     "execution_count": 22,
     "metadata": {},
     "output_type": "execute_result"
    }
   ],
   "source": [
    "# SciPy minimizer routine\n",
    "from scipy.optimize import minimize\n",
    "\n",
    "x0 = np.ones(8)\n",
    "\n",
    "result = minimize(cost_func_vqe, x0, args=(ansatz, observable, estimator), method=\"COBYLA\")\n",
    "\n",
    "result"
   ],
   "metadata": {
    "collapsed": false,
    "ExecuteTime": {
     "end_time": "2024-02-13T19:22:44.433657Z",
     "start_time": "2024-02-13T19:02:12.820553Z"
    }
   },
   "id": "340dcec6642f278e",
   "execution_count": 22
  },
  {
   "cell_type": "code",
   "outputs": [],
   "source": [
    "session.close()"
   ],
   "metadata": {
    "collapsed": false
   },
   "id": "4373c047c2d6eaa4"
  },
  {
   "cell_type": "markdown",
   "source": [
    "## Subspace Search Variational Quantum Eigensolver (SSVQE)\n",
    "\n",
    "SSVQE is a variant of VQE that allows obtaining the first $k$ eigenvalues of an observable $\\hat H$ with eigenvalues $\\{\\lambda_0,\\lambda_1,\\ldots,\\lambda_{N-1}\\}$, where $N \\geq k$. SSQVE introduces a new idea by adding weights to help prioritize optimizing for the term with the largest weight.\n",
    "\n",
    "![SSVQE Overview](../resources/SSVQE.png)\n",
    "\n",
    "The SSVQE algorithm relies on the fact that eigenstates corresponding to different eigenvalues are mutually orthogonal.\n",
    "\n",
    "### SSVQE's Theoretical Layout\n",
    "\n",
    "- Prepare several reference states by applying a unitary $U_R$ to $k$ different computational basis states.\n",
    "  - This algorithm requires the usage of $k$ mutually orthogonal reference states $\\{|p_j\\rangle\\}_{j=0}^{k-1}$.\n",
    "- Apply the variational form $U_V(\\vec\\theta_{i,j})$ to each reference state, resulting in the following ansatz $U_A(\\vec\\theta_{i,j})$.\n",
    "- Bootstrap at $i = 0$ if a similar problem is available (usually found via classical simulation or sampling).\n",
    "- Evaluate the cost function $C(\\vec\\theta_{i,j}) := \\sum_{j=0}^{k-1} w_j\\langle\\psi_j(\\vec\\theta)|\\hat H|\\psi_j(\\vec\\theta)\\rangle$ for all prepared states on a quantum computer.\n",
    "  - This can be separated into calculating the expectation value for an observable $\\langle\\psi_j(\\vec\\theta)|\\hat H|\\psi_j(\\vec\\theta)\\rangle$ and multiplying that result by $w_j$.\n",
    "  - Afterwards, the cost function returns the sum of all weighted expectation values.\n",
    "- Use a classical optimizer to select the next set of parameters $\\Theta_{i+1}$.\n",
    "- Repeat the process until convergence is achieved."
   ],
   "metadata": {
    "collapsed": false
   },
   "id": "3448843b44f07068"
  },
  {
   "cell_type": "code",
   "outputs": [],
   "source": [
    "import numpy as np\n",
    "\n",
    "\n",
    "def cost_func_ssvqe(params, initialized_ansatz_list, weights, ansatz, hamiltonian, estimator):\n",
    "    # \"\"\"Return estimate of energy from estimator\n",
    "\n",
    "    # Parameters:\n",
    "    #     params (ndarray): Array of ansatz parameters\n",
    "    #     initialized_ansatz_list (list QuantumCircuit): Array of initialized ansatz with reference\n",
    "    #     weights (list): List of weights\n",
    "    #     ansatz (QuantumCircuit): Parameterized ansatz circuit\n",
    "    #     hamiltonian (SparsePauliOp): Operator representation of Hamiltonian\n",
    "    #     estimator (Estimator): Estimator primitive instance\n",
    "\n",
    "    # Returns:\n",
    "    #     float: Weighted energy estimate\n",
    "    # \"\"\"\n",
    "\n",
    "    energies = []\n",
    "\n",
    "    # Define SSVQE\n",
    "\n",
    "    weighted_energy_sum = np.dot(energies, weights)\n",
    "    return weighted_energy_sum"
   ],
   "metadata": {
    "collapsed": false,
    "ExecuteTime": {
     "end_time": "2024-02-13T19:35:41.312192Z",
     "start_time": "2024-02-13T19:35:41.276777Z"
    }
   },
   "id": "781ef51098712090",
   "execution_count": 23
  },
  {
   "cell_type": "markdown",
   "source": [
    "## Variational Quantum Deflation (VQD)\n",
    "\n",
    "VQD is a variant of VQE that allows obtaining the first $k$ eigenvalues of an observable $\\hat H$ with eigenvalues $\\{\\lambda_0,\\lambda_1,\\ldots,\\lambda_{N-1}\\}$, where $N \\geq k$. VQD introduces a new idea by a penalty cost to guide the optimization process.\n",
    "\n",
    "![VQD Overview](../resources/VQD.png)\n",
    "\n",
    "VQD introduces a penalty term, denoted as $\\beta$, to balance the contribution of each overlap term to the cost. This penalty term serves to penalize the optimization process if orthogonality is not achieved. By enforcing orthogonality with the eigenstate corresponding to $\\lambda_0$, we are effectively optimizing over the subspace that corresponds to the rest of the eigenvalues $\\{\\lambda_1,\\lambda_2\\ldots,\\lambda_{N-1}\\}$. Here, $\\lambda_1$ is the lowest eigenvalue from the rest of the eigenvalues and, therefore, the optimal solution of the new problem can be obtained using the variational theorem.\n",
    "\n",
    "The cost function for VQD is given by \n",
    "$$C_k(\\vec\\theta) = \\langle\\psi(\\vec\\theta)|\\hat H|\\psi(\\vec\\theta)\\rangle + \\sum_{j=0}^{k-1}\\beta_j|\\langle\\psi(\\vec\\theta)|\\psi(\\vec\\theta^j)\\rangle|^2$$\n",
    "and we can observe that, to obtain the $k$-th eigenvalue, we need the (approximate) of the previous $k-1$ eigenvalues, which means we need to run VQE a total of $k$ times.\n",
    "\n",
    "### VQD's Theoretical Layout\n",
    "\n",
    "- Prepare a reference operator $U_R$.\n",
    "- Apply variational form $U_V(\\vec\\theta_{i,j})$ to the reference state, creating the following ansatze $U_A(\\vec\\theta_{i,j}$.\n",
    "- Bootstrap at $i=0$ if we have a similar problem (typically found via classical simulation or sampling).\n",
    "  - Evaluate the cost function $C_k(\\vec\\theta)$, which involves computing $k$ excited states and an array of $beta$'s defining the overlap penalty for each overlap term.\n",
    "  - Calculate the expectation value for an observable $\\langle\\psi(\\vec\\theta)|\\hat H|\\psi(\\vec\\theta)\\rangle$.\n",
    "  - Calculate the penalty $\\sum_{j=0}^{k-1}\\beta_j|\\langle\\psi(\\vec\\theta)|\\psi(\\vec\\theta^j)\\rangle|^2$.\n",
    "  - The cost function should then return the sum of these two terms.\n",
    "- Use a classical optimizer to select the next set of parameters $\\Theta_{i+1}$.\n",
    "- Repeat the process until convergence is reached.\n",
    "\n",
    "### VQD Implementation\n",
    "\n",
    "We'll create a function for an overlap penalty. This penalty will be used in the cost function at each iteration. This process will be repeated for each excited state."
   ],
   "metadata": {
    "collapsed": false
   },
   "id": "6861a760206c4bc0"
  },
  {
   "cell_type": "code",
   "outputs": [
    {
     "data": {
      "text/plain": "<Figure size 538.128x200.667 with 1 Axes>",
      "image/png": "[encoded data removed]"
     },
     "execution_count": 27,
     "metadata": {},
     "output_type": "execute_result"
    }
   ],
   "source": [
    "from qiskit.circuit.library import TwoLocal\n",
    "\n",
    "ansatz = TwoLocal(2, rotation_blocks=[\"ry\", \"rz\"], entanglement_blocks=\"cz\", reps=1)\n",
    "\n",
    "ansatz.decompose().draw('mpl', style='iqp')"
   ],
   "metadata": {
    "collapsed": false,
    "ExecuteTime": {
     "end_time": "2024-02-14T09:46:06.109540Z",
     "start_time": "2024-02-14T09:46:06.027398Z"
    }
   },
   "id": "ba5e6c92f1e139b8",
   "execution_count": 27
  },
  {
   "cell_type": "markdown",
   "source": [
    "First, we'll setup a function that calculates the state fidelity -- a percentage of overlap between two states that we'll use as a penalty for VQD:"
   ],
   "metadata": {
    "collapsed": false
   },
   "id": "f23318f2c86176f3"
  },
  {
   "cell_type": "code",
   "outputs": [],
   "source": [
    "from qiskit.circuit import ParameterVector\n",
    "\n",
    "\n",
    "def calculate_overlap(circuits_1, circuits_2, parameters, sampler):\n",
    "    def get_global_fidelity(probability_distribution):\n",
    "        \"\"\"Process the probability distribution of a measurement to determine the\n",
    "        global fidelity.\n",
    "        \"\"\"\n",
    "        return probability_distribution.get(0, 0)\n",
    "\n",
    "    def create_fidelity_circuit(circuit_1, circuit_2):\n",
    "        if len(circuit_1.clbits) > 0:\n",
    "            circuit_1.remove_final_measurements()\n",
    "        if len(circuit_2.clbits) > 0:\n",
    "            circuit_2.remove_final_measurements()\n",
    "\n",
    "        circuit = circuit_1.compose(circuit_2.inverse())\n",
    "        circuit.measure_all()\n",
    "        return circuit\n",
    "\n",
    "    def construct_fidelity_circuits(circuits_1, circuits_2):\n",
    "        \"\"\"\n",
    "        Constructs the list of fidelity circuits to be evaluated.\n",
    "        These circuits represent the state overlap between pairs of input circuits,\n",
    "        and their construction depends on the fidelity method implementations.\n",
    "        \"\"\"\n",
    "        circuits = []\n",
    "        for (circuit_1, circuit_2) in zip(circuits_1, circuits_2):\n",
    "            # re-parametrize input circuits\n",
    "            parameters_1 = ParameterVector(\"x\", circuit_1.num_parameters)\n",
    "            parametrized_circuit_1 = circuit_1.assign_parameters(parameters_1)\n",
    "            parameters_2 = ParameterVector(\"y\", circuit_2.num_parameters)\n",
    "            parametrized_circuit_2 = circuit_2.assign_parameters(parameters_2)\n",
    "\n",
    "            circuit = create_fidelity_circuit(\n",
    "                parametrized_circuit_1, parametrized_circuit_2\n",
    "            )\n",
    "            circuits.append(circuit)\n",
    "\n",
    "        return circuits\n",
    "\n",
    "    circuits = construct_fidelity_circuits(circuits_1, circuits_2)\n",
    "\n",
    "    job = sampler.run(circuits=circuits, parameter_values=parameters)\n",
    "    result = job.result()\n",
    "\n",
    "    raw_fidelities = [\n",
    "        get_global_fidelity(prob_dist) for prob_dist in result.quasi_dists\n",
    "    ]\n",
    "\n",
    "    return np.clip(raw_fidelities, 0, 1).tolist()"
   ],
   "metadata": {
    "collapsed": false,
    "ExecuteTime": {
     "end_time": "2024-02-14T09:48:39.193429Z",
     "start_time": "2024-02-14T09:48:39.180870Z"
    }
   },
   "id": "39ef0b7b6c3588f0",
   "execution_count": 28
  },
  {
   "cell_type": "markdown",
   "source": [
    "Next, we'll setup our runtime primitives"
   ],
   "metadata": {
    "collapsed": false
   },
   "id": "c25a6ed5819baae9"
  },
  {
   "cell_type": "code",
   "outputs": [],
   "source": [
    "# IBM Qiskit Runtime\n",
    "from qiskit_ibm_runtime import QiskitRuntimeService\n",
    "from qiskit_ibm_runtime import Estimator, Sampler, Session\n",
    "from dotenv import load_dotenv\n",
    "from os import getenv\n",
    "\n",
    "load_dotenv()\n",
    "token = getenv('IBM_TOKEN')\n",
    "\n",
    "# Add your token below\n",
    "service = QiskitRuntimeService(channel='ibm_quantum', token=token)\n",
    "backend = service.get_backend(\"ibmq_qasm_simulator\")\n",
    "\n",
    "session = Session(backend=backend)\n",
    "\n",
    "estimator = Estimator(session=session)\n",
    "sampler = Sampler(session=session)"
   ],
   "metadata": {
    "collapsed": false,
    "ExecuteTime": {
     "end_time": "2024-02-14T09:54:30.723174Z",
     "start_time": "2024-02-14T09:54:25.022816Z"
    }
   },
   "id": "b5be5e9626c85010",
   "execution_count": 32
  },
  {
   "cell_type": "markdown",
   "source": [
    "It's time to write VQD's cost function:"
   ],
   "metadata": {
    "collapsed": false
   },
   "id": "ed3c3e0b1b7fb560"
  },
  {
   "cell_type": "code",
   "outputs": [],
   "source": [
    "import numpy as np\n",
    "\n",
    "\n",
    "def cost_func_vqd(parameters, ansatz, prev_states, step, betas, estimator, sampler, hamiltonian):\n",
    "    if len(parameters.shape) == 1:\n",
    "        parameters = np.reshape(parameters, (-1, ansatz.num_parameters))\n",
    "\n",
    "    batch_size = len(parameters)\n",
    "\n",
    "    estimator_job = estimator.run(\n",
    "        batch_size * [ansatz], batch_size * [hamiltonian], parameters\n",
    "    )\n",
    "\n",
    "    total_cost = np.zeros(batch_size)\n",
    "\n",
    "    if step > 1:\n",
    "        # compute overlap cost\n",
    "        batched_prev_states = [state for state in prev_states for _ in range(batch_size)]\n",
    "        costs = calculate_overlap(\n",
    "            batch_size * [ansatz] * (step - 1),\n",
    "            batched_prev_states,\n",
    "            np.tile(parameters, (step - 1, 1)),\n",
    "            sampler\n",
    "        )\n",
    "\n",
    "        costs = np.reshape(costs, (step - 1, -1))\n",
    "        for state, cost in enumerate(costs):\n",
    "            total_cost += np.real(betas[state] * cost)\n",
    "\n",
    "    estimator_result = estimator_job.result()\n",
    "\n",
    "    values = estimator_result.values + total_cost\n",
    "\n",
    "    return values if len(values) > 1 else values[0]"
   ],
   "metadata": {
    "collapsed": false,
    "ExecuteTime": {
     "end_time": "2024-02-14T09:58:26.994985Z",
     "start_time": "2024-02-14T09:58:26.917102Z"
    }
   },
   "id": "ee7aa00e86f01ad9",
   "execution_count": 33
  },
  {
   "cell_type": "code",
   "outputs": [],
   "source": [
    "from qiskit.quantum_info import SparsePauliOp\n",
    "\n",
    "k = 3\n",
    "betas = [33, 33, 33]\n",
    "x0 = np.zeros(8)\n",
    "observable = SparsePauliOp.from_list([(\"II\", 2), (\"XX\", -2), (\"YY\", 3), (\"ZZ\", -3)])\n",
    "\n",
    "prev_states = []\n",
    "prev_opt_parameters = []\n",
    "eigenvalues = []"
   ],
   "metadata": {
    "collapsed": false,
    "ExecuteTime": {
     "end_time": "2024-02-14T09:58:33.847438Z",
     "start_time": "2024-02-14T09:58:33.806562Z"
    }
   },
   "id": "ff7c891102dcdc3c",
   "execution_count": 34
  },
  {
   "cell_type": "code",
   "outputs": [
    {
     "name": "stdout",
     "output_type": "stream",
     "text": [
      " message: Optimization terminated successfully.\n",
      " success: True\n",
      "  status: 1\n",
      "     fun: -1.0285\n",
      "       x: [ 5.428e-02 -1.551e-02  9.903e-01  3.557e-03 -1.560e-02\n",
      "           -6.365e-03  3.996e-03  7.728e-03]\n",
      "    nfev: 82\n",
      "   maxcv: 0.0\n"
     ]
    },
    {
     "name": "stderr",
     "output_type": "stream",
     "text": [
      "/var/folders/38/kddld1k955775hyf55xdjbm40000gn/T/ipykernel_1945/1142198498.py:6: DeprecationWarning: The method ``qiskit.circuit.quantumcircuit.QuantumCircuit.bind_parameters()`` is deprecated as of qiskit 0.45.0. It will be removed in the Qiskit 1.0.0 release. Use assign_parameters() instead\n",
      "  prev_states.append(ansatz.bind_parameters(prev_opt_parameters))\n"
     ]
    },
    {
     "name": "stdout",
     "output_type": "stream",
     "text": [
      " message: Optimization terminated successfully.\n",
      " success: True\n",
      "  status: 1\n",
      "     fun: -1.4425\n",
      "       x: [-2.630e-01  1.288e+00  3.355e-01 -2.388e-01  2.948e+00\n",
      "            1.873e+00  2.003e-01 -5.800e-02]\n",
      "    nfev: 93\n",
      "   maxcv: 0.0\n"
     ]
    },
    {
     "name": "stderr",
     "output_type": "stream",
     "text": [
      "Traceback (most recent call last):\n",
      "capi_return is NULL\n",
      "Call-back cb_calcfc_in__cobyla__user__routines failed.\n",
      "Fatal Python error: F2PySwapThreadLocalCallbackPtr: F2PySwapThreadLocalCallbackPtr: PyLong_AsVoidPtr failed\n",
      "Python runtime state: initialized\n",
      "  File \"/Users/peterbuschenreiter/Documents/KDG/Year 3/lab/variational-algorithm-design/.venv/lib/python3.10/site-packages/scipy/optimize/_cobyla_py.py\", line 281, in calcfc\n",
      "    f = sf.fun(x)\n",
      "  File \"/Users/peterbuschenreiter/Documents/KDG/Year 3/lab/variational-algorithm-design/.venv/lib/python3.10/site-packages/scipy/optimize/_differentiable_functions.py\", line 278, in fun\n",
      "    self._update_fun()\n",
      "  File \"/Users/peterbuschenreiter/Documents/KDG/Year 3/lab/variational-algorithm-design/.venv/lib/python3.10/site-packages/scipy/optimize/_differentiable_functions.py\", line 262, in _update_fun\n",
      "    self._update_fun_impl()\n",
      "  File \"/Users/peterbuschenreiter/Documents/KDG/Year 3/lab/variational-algorithm-design/.venv/lib/python3.10/site-packages/scipy/optimize/_differentiable_functions.py\", line 163, in update_fun\n",
      "    self.f = fun_wrapped(self.x)\n",
      "  File \"/Users/peterbuschenreiter/Documents/KDG/Year 3/lab/variational-algorithm-design/.venv/lib/python3.10/site-packages/scipy/optimize/_differentiable_functions.py\", line 145, in fun_wrapped\n",
      "    fx = fun(np.copy(x), *args)\n",
      "  File \"/var/folders/38/kddld1k955775hyf55xdjbm40000gn/T/ipykernel_1945/2773243014.py\", line 30, in cost_func_vqd\n",
      "  File \"/Users/peterbuschenreiter/Documents/KDG/Year 3/lab/variational-algorithm-design/.venv/lib/python3.10/site-packages/qiskit_ibm_runtime/runtime_job.py\", line 218, in result\n",
      "    self.wait_for_final_state(timeout=timeout)\n",
      "  File \"/Users/peterbuschenreiter/Documents/KDG/Year 3/lab/variational-algorithm-design/.venv/lib/python3.10/site-packages/qiskit_ibm_runtime/runtime_job.py\", line 305, in wait_for_final_state\n",
      "    self._ws_client_future.result(timeout)\n",
      "  File \"/Library/Frameworks/Python.framework/Versions/3.10/lib/python3.10/concurrent/futures/_base.py\", line 441, in result\n",
      "    self._condition.wait(timeout)\n",
      "  File \"/Library/Frameworks/Python.framework/Versions/3.10/lib/python3.10/threading.py\", line 320, in wait\n",
      "    waiter.acquire()\n",
      "KeyboardInterrupt\n"
     ]
    }
   ],
   "source": [
    "from scipy.optimize import minimize\n",
    "\n",
    "for step in range(1, k + 1):\n",
    "\n",
    "    if step > 1:\n",
    "        prev_states.append(ansatz.assign_parameters(prev_opt_parameters))\n",
    "\n",
    "    result = minimize(cost_func_vqd, x0, args=(ansatz, prev_states, step, betas, estimator, sampler, observable),\n",
    "                      method=\"COBYLA\")\n",
    "    print(result)\n",
    "\n",
    "    prev_opt_parameters = result.x\n",
    "    eigenvalues.append(result.fun)"
   ],
   "metadata": {
    "collapsed": false,
    "is_executing": true,
    "ExecuteTime": {
     "start_time": "2024-02-14T09:58:46.061649Z"
    }
   },
   "id": "637cb85b4af35337"
  },
  {
   "cell_type": "code",
   "outputs": [],
   "source": [
    "eigenvalues"
   ],
   "metadata": {
    "collapsed": false
   },
   "id": "3ccde6f62e6c0071"
  },
  {
   "cell_type": "code",
   "outputs": [],
   "source": [
    "session.close()"
   ],
   "metadata": {
    "collapsed": false
   },
   "id": "7b6cf77d8e3ceefb"
  },
  {
   "cell_type": "markdown",
   "source": [
    "## Quantum Sampling Regression (QSR)\n",
    "\n",
    "One of the main issues with VQE is the multiple calls to a quantum computer that are required to obtain the parameters for each step, including $k,k-1$, etc. This is especially problematic when access to quantum devices is queued. While a `Session` can be used to group multiple iterative calls, an alternative approach is to use sampling. By utilizing more classical ../resources, we can complete the full optimization process in a single call. This is where Quantum Sampling Regression comes into play. Since access to quantum computers is still a low-offer/high-demand commodity, we find this trade-off to be both possible and convenient for many current studies. This approach harnesses all available classical capabilities while still capturing many of the inner workings and intrinsic properties of quantum computations that do not appear in simulation.\n",
    "\n",
    "![QSR Overview](../resources/QSR.png)\n",
    "\n",
    "The idea behind QSR is that the cost function $C(\\theta) := \\langle\\psi(\\theta)|\\hat H|\\psi(\\theta)\\rangle$ can be expressed as a Fourier series in the following manner:\n",
    "\n",
    "$$C(\\vec\\theta) := \\langle\\psi(\\theta)|\\hat H|\\psi(\\theta)\\rangle := a_0 + \\sum_{k=1}^S[a_k\\cos(k\\theta) + b_k\\sin(k\\theta)]$$\n",
    "\n",
    "Depending on the periodicity and bandwidth of the original function, the set $S$ may be finite or infinite. For the purpose of this discussion, we will assume that it is infinite. The next step is to sample the ocst function $C(\\theta)$ multiple times in order to obtain the Fourier coefficients $\\{a_0,a_k,b_k\\}_{k=1}^S$. Specifically, since we have $2S + 1$ unknowns, we will need to sample the cost function $2S+1$ times.\n",
    "\n",
    "If we then sample the cost function for $2S+1$ parameter values $\\{\\theta_1, \\ldots, \\theta_{2S+1}\\}$, we can obtain the following system:\n",
    "\n",
    "$$\n",
    "\\begin{pmatrix}\n",
    "    1 & \\cos(\\theta_1) & \\sin(\\theta_1) & \\cos(2\\theta_1) & \\ldots & \\sin(S\\theta_1) \\\\ \n",
    "    1 & \\cos(\\theta_2) & \\sin(\\theta_2) & \\cos(2\\theta_2) & \\ldots & \\sin(S\\theta_2) \\\\ \n",
    "    \\vdots & \\vdots & \\vdots & \\vdots & \\ddots & \\vdots \\\\ \n",
    "    1 & \\cos(\\theta_{2S+1}) & \\sin(\\theta_{2S+1}) & \\cos(2\\theta_{2S+1}) & \\ldots & \\sin(S\\theta_{2S+1}) \n",
    "\\end{pmatrix}\n",
    "\\begin{pmatrix}\n",
    "    a_0 \\\\ \n",
    "    a_1 \\\\ \n",
    "    b_1 \\\\ \n",
    "    a_2 \\\\ \n",
    "    \\vdots \\\\ \n",
    "    b_S\n",
    "\\end{pmatrix} = \n",
    "\\begin{pmatrix}\n",
    "    C(\\theta_1) \\\\ \n",
    "    C(\\theta_2) \\\\ \n",
    "    \\vdots \\\\ \n",
    "    C(\\theta_{2S+1})\n",
    "\\end{pmatrix}\n",
    "$$ \n",
    "\n",
    "that we'll rewrite as $$F_a = c$$\n",
    "\n",
    "In practice, this system is generally not consistent because the cost function values $c$ are not exact. Therefore, it is usually a good idea to normalize themm by multiplying them by $F^\\dagger$ on the left, which results in:\n",
    "\n",
    "$$F^\\dagger Fa = F^\\dagger c$$\n",
    "\n",
    "This new system is always consistent, and its solution is a least-squares solution to the original problem. If we have $k$ parameters instead of just one, and each parameter $\\theta^i$ has its own $S_i$ for $i \\in 1,\\ldots,k$, then the total number of samples required is:\n",
    "\n",
    "$$\n",
    "T = \\prod_{i=1}^k(2S_i + 1) \\leq \\prod_{i=1}^k(2S_{max} + 1) = (2S_{max} + 1)^n\n",
    "$$\n",
    "\n",
    "where $S_{max} = \\max_i(S_i)$. Furthermore, adjusting $S_{max}$ as a tunable parameter (instead of inferring it) opens up new possibilities, such as:\n",
    "- **Oversampling**: to improve accuracy.\n",
    "- **Undersampling**: to boost performance by reducing runtime overhead or eliminating local minima.\n",
    "\n",
    "### QSR's Theoretical Layout\n",
    "\n",
    "- Prepare a reference operators $U_R$.\n",
    "  - We'll go from the state $|0\\rangle$ to the reference state $|p\\rangle$.\n",
    "- Apply the variational form $U_V(\\vec\\theta_{i,j})$ to create an ansatz $U_A(\\vec\\theta_{i,j})$.\n",
    "  - Determine the bandwidth associated with each parameter in the ansatz. An upper bound is sufficient.\n",
    "- Bootstrap at $i = 0$ if we have a similar problem (typically found via classical simulation or sampling).\n",
    "- Sample the cost function $C(\\vec\\theta) := a_0 + \\sum_{k=1}^S[a_k\\cos(k\\theta) + b_k\\sin(k\\theta)]$ at least $T$ times.\n",
    "  - $T = \\prod_{i=1}^k(2S_i+1)\\leq\\prod_{i=1}^k(2S_{max}+1)=(2S_{max}+1)^n$\n",
    "  - Decide whether to oversample/undersample to balance accuracy vs speed by adjusting $T$.\n",
    "- Compute the Fourier coefficients from the samples (i.e., solve the normalized linear system of equations).\n",
    "- Solve for the global minimum of the resulting regression function on a classical machine. "
   ],
   "metadata": {
    "collapsed": false
   },
   "id": "564cf3540d2f7151"
  },
  {
   "cell_type": "code",
   "outputs": [],
   "source": [],
   "metadata": {
    "collapsed": false
   },
   "id": "d2cdf9f6558eb5e4"
  }
 ],
 "metadata": {
  "kernelspec": {
   "display_name": "Python 3",
   "language": "python",
   "name": "python3"
  },
  "language_info": {
   "codemirror_mode": {
    "name": "ipython",
    "version": 2
   },
   "file_extension": ".py",
   "mimetype": "text/x-python",
   "name": "python",
   "nbconvert_exporter": "python",
   "pygments_lexer": "ipython2",
   "version": "2.7.6"
  }
 },
 "nbformat": 4,
 "nbformat_minor": 5
}

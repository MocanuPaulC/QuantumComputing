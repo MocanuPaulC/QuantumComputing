{
 "cells": [
  {
   "cell_type": "markdown",
   "source": [
    "# Examples and Applications\n",
    "\n",
    "## Problem definitions\n",
    "\n",
    "Imagine that we want to use a variational algorithm to find the eigenvalue of the following oberservable:\n",
    "$$\\hat O_1 = 2II - 2XX + 3YY - 3ZZ$$\n",
    "This observable has the following eigenvalues:\n",
    "$$\n",
    "\\begin{Bmatrix}\n",
    "    \\lambda_0 = -6 \\\\\n",
    "    \\lambda_1 = 4 \\\\\n",
    "    \\lambda_2 = 4 \\\\\n",
    "    \\lambda_3 = 6\n",
    "\\end{Bmatrix}\n",
    "$$\n",
    "And eigenstates:\n",
    "$$\n",
    "\n",
    "\n",
    "\\begin{Bmatrix}\n",
    "    |\\psi_0\\rangle = \\frac{1}{\\sqrt2}(|00\\rangle + |11\\rangle) \\\\\n",
    "    |\\psi_1\\rangle = \\frac{1}{\\sqrt2}(|00\\rangle - |11\\rangle) \\\\\n",
    "    |\\psi_2\\rangle = \\frac{1}{\\sqrt2}(|01\\rangle - |10\\rangle) \\\\\n",
    "    |\\psi_3\\rangle = \\frac{1}{\\sqrt2}(|01\\rangle + |10\\rangle)\n",
    "\\end{Bmatrix}\n",
    "$$"
   ],
   "metadata": {
    "collapsed": false
   },
   "id": "9628ae8dfdfcea87"
  },
  {
   "cell_type": "code",
   "outputs": [],
   "source": [
    "from dotenv import load_dotenv\n",
    "from os import getenv\n",
    "\n",
    "load_dotenv()\n",
    "token = getenv('IBM_TOKEN')"
   ],
   "metadata": {
    "collapsed": false,
    "ExecuteTime": {
     "end_time": "2024-02-15T10:27:51.722555Z",
     "start_time": "2024-02-15T10:27:51.706995Z"
    }
   },
   "id": "f96f424c5868dfd9",
   "execution_count": 6
  },
  {
   "cell_type": "code",
   "execution_count": 1,
   "id": "initial_id",
   "metadata": {
    "collapsed": true,
    "ExecuteTime": {
     "end_time": "2024-02-15T10:24:03.032561Z",
     "start_time": "2024-02-15T10:24:02.364970Z"
    }
   },
   "outputs": [],
   "source": [
    "from qiskit.quantum_info import SparsePauliOp\n",
    "\n",
    "observable_1 = SparsePauliOp.from_list([(\"II\", 2), (\"XX\", -2), (\"YY\", 3), (\"ZZ\", -3)])"
   ]
  },
  {
   "cell_type": "markdown",
   "source": [
    "## Custom VQE\n",
    "\n",
    "We'll first explore how to construct a VQE instance manually to find the lowest eigenvalue for $\\hat O_1$. This will incorporate a variety of techniques that we have covered throughout this course."
   ],
   "metadata": {
    "collapsed": false
   },
   "id": "c6f8a09ad5867e53"
  },
  {
   "cell_type": "code",
   "outputs": [],
   "source": [
    "from qiskit.circuit.library import TwoLocal\n",
    "from qiskit import QuantumCircuit\n",
    "from qiskit_ibm_runtime import QiskitRuntimeService, Estimator, Session\n",
    "\n",
    "\n",
    "def cost_func_vqe(params, ansatz, hamiltonian, estimator):\n",
    "    \"\"\"Return estimate of energy from estimator\n",
    "\n",
    "    Parameters:\n",
    "        params (ndarray): Array of ansatz parameters\n",
    "        ansatz (QuantumCircuit): Parameterized ansatz circuit\n",
    "        hamiltonian (SparsePauliOp): Operator representation of Hamiltonian\n",
    "        estimator (Estimator): Estimator primitive instance\n",
    "\n",
    "    Returns:\n",
    "        float: Energy estimate\n",
    "    \"\"\"\n",
    "    cost = estimator.run(ansatz, hamiltonian, parameter_values=params).result().values[0]\n",
    "    return cost"
   ],
   "metadata": {
    "collapsed": false,
    "ExecuteTime": {
     "end_time": "2024-02-15T10:27:07.166026Z",
     "start_time": "2024-02-15T10:27:06.895781Z"
    }
   },
   "id": "6c0d46e56446206c",
   "execution_count": 2
  },
  {
   "cell_type": "code",
   "outputs": [
    {
     "data": {
      "text/plain": "<Figure size 621.739x200.667 with 1 Axes>",
      "image/png": "[encoded data removed]"
     },
     "execution_count": 4,
     "metadata": {},
     "output_type": "execute_result"
    }
   ],
   "source": [
    "import numpy as np\n",
    "\n",
    "reference_circuit = QuantumCircuit(2)\n",
    "reference_circuit.x(0)\n",
    "\n",
    "variational_form = TwoLocal(\n",
    "    2,\n",
    "    rotation_blocks=[\"rz\", \"ry\"],\n",
    "    entanglement_blocks=\"cx\",\n",
    "    entanglement=\"linear\",\n",
    "    reps=1,\n",
    ")\n",
    "ansatz = reference_circuit.compose(variational_form)\n",
    "\n",
    "ansatz.decompose().draw('mpl', style='iqp')"
   ],
   "metadata": {
    "collapsed": false,
    "ExecuteTime": {
     "end_time": "2024-02-15T10:27:17.888380Z",
     "start_time": "2024-02-15T10:27:17.816663Z"
    }
   },
   "id": "cfade23e8fe6f285",
   "execution_count": 4
  },
  {
   "cell_type": "code",
   "outputs": [],
   "source": [
    "# IBM Qiskit Runtime\n",
    "from qiskit_ibm_runtime import QiskitRuntimeService\n",
    "from qiskit_ibm_runtime import Estimator, Sampler, Session\n",
    "\n",
    "# Add your token below\n",
    "service = QiskitRuntimeService(channel='ibm_quantum', token=token)\n",
    "backend = service.get_backend(\"ibmq_qasm_simulator\")\n",
    "\n",
    "session = Session(backend=backend)\n",
    "\n",
    "estimator = Estimator(session=session)\n",
    "sampler = Sampler(session=session)"
   ],
   "metadata": {
    "collapsed": false,
    "ExecuteTime": {
     "end_time": "2024-02-15T10:28:07.619933Z",
     "start_time": "2024-02-15T10:28:00.688795Z"
    }
   },
   "id": "f090b607735c8048",
   "execution_count": 7
  },
  {
   "cell_type": "markdown",
   "source": [
    "We now set an initial set of parameters:"
   ],
   "metadata": {
    "collapsed": false
   },
   "id": "8db63b8034e46d34"
  },
  {
   "cell_type": "code",
   "outputs": [],
   "source": [
    "import numpy as np\n",
    "\n",
    "x0 = np.ones(8)"
   ],
   "metadata": {
    "collapsed": false,
    "ExecuteTime": {
     "end_time": "2024-02-15T10:28:09.626168Z",
     "start_time": "2024-02-15T10:28:09.615686Z"
    }
   },
   "id": "1a65f0761cdb53b2",
   "execution_count": 8
  },
  {
   "cell_type": "markdown",
   "source": [
    "We can minimize this cost function to calculate optimal parameters"
   ],
   "metadata": {
    "collapsed": false
   },
   "id": "1249c3a58d55f38e"
  },
  {
   "cell_type": "code",
   "outputs": [],
   "source": [
    "# SciPy minimizer routine\n",
    "from scipy.optimize import minimize\n",
    "import time\n",
    "\n",
    "start_time = time.time()\n",
    "\n",
    "result = minimize(cost_func_vqe, x0, args=(ansatz, observable_1, estimator), method=\"COBYLA\")\n",
    "\n",
    "end_time = time.time()\n",
    "execution_time = end_time - start_time"
   ],
   "metadata": {
    "collapsed": false,
    "ExecuteTime": {
     "end_time": "2024-02-15T10:44:15.800921Z",
     "start_time": "2024-02-15T10:29:07.952783Z"
    }
   },
   "id": "f2a05fcaaf690127",
   "execution_count": 9
  },
  {
   "cell_type": "code",
   "outputs": [
    {
     "data": {
      "text/plain": " message: Optimization terminated successfully.\n success: True\n  status: 1\n     fun: -5.9985\n       x: [ 1.875e+00  6.943e-01  1.575e+00  2.094e-03  2.317e+00\n            8.134e-01  8.333e-01  8.102e-01]\n    nfev: 85\n   maxcv: 0.0"
     },
     "execution_count": 10,
     "metadata": {},
     "output_type": "execute_result"
    }
   ],
   "source": [
    "result"
   ],
   "metadata": {
    "collapsed": false,
    "ExecuteTime": {
     "end_time": "2024-02-15T10:44:15.816830Z",
     "start_time": "2024-02-15T10:44:15.808211Z"
    }
   },
   "id": "482f8e34b7bea75f",
   "execution_count": 10
  },
  {
   "cell_type": "code",
   "outputs": [
    {
     "name": "stdout",
     "output_type": "stream",
     "text": [
      "Number of iterations: 85\n",
      "Time (s): 907.8338372707367\n",
      "Percent error: 2.50e-04\n"
     ]
    }
   ],
   "source": [
    "from numpy.linalg import eigvalsh\n",
    "\n",
    "solution_eigenvalue = min(eigvalsh(observable_1.to_matrix()))\n",
    "\n",
    "print(f\"\"\"Number of iterations: {result.nfev}\"\"\")\n",
    "print(f\"\"\"Time (s): {execution_time}\"\"\")\n",
    "\n",
    "experimental_min_eigenvalue = cost_func_vqe(result.x, ansatz, observable_1, estimator)\n",
    "\n",
    "print(\n",
    "    f\"Percent error: {abs((experimental_min_eigenvalue - solution_eigenvalue) / solution_eigenvalue):.2e}\"\n",
    ")"
   ],
   "metadata": {
    "collapsed": false,
    "ExecuteTime": {
     "end_time": "2024-02-15T11:30:06.349899Z",
     "start_time": "2024-02-15T11:30:06.337478Z"
    }
   },
   "id": "f0ebbe5a6a5b3680",
   "execution_count": 13
  },
  {
   "cell_type": "markdown",
   "source": [
    "As you can see the result is extremely close to the ideal."
   ],
   "metadata": {
    "collapsed": false
   },
   "id": "888c347ff1e3e553"
  },
  {
   "cell_type": "markdown",
   "source": [
    "## Experimenting to improve speed and accuracy\n",
    "\n",
    "### Add reference state\n",
    "\n",
    "In the previous example we have not used any reference operator $U_R$. Now let us think about how the ideal eigenstate $\\frac{1}{\\sqrt2(|00\\rangle+|11\\rangle)$ can be obtained. Consider the following circuit: "
   ],
   "metadata": {
    "collapsed": false
   },
   "id": "5f3fd56090f51de"
  },
  {
   "cell_type": "code",
   "outputs": [
    {
     "data": {
      "text/plain": "<Figure size 287.294x200.667 with 1 Axes>",
      "image/png": "[encoded data removed]"
     },
     "execution_count": 15,
     "metadata": {},
     "output_type": "execute_result"
    }
   ],
   "source": [
    "from qiskit import QuantumCircuit\n",
    "\n",
    "ideal_qc = QuantumCircuit(2)\n",
    "ideal_qc.h(0)\n",
    "ideal_qc.cx(0, 1)\n",
    "\n",
    "ideal_qc.draw(\"mpl\", style=\"iqp\")"
   ],
   "metadata": {
    "collapsed": false,
    "ExecuteTime": {
     "end_time": "2024-02-15T11:33:17.162529Z",
     "start_time": "2024-02-15T11:33:17.030136Z"
    }
   },
   "id": "5d5f284951c36e35",
   "execution_count": 15
  },
  {
   "cell_type": "code",
   "outputs": [
    {
     "name": "stdout",
     "output_type": "stream",
     "text": [
      "Statevector([0.70710678+0.j, 0.        +0.j, 0.        +0.j,\n",
      "             0.70710678+0.j],\n",
      "            dims=(2, 2))\n"
     ]
    }
   ],
   "source": [
    "from qiskit.quantum_info import Statevector\n",
    "\n",
    "Statevector(ideal_qc)"
   ],
   "metadata": {
    "collapsed": false,
    "ExecuteTime": {
     "end_time": "2024-02-15T11:33:25.169251Z",
     "start_time": "2024-02-15T11:33:25.142382Z"
    }
   },
   "id": "5b8d1d2e34285531",
   "execution_count": 16
  },
  {
   "cell_type": "markdown",
   "source": [
    "Now that we have seen how a circuit preparing the solution state looks like, it seems reasonable to use a Hadamard gate as a reference circuit, so that the full ansatz becomes:"
   ],
   "metadata": {
    "collapsed": false
   },
   "id": "98a726a153bdd531"
  },
  {
   "cell_type": "code",
   "outputs": [
    {
     "data": {
      "text/plain": "<Figure size 788.961x200.667 with 1 Axes>",
      "image/png": "[encoded data removed]"
     },
     "execution_count": 18,
     "metadata": {},
     "output_type": "execute_result"
    }
   ],
   "source": [
    "reference = QuantumCircuit(2)\n",
    "reference.h(0)\n",
    "# Include barrier to separate reference from variational form\n",
    "reference.barrier()\n",
    "\n",
    "ref_ansatz = ansatz.decompose().compose(reference, front=True)\n",
    "\n",
    "ref_ansatz.draw(\"mpl\", style=\"iqp\")"
   ],
   "metadata": {
    "collapsed": false,
    "ExecuteTime": {
     "end_time": "2024-02-15T11:33:50.800362Z",
     "start_time": "2024-02-15T11:33:50.712830Z"
    }
   },
   "id": "55669a673a45bc4b",
   "execution_count": 18
  },
  {
   "cell_type": "markdown",
   "source": [
    "For this new circuit, the ideal solution could be reached with all the parameters set to $0$, so this confirms that the choice of reference circuit is reasonable.\n",
    "\n",
    "Now let us compare the number of cost function evaluations, optimizer iterations and time taken with those of the previous attempt."
   ],
   "metadata": {
    "collapsed": false
   },
   "id": "bd8a5c18f4287610"
  },
  {
   "cell_type": "code",
   "outputs": [],
   "source": [
    "import time\n",
    "\n",
    "start_time = time.time()\n",
    "\n",
    "ref_result = minimize(cost_func_vqe, x0, args=(ref_ansatz, observable_1, estimator), method=\"COBYLA\")\n",
    "\n",
    "end_time = time.time()\n",
    "execution_time = end_time - start_time"
   ],
   "metadata": {
    "collapsed": false,
    "ExecuteTime": {
     "end_time": "2024-02-15T11:49:52.994540Z",
     "start_time": "2024-02-15T11:35:37.269158Z"
    }
   },
   "id": "cca90f73b0adfad6",
   "execution_count": 19
  },
  {
   "cell_type": "code",
   "outputs": [
    {
     "data": {
      "text/plain": " message: Optimization terminated successfully.\n success: True\n  status: 1\n     fun: -5.987\n       x: [ 1.547e+00  8.438e-01  1.149e+00  1.448e-02  2.244e+00\n            2.536e+00  1.388e-01  1.399e-01]\n    nfev: 96\n   maxcv: 0.0"
     },
     "execution_count": 22,
     "metadata": {},
     "output_type": "execute_result"
    }
   ],
   "source": [
    "ref_result"
   ],
   "metadata": {
    "collapsed": false,
    "ExecuteTime": {
     "end_time": "2024-02-15T11:50:41.389444Z",
     "start_time": "2024-02-15T11:50:41.374064Z"
    }
   },
   "id": "24941027720050b0",
   "execution_count": 22
  },
  {
   "cell_type": "markdown",
   "source": [
    "Using our optimal parameters to calculate the minimum eigenvalue:"
   ],
   "metadata": {
    "collapsed": false
   },
   "id": "2313b314f5eafba1"
  },
  {
   "cell_type": "code",
   "outputs": [
    {
     "name": "stdout",
     "output_type": "stream",
     "text": [
      "-6.0\n"
     ]
    }
   ],
   "source": [
    "experimental_min_eigenvalue_ref = cost_func_vqe(result.x, ansatz, observable_1, estimator)\n",
    "print(experimental_min_eigenvalue_ref)"
   ],
   "metadata": {
    "collapsed": false,
    "ExecuteTime": {
     "end_time": "2024-02-15T11:50:19.745257Z",
     "start_time": "2024-02-15T11:50:01.274943Z"
    }
   },
   "id": "54655ed1e41597e6",
   "execution_count": 20
  },
  {
   "cell_type": "code",
   "outputs": [
    {
     "name": "stdout",
     "output_type": "stream",
     "text": [
      "ADDED REFERENCE STATE:\n",
      "Number of iterations: 85\n",
      "Time (s): 855.72181391716\n",
      "Percent error: 0.00e+00\n"
     ]
    }
   ],
   "source": [
    "print(\"ADDED REFERENCE STATE:\")\n",
    "print(f\"\"\"Number of iterations: {result.nfev}\"\"\")\n",
    "print(f\"\"\"Time (s): {execution_time}\"\"\")\n",
    "print(\n",
    "    f\"Percent error: {abs((experimental_min_eigenvalue_ref - solution_eigenvalue) / solution_eigenvalue):.2e}\"\n",
    ")"
   ],
   "metadata": {
    "collapsed": false,
    "ExecuteTime": {
     "end_time": "2024-02-15T11:51:56.249587Z",
     "start_time": "2024-02-15T11:51:56.233858Z"
    }
   },
   "id": "22034ea7365903e7",
   "execution_count": 24
  },
  {
   "cell_type": "markdown",
   "source": [
    "### Change initial point\n",
    "\n",
    "Now that we have seen the effect of adding the reference state, we will go into what happens when we choose different initial points $\\vec\\theta_0$. In particular we will use $\\vec\\theta_0 = (0,0,0,0,6,0,0,0)$. and $\\vec\\theta_0 = (6,6,6,6,6,6,6,6,6)$.\n",
    "\n",
    "Remember that, as discussed when the reference state was introduced, the ideal solution would be found when all the parameters are $0$, so the first initial point should give fewer evaluations."
   ],
   "metadata": {
    "collapsed": false
   },
   "id": "f1f8dee20e5566b7"
  },
  {
   "cell_type": "code",
   "outputs": [],
   "source": [
    "import time\n",
    "\n",
    "start_time = time.time()\n",
    "\n",
    "x0 = [0, 0, 0, 0, 6, 0, 0, 0]\n",
    "\n",
    "x0_1_result = minimize(cost_func_vqe, x0, args=(ansatz, observable_1, estimator), method=\"COBYLA\")\n",
    "\n",
    "end_time = time.time()\n",
    "execution_time = end_time - start_time"
   ],
   "metadata": {
    "collapsed": false,
    "ExecuteTime": {
     "end_time": "2024-02-15T12:14:37.143528Z",
     "start_time": "2024-02-15T11:55:46.238258Z"
    }
   },
   "id": "8a771aa4c27a7f29",
   "execution_count": 25
  },
  {
   "cell_type": "code",
   "outputs": [
    {
     "name": "stdout",
     "output_type": "stream",
     "text": [
      "INITIAL POINT 1:\n",
      "Number of iterations: 99\n",
      "Time (s): 1130.9006700515747\n"
     ]
    }
   ],
   "source": [
    "print(\"INITIAL POINT 1:\")\n",
    "print(f\"\"\"Number of iterations: {x0_1_result.nfev}\"\"\")\n",
    "print(f\"\"\"Time (s): {execution_time}\"\"\")"
   ],
   "metadata": {
    "collapsed": false,
    "ExecuteTime": {
     "end_time": "2024-02-15T12:48:26.720054Z",
     "start_time": "2024-02-15T12:48:26.712667Z"
    }
   },
   "id": "d3e0351b0e265a98",
   "execution_count": 26
  },
  {
   "cell_type": "markdown",
   "source": [
    "Adjusting initial point to $\\vec\\theta_0 = (6,6,6,6,6,6,6,6,6)$"
   ],
   "metadata": {
    "collapsed": false
   },
   "id": "17e7ece37e226752"
  },
  {
   "cell_type": "code",
   "outputs": [],
   "source": [
    "import time\n",
    "\n",
    "start_time = time.time()\n",
    "\n",
    "x0 = 6 * np.ones(8)\n",
    "\n",
    "x0_2_result = minimize(cost_func_vqe, x0, args=(ansatz, observable_1, estimator), method=\"COBYLA\")\n",
    "\n",
    "end_time = time.time()\n",
    "execution_time = end_time - start_time"
   ],
   "metadata": {
    "collapsed": false,
    "ExecuteTime": {
     "end_time": "2024-02-15T13:15:06.862081Z",
     "start_time": "2024-02-15T12:50:41.142898Z"
    }
   },
   "id": "8df92b3b5f101a38",
   "execution_count": 27
  },
  {
   "cell_type": "code",
   "outputs": [
    {
     "name": "stdout",
     "output_type": "stream",
     "text": [
      "INITIAL POINT 2:\n",
      "Number of iterations: 89\n",
      "Time (s): 1465.71688914299\n"
     ]
    }
   ],
   "source": [
    "print(\"INITIAL POINT 2:\")\n",
    "print(f\"\"\"Number of iterations: {x0_2_result.nfev}\"\"\")\n",
    "print(f\"\"\"Time (s): {execution_time}\"\"\")"
   ],
   "metadata": {
    "collapsed": false,
    "ExecuteTime": {
     "end_time": "2024-02-15T13:15:06.869578Z",
     "start_time": "2024-02-15T13:15:06.863484Z"
    }
   },
   "id": "22105814d2b17aa9",
   "execution_count": 28
  },
  {
   "cell_type": "markdown",
   "source": [
    "### Experimenting with different optimizers\n",
    "\n",
    "We can adjust the optimizer using SciPy `minimize`'s `method` argument with more options [found here](https://docs.scipy.org/doc/scipy/reference/generated/scipy.optimize.minimize.html). We originally used a constrained minimizer `COBYLA`. In this example, we'll explore using an unconstrained minimizer `BFGS` instead."
   ],
   "metadata": {
    "collapsed": false
   },
   "id": "43a4a1794a76d699"
  },
  {
   "cell_type": "code",
   "outputs": [],
   "source": [
    "import time\n",
    "\n",
    "start_time = time.time()\n",
    "\n",
    "result = minimize(cost_func_vqe, x0, args=(ansatz, observable_1, estimator), method=\"BFGS\")\n",
    "\n",
    "end_time = time.time()\n",
    "execution_time = end_time - start_time"
   ],
   "metadata": {
    "collapsed": false,
    "ExecuteTime": {
     "end_time": "2024-02-15T14:17:34.464677Z",
     "start_time": "2024-02-15T13:15:06.866371Z"
    }
   },
   "id": "6f56bbca36015e31",
   "execution_count": 29
  },
  {
   "cell_type": "code",
   "outputs": [
    {
     "name": "stdout",
     "output_type": "stream",
     "text": [
      "CHANGED TO BFGS OPTIMIZER:\n",
      "Number of iterations: 237\n",
      "Time (s): 3747.585948944092\n"
     ]
    }
   ],
   "source": [
    "print(\"CHANGED TO BFGS OPTIMIZER:\")\n",
    "print(f\"\"\"Number of iterations: {result.nfev}\"\"\")\n",
    "print(f\"\"\"Time (s): {execution_time}\"\"\")"
   ],
   "metadata": {
    "collapsed": false,
    "ExecuteTime": {
     "end_time": "2024-02-15T14:17:34.478005Z",
     "start_time": "2024-02-15T14:17:34.467110Z"
    }
   },
   "id": "1dc42fe72958aa02",
   "execution_count": 30
  },
  {
   "cell_type": "markdown",
   "source": [
    "## VQD example\n",
    "\n",
    "Now instead of looking for only the lowest eigenvalue of our observables, we will look for all $4$, where $k=4$.\n",
    "\n",
    "Remember that the cost functions of VQD are:\n",
    "\n",
    "$$\n",
    "C_l(\\vec\\theta) := \\langle\\psi(\\vec\\theta)|\\hat H|\\psi(\\vec\\theta)\\rangle + \\sum_{j=0}^{l-1}\\beta_j|\\langle\\psi(\\vec\\theta)|\\psi(\\vec\\theta^j)\\rangle|^2 \\hspace{20} \\forall l \\in \\{1,\\ldots,k\\} = \\{1,\\ldots,4\\}\n",
    "$$\n",
    "\n",
    "This is particularly important because a vector $\\vec\\beta = (\\beta_0, \\ldots, \\beta_{k-1})$ (in this case $(\\beta_0, \\beta_1, \\beta_2, \\beta_3)$) must be passed as an argument when we define the `VQD` object.\n",
    "\n",
    "Also, in Qiskit's implementation of VQD, instead of considering the effective observables described in the previous notebook, the fidelities $|\\langle\\psi(\\vec\\theta)|\\psi(\\vec\\theta^j)\\rangle|^2$ are calculated directly via the `ComputeUncompute` algorithm, that leverages a `Sampler` primitive to sample the probability of obtaining $|0\\rangle$ for the circuit $U_A^\\dagger(\\vec\\theta)U_A(\\vec\\theta^j)$. This works precisely because this probability is\n",
    "\n",
    "$$\n",
    "\\begin{align}\n",
    "p_0 &= |\\langle(|U_A^\\dagger(\\vec\\theta)U_A(\\vec\\theta^j)|0\\rangle|^2 \\\\\n",
    "    &= |(\\langle0|U_A^\\dagger(\\vec\\theta))(U_A(\\vec\\theta^j)|0\\rangle)|^2 \\\\\n",
    "    &= |\\langle\\psi(\\vec\\theta)|\\psi(\\vec\\theta^j)\\rangle|^2\n",
    "\\end{align}\n",
    "$$"
   ],
   "metadata": {
    "collapsed": false
   },
   "id": "3844c71217a92f9e"
  },
  {
   "cell_type": "code",
   "outputs": [],
   "source": [
    "from qiskit.circuit.library import TwoLocal\n",
    "\n",
    "ansatz = TwoLocal(2, rotation_blocks=[\"ry\", \"rz\"], entanglement_blocks=\"cz\", reps=1)\n",
    "\n",
    "ansatz.decompose().draw('mpl', style='iqp')"
   ],
   "metadata": {
    "collapsed": false,
    "is_executing": true
   },
   "id": "724feb6983ce0600",
   "execution_count": null
  },
  {
   "cell_type": "markdown",
   "source": [
    "Let's start by examining the following observable:\n",
    "\n",
    "$$\n",
    "\\hat O_2 = 2II - 3XX + 2YY - 4ZZ\n",
    "$$\n",
    "\n",
    "This observable has the following eigenvalues:\n",
    "\n",
    "$$\n",
    "\\begin{Bmatrix}\n",
    "    \\lambda_0 = -7 \\\\\n",
    "    \\lambda_1 = 3 \\\\\n",
    "    \\lambda_2 = 5 \\\\\n",
    "    \\lambda_3 = 7\n",
    "\\end{Bmatrix}\n",
    "$$\n",
    "\n",
    "And eigenstates:\n",
    "\n",
    "$$\n",
    "\\begin{Bmatrix}\n",
    "    |\\phi_0\\rangle = \\frac{1}{\\sqrt2}(|00\\rangle + |11\\rangle) \\\\\n",
    "    |\\phi_1\\rangle = \\frac{1}{\\sqrt2}(|00\\rangle - |11\\rangle) \\\\\n",
    "    |\\phi_2\\rangle = \\frac{1}{\\sqrt2}(|01\\rangle + |10\\rangle) \\\\\n",
    "    |\\phi_3\\rangle = \\frac{1}{\\sqrt2}(|01\\rangle - |10\\rangle)\n",
    "\\end{Bmatrix}\n",
    "$$"
   ],
   "metadata": {
    "collapsed": false
   },
   "id": "6c9c8983df56a7"
  },
  {
   "cell_type": "code",
   "outputs": [],
   "source": [
    "from qiskit.quantum_info import SparsePauliOp\n",
    "\n",
    "observable_2 = SparsePauliOp.from_list([(\"II\", 2), (\"XX\", -3), (\"YY\", 2), (\"ZZ\", -4)])"
   ],
   "metadata": {
    "collapsed": false,
    "ExecuteTime": {
     "end_time": "2024-02-15T14:17:34.599525Z",
     "start_time": "2024-02-15T14:17:34.589373Z"
    }
   },
   "id": "a5466d0f19ab0987",
   "execution_count": 32
  },
  {
   "cell_type": "markdown",
   "source": [
    "We'll be using the following function to calculate the overlap penalty:"
   ],
   "metadata": {
    "collapsed": false
   },
   "id": "a00fff39107d0b1a"
  },
  {
   "cell_type": "code",
   "outputs": [],
   "source": [
    "from qiskit.circuit import ParameterVector\n",
    "\n",
    "\n",
    "def calculate_overlap(circuits_1, circuits_2, parameters, sampler):\n",
    "    def get_global_fidelity(probability_distribution):\n",
    "        \"\"\"Process the probability distribution of a measurement to determine the\n",
    "        global fidelity.\n",
    "        \"\"\"\n",
    "        return probability_distribution.get(0, 0)\n",
    "\n",
    "    def create_fidelity_circuit(circuit_1, circuit_2):\n",
    "        if len(circuit_1.clbits) > 0:\n",
    "            circuit_1.remove_final_measurements()\n",
    "        if len(circuit_2.clbits) > 0:\n",
    "            circuit_2.remove_final_measurements()\n",
    "\n",
    "        circuit = circuit_1.compose(circuit_2.inverse())\n",
    "        circuit.measure_all()\n",
    "        return circuit\n",
    "\n",
    "    def construct_fidelity_circuits(circuits_1, circuits_2):\n",
    "        \"\"\"\n",
    "        Constructs the list of fidelity circuits to be evaluated.\n",
    "        These circuits represent the state overlap between pairs of input circuits,\n",
    "        and their construction depends on the fidelity method implementations.\n",
    "        \"\"\"\n",
    "        circuits = []\n",
    "        for (circuit_1, circuit_2) in zip(circuits_1, circuits_2):\n",
    "            # re-parametrize input circuits\n",
    "            parameters_1 = ParameterVector(\"x\", circuit_1.num_parameters)\n",
    "            parametrized_circuit_1 = circuit_1.assign_parameters(parameters_1)\n",
    "            parameters_2 = ParameterVector(\"y\", circuit_2.num_parameters)\n",
    "            parametrized_circuit_2 = circuit_2.assign_parameters(parameters_2)\n",
    "\n",
    "            circuit = create_fidelity_circuit(\n",
    "                parametrized_circuit_1, parametrized_circuit_2\n",
    "            )\n",
    "            circuits.append(circuit)\n",
    "\n",
    "        return circuits\n",
    "\n",
    "    circuits = construct_fidelity_circuits(circuits_1, circuits_2)\n",
    "\n",
    "    job = sampler.run(circuits=circuits, parameter_values=parameters)\n",
    "    result = job.result()\n",
    "\n",
    "    raw_fidelities = [\n",
    "        get_global_fidelity(prob_dist) for prob_dist in result.quasi_dists\n",
    "    ]\n",
    "\n",
    "    return np.clip(raw_fidelities, 0, 1).tolist()"
   ],
   "metadata": {
    "collapsed": false,
    "ExecuteTime": {
     "end_time": "2024-02-15T14:17:34.613983Z",
     "start_time": "2024-02-15T14:17:34.598019Z"
    }
   },
   "id": "e9647accc9d56f92",
   "execution_count": 33
  },
  {
   "cell_type": "markdown",
   "source": [
    "We'll setup our runtime primitives:"
   ],
   "metadata": {
    "collapsed": false
   },
   "id": "b3d04cd635c22d59"
  },
  {
   "cell_type": "code",
   "outputs": [],
   "source": [
    "# IBM Qiskit Runtime\n",
    "from qiskit_ibm_runtime import QiskitRuntimeService\n",
    "from qiskit_ibm_runtime import Estimator, Sampler, Session\n",
    "\n",
    "# Add your token below\n",
    "service = QiskitRuntimeService(channel='ibm_quantum', token=token)\n",
    "backend = service.get_backend(\"ibmq_qasm_simulator\")\n",
    "\n",
    "session = Session(backend=backend)\n",
    "\n",
    "estimator = Estimator(session=session)\n",
    "sampler = Sampler(session=session)"
   ],
   "metadata": {
    "collapsed": false,
    "ExecuteTime": {
     "end_time": "2024-02-15T14:17:45.997161Z",
     "start_time": "2024-02-15T14:17:34.603840Z"
    }
   },
   "id": "cc4de9d17451c0fe",
   "execution_count": 34
  },
  {
   "cell_type": "markdown",
   "source": [
    "Now, we'll add VQD's cost function:"
   ],
   "metadata": {
    "collapsed": false
   },
   "id": "2304620164fce8e0"
  },
  {
   "cell_type": "code",
   "outputs": [],
   "source": [
    "import numpy as np\n",
    "\n",
    "\n",
    "def cost_func_vqd(parameters, ansatz, prev_states, step, betas, estimator, sampler, hamiltonian):\n",
    "    if len(parameters.shape) == 1:\n",
    "        parameters = np.reshape(parameters, (-1, ansatz.num_parameters))\n",
    "\n",
    "    batch_size = len(parameters)\n",
    "\n",
    "    estimator_job = estimator.run(\n",
    "        batch_size * [ansatz], batch_size * [hamiltonian], parameters\n",
    "    )\n",
    "\n",
    "    total_cost = np.zeros(batch_size)\n",
    "\n",
    "    if step > 1:\n",
    "        # compute overlap cost\n",
    "        batched_prev_states = [state for state in prev_states for _ in range(batch_size)]\n",
    "        costs = calculate_overlap(\n",
    "            batch_size * [ansatz] * (step - 1),\n",
    "            batched_prev_states,\n",
    "            np.tile(parameters, (step - 1, 1)),\n",
    "            sampler\n",
    "        )\n",
    "\n",
    "        costs = np.reshape(costs, (step - 1, -1))\n",
    "        for state, cost in enumerate(costs):\n",
    "            total_cost += np.real(betas[state] * cost)\n",
    "\n",
    "    estimator_result = estimator_job.result()\n",
    "\n",
    "    values = estimator_result.values + total_cost\n",
    "\n",
    "    return values if len(values) > 1 else values[0]"
   ],
   "metadata": {
    "collapsed": false,
    "ExecuteTime": {
     "end_time": "2024-02-15T14:17:46.017363Z",
     "start_time": "2024-02-15T14:17:46.006024Z"
    }
   },
   "id": "1bd4222fea17a873",
   "execution_count": 35
  },
  {
   "cell_type": "code",
   "outputs": [],
   "source": [
    "from qiskit.quantum_info import SparsePauliOp\n",
    "\n",
    "k = 4\n",
    "betas = [40, 60, 30, 30]\n",
    "x0 = np.zeros(8)\n",
    "\n",
    "prev_states = []\n",
    "prev_opt_parameters = []\n",
    "eigenvalues = []"
   ],
   "metadata": {
    "collapsed": false,
    "ExecuteTime": {
     "end_time": "2024-02-15T14:17:46.018365Z",
     "start_time": "2024-02-15T14:17:46.013262Z"
    }
   },
   "id": "f2c483e593cfb7ca",
   "execution_count": 36
  },
  {
   "cell_type": "code",
   "outputs": [
    {
     "name": "stdout",
     "output_type": "stream",
     "text": [
      " message: Optimization terminated successfully.\n",
      " success: True\n",
      "  status: 1\n",
      "     fun: -2.0940000000000003\n",
      "       x: [-1.481e-05 -1.868e-05  1.000e+00  3.208e-05  6.433e-05\n",
      "           -9.908e-06  1.000e+00  6.024e-05]\n",
      "    nfev: 69\n",
      "   maxcv: 0.0\n"
     ]
    },
    {
     "name": "stderr",
     "output_type": "stream",
     "text": [
      "/var/folders/38/kddld1k955775hyf55xdjbm40000gn/T/ipykernel_63468/200811002.py:6: DeprecationWarning: The method ``qiskit.circuit.quantumcircuit.QuantumCircuit.bind_parameters()`` is deprecated as of qiskit 0.45.0. It will be removed in the Qiskit 1.0.0 release. Use assign_parameters() instead\n",
      "  prev_states.append(ansatz.bind_parameters(prev_opt_parameters))\n"
     ]
    },
    {
     "name": "stdout",
     "output_type": "stream",
     "text": [
      " message: Optimization terminated successfully.\n",
      " success: True\n",
      "  status: 1\n",
      "     fun: -2.4139999999999997\n",
      "       x: [-2.321e-01  1.158e+00  1.095e+00 -1.283e-01  3.118e+00\n",
      "            1.891e+00  3.861e-01  1.527e-01]\n",
      "    nfev: 106\n",
      "   maxcv: 0.0\n",
      " message: Optimization terminated successfully.\n",
      " success: True\n",
      "  status: 1\n",
      "     fun: 5.151\n",
      "       x: [ 1.650e+00  1.587e+00 -1.147e-01 -3.307e-01  1.708e+00\n",
      "           -1.503e-01  1.332e-01  8.999e-01]\n",
      "    nfev: 89\n",
      "   maxcv: 0.0\n",
      " message: Optimization terminated successfully.\n",
      " success: True\n",
      "  status: 1\n",
      "     fun: 7.0105\n",
      "       x: [ 1.601e+00 -1.554e+00 -6.788e-02  2.848e-02  2.742e-01\n",
      "           -1.254e+00  4.281e-02  4.916e-01]\n",
      "    nfev: 109\n",
      "   maxcv: 0.0\n"
     ]
    }
   ],
   "source": [
    "from scipy.optimize import minimize\n",
    "\n",
    "for step in range(1, k + 1):\n",
    "\n",
    "    if step > 1:\n",
    "        prev_states.append(ansatz.assign_parameters(prev_opt_parameters))\n",
    "\n",
    "    result = minimize(cost_func_vqd, x0, args=(ansatz, prev_states, step, betas, estimator, sampler, observable_2),\n",
    "                      method=\"COBYLA\")\n",
    "    print(result)\n",
    "\n",
    "    prev_opt_parameters = result.x\n",
    "    eigenvalues.append(result.fun)"
   ],
   "metadata": {
    "collapsed": false,
    "ExecuteTime": {
     "end_time": "2024-02-15T16:26:36.612284Z",
     "start_time": "2024-02-15T14:17:46.017225Z"
    }
   },
   "id": "f9ba262fb357a0a5",
   "execution_count": 37
  },
  {
   "cell_type": "code",
   "outputs": [
    {
     "data": {
      "text/plain": "[-2.0940000000000003, -2.4139999999999997, 5.151, 7.0105]"
     },
     "execution_count": 38,
     "metadata": {},
     "output_type": "execute_result"
    }
   ],
   "source": [
    "eigenvalues"
   ],
   "metadata": {
    "collapsed": false,
    "ExecuteTime": {
     "end_time": "2024-02-15T16:26:36.614770Z",
     "start_time": "2024-02-15T16:26:36.609502Z"
    }
   },
   "id": "6ebeb022ab455de0",
   "execution_count": 38
  },
  {
   "cell_type": "markdown",
   "source": [
    "These results are the same as the expected ones except from a small approximation error and global phase."
   ],
   "metadata": {
    "collapsed": false
   },
   "id": "a35526f026f9886e"
  },
  {
   "cell_type": "code",
   "outputs": [
    {
     "name": "stdout",
     "output_type": "stream",
     "text": [
      "Percent error: 7.01e-01\n",
      "Percent error: 1.80e+00\n",
      "Percent error: 3.02e-02\n",
      "Percent error: 1.50e-03\n"
     ]
    }
   ],
   "source": [
    "solution_eigenvalues = [-7, 3, 5, 7]\n",
    "\n",
    "for index, experimental_eigenvalue in enumerate(eigenvalues):\n",
    "    solution_eigenvalue = solution_eigenvalues[index]\n",
    "\n",
    "    print(\n",
    "        f\"Percent error: {abs((experimental_eigenvalue - solution_eigenvalue) / solution_eigenvalue):.2e}\"\n",
    "    )"
   ],
   "metadata": {
    "collapsed": false,
    "ExecuteTime": {
     "end_time": "2024-02-15T16:26:36.626558Z",
     "start_time": "2024-02-15T16:26:36.614250Z"
    }
   },
   "id": "ca519cf2581b8720",
   "execution_count": 39
  },
  {
   "cell_type": "markdown",
   "source": [
    "### Change betas\n",
    "\n",
    "As mentioned in the instances lesson, the values of \\vec\\beta should be bigger than the difference between eigenvalues. Let us see what happens when they do not satisfy that condition $\\hat O_2$.\n",
    "\n",
    "$$\n",
    "\\hat O_2 = 2II - 3XX + 2YY - 4ZZ\n",
    "$$\n",
    "\n",
    "with eigenvalues:\n",
    "\n",
    "$$\n",
    "\\begin{Bmatrix}\n",
    "    \\lambda_0 = -7 \\\\\n",
    "    \\lambda_1 = 3 \\\\\n",
    "    \\lambda_2 = 5 \\\\\n",
    "    \\lambda_3 = 7\n",
    "\\end{Bmatrix}\n",
    "$$"
   ],
   "metadata": {
    "collapsed": false
   },
   "id": "4d22811c48eff2a7"
  },
  {
   "cell_type": "code",
   "outputs": [],
   "source": [
    "k = 4\n",
    "betas = np.ones(4)\n",
    "x0 = np.zeros(8)\n",
    "\n",
    "prev_states = []\n",
    "prev_opt_parameters = []\n",
    "eigenvalues = []"
   ],
   "metadata": {
    "collapsed": false,
    "ExecuteTime": {
     "end_time": "2024-02-15T16:26:36.628106Z",
     "start_time": "2024-02-15T16:26:36.617553Z"
    }
   },
   "id": "cd6324cff725c0e4",
   "execution_count": 40
  },
  {
   "cell_type": "code",
   "outputs": [
    {
     "name": "stdout",
     "output_type": "stream",
     "text": [
      " message: Optimization terminated successfully.\n",
      " success: True\n",
      "  status: 1\n",
      "     fun: -2.061\n",
      "       x: [-2.811e-03 -2.643e-03 -7.727e-05 -2.277e-05 -2.663e-03\n",
      "           -2.563e-03 -1.268e-05 -1.249e-01]\n",
      "    nfev: 71\n",
      "   maxcv: 0.0\n"
     ]
    },
    {
     "name": "stderr",
     "output_type": "stream",
     "text": [
      "/var/folders/38/kddld1k955775hyf55xdjbm40000gn/T/ipykernel_63468/200811002.py:6: DeprecationWarning: The method ``qiskit.circuit.quantumcircuit.QuantumCircuit.bind_parameters()`` is deprecated as of qiskit 0.45.0. It will be removed in the Qiskit 1.0.0 release. Use assign_parameters() instead\n",
      "  prev_states.append(ansatz.bind_parameters(prev_opt_parameters))\n"
     ]
    },
    {
     "name": "stdout",
     "output_type": "stream",
     "text": [
      " message: Optimization terminated successfully.\n",
      " success: True\n",
      "  status: 1\n",
      "     fun: -1.03675\n",
      "       x: [ 3.261e-02 -1.793e-02  2.150e-02 -1.406e-01 -3.442e-03\n",
      "            1.029e-01  5.185e-02  9.600e-03]\n",
      "    nfev: 75\n",
      "   maxcv: 0.0\n"
     ]
    },
    {
     "name": "stderr",
     "output_type": "stream",
     "text": [
      "Traceback (most recent call last):\n",
      "capi_return is NULL\n",
      "Call-back cb_calcfc_in__cobyla__user__routines failed.\n",
      "Fatal Python error: F2PySwapThreadLocalCallbackPtr: F2PySwapThreadLocalCallbackPtr: PyLong_AsVoidPtr failed\n",
      "Python runtime state: initialized\n",
      "  File \"/Users/peterbuschenreiter/Documents/KDG/Year 3/lab/variational-algorithm-design/.venv/lib/python3.10/site-packages/scipy/optimize/_cobyla_py.py\", line 281, in calcfc\n",
      "    f = sf.fun(x)\n",
      "  File \"/Users/peterbuschenreiter/Documents/KDG/Year 3/lab/variational-algorithm-design/.venv/lib/python3.10/site-packages/scipy/optimize/_differentiable_functions.py\", line 278, in fun\n",
      "    self._update_fun()\n",
      "  File \"/Users/peterbuschenreiter/Documents/KDG/Year 3/lab/variational-algorithm-design/.venv/lib/python3.10/site-packages/scipy/optimize/_differentiable_functions.py\", line 262, in _update_fun\n",
      "    self._update_fun_impl()\n",
      "  File \"/Users/peterbuschenreiter/Documents/KDG/Year 3/lab/variational-algorithm-design/.venv/lib/python3.10/site-packages/scipy/optimize/_differentiable_functions.py\", line 163, in update_fun\n",
      "    self.f = fun_wrapped(self.x)\n",
      "  File \"/Users/peterbuschenreiter/Documents/KDG/Year 3/lab/variational-algorithm-design/.venv/lib/python3.10/site-packages/scipy/optimize/_differentiable_functions.py\", line 145, in fun_wrapped\n",
      "    fx = fun(np.copy(x), *args)\n",
      "  File \"/var/folders/38/kddld1k955775hyf55xdjbm40000gn/T/ipykernel_63468/2773243014.py\", line 10, in cost_func_vqd\n",
      "  File \"/Users/peterbuschenreiter/Documents/KDG/Year 3/lab/variational-algorithm-design/.venv/lib/python3.10/site-packages/qiskit_ibm_runtime/estimator.py\", line 143, in run\n",
      "    return super().run(\n",
      "  File \"/Users/peterbuschenreiter/Documents/KDG/Year 3/lab/variational-algorithm-design/.venv/lib/python3.10/site-packages/qiskit/primitives/base/base_estimator.py\", line 188, in run\n",
      "    return self._run(\n",
      "  File \"/Users/peterbuschenreiter/Documents/KDG/Year 3/lab/variational-algorithm-design/.venv/lib/python3.10/site-packages/qiskit_ibm_runtime/estimator.py\", line 179, in _run\n",
      "    return self._run_primitive(\n",
      "  File \"/Users/peterbuschenreiter/Documents/KDG/Year 3/lab/variational-algorithm-design/.venv/lib/python3.10/site-packages/qiskit_ibm_runtime/base_primitive.py\", line 168, in _run_primitive\n",
      "    return self._session.run(\n",
      "  File \"/Users/peterbuschenreiter/Documents/KDG/Year 3/lab/variational-algorithm-design/.venv/lib/python3.10/site-packages/qiskit_ibm_runtime/session.py\", line 36, in _wrapper\n",
      "    return func(self, *args, **kwargs)\n",
      "  File \"/Users/peterbuschenreiter/Documents/KDG/Year 3/lab/variational-algorithm-design/.venv/lib/python3.10/site-packages/qiskit_ibm_runtime/session.py\", line 173, in run\n",
      "    job = self._service.run(\n",
      "  File \"/Users/peterbuschenreiter/Documents/KDG/Year 3/lab/variational-algorithm-design/.venv/lib/python3.10/site-packages/qiskit_ibm_runtime/qiskit_runtime_service.py\", line 940, in run\n",
      "    raise IBMRuntimeError(f\"Failed to run program: {ex}\") from None\n",
      "qiskit_ibm_runtime.exceptions.IBMRuntimeError: 'Failed to run program: \"(\\'Connection aborted.\\', RemoteDisconnected(\\'Remote end closed connection without response\\'))\"'\n",
      "\n",
      "Extension modules: zmq.backend.cython.context"
     ]
    }
   ],
   "source": [
    "from scipy.optimize import minimize\n",
    "\n",
    "for step in range(1, k + 1):\n",
    "\n",
    "    if step > 1:\n",
    "        prev_states.append(ansatz.assign_parameters(prev_opt_parameters))\n",
    "\n",
    "    result = minimize(cost_func_vqd, x0, args=(ansatz, prev_states, step, betas, estimator, sampler, observable_2),\n",
    "                      method=\"COBYLA\")\n",
    "    print(result)\n",
    "\n",
    "    prev_opt_parameters = result.x\n",
    "    eigenvalues.append(result.fun)"
   ],
   "metadata": {
    "collapsed": false,
    "is_executing": true,
    "ExecuteTime": {
     "start_time": "2024-02-15T16:26:36.621199Z"
    }
   },
   "id": "a55492b2da3c1ad1"
  },
  {
   "cell_type": "code",
   "outputs": [],
   "source": [
    "solution_eigenvalues = [-7, 3, 5, 7]\n",
    "\n",
    "for index, experimental_eigenvalue in enumerate(eigenvalues):\n",
    "    solution_eigenvalue = solution_eigenvalues[index]\n",
    "\n",
    "    print(\n",
    "        f\"Percent error: {abs((experimental_eigenvalue - solution_eigenvalue) / solution_eigenvalue):.2e}\"\n",
    "    )"
   ],
   "metadata": {
    "collapsed": false,
    "is_executing": true
   },
   "id": "3e4457815581d555"
  },
  {
   "cell_type": "code",
   "outputs": [],
   "source": [
    "session.close()"
   ],
   "metadata": {
    "collapsed": false,
    "is_executing": true
   },
   "id": "a913ed215b62c155"
  },
  {
   "cell_type": "markdown",
   "source": [
    "## Quantum Chemistry: Ground State and Excited Energy Solver\n",
    "\n",
    "Our objective is to minimize the expectation value of the observable representing energy (Hamiltonian $\\hat \\mathcal{H}$):\n",
    "\n",
    "$$\n",
    "\\frac{\\min}{\\vec\\theta} \\langle\\psi(\\vec\\theta)|\\hat \\mathcal{H}|\\psi(\\vec\\theta)\\rangle\n",
    "$$"
   ],
   "metadata": {
    "collapsed": false
   },
   "id": "e5493af68c475f86"
  },
  {
   "cell_type": "code",
   "outputs": [],
   "source": [
    "from qiskit.quantum_info import SparsePauliOp\n",
    "from qiskit.circuit.library import EfficientSU2\n",
    "\n",
    "H2_op = SparsePauliOp.from_list(\n",
    "    [\n",
    "        (\"II\", -1.052373245772859),\n",
    "        (\"IZ\", 0.39793742484318045),\n",
    "        (\"ZI\", -0.39793742484318045),\n",
    "        (\"ZZ\", -0.01128010425623538),\n",
    "        (\"XX\", 0.18093119978423156),\n",
    "    ]\n",
    ")\n",
    "\n",
    "ansatz = EfficientSU2(H2_op.num_qubits)\n",
    "\n",
    "ansatz.decompose().draw(\"mpl\", style=\"iqp\")"
   ],
   "metadata": {
    "collapsed": false,
    "is_executing": true
   },
   "id": "c4795b15ef86f3c3"
  },
  {
   "cell_type": "code",
   "outputs": [],
   "source": [
    "# IBM Qiskit Runtime\n",
    "from qiskit_ibm_runtime import QiskitRuntimeService\n",
    "from qiskit_ibm_runtime import Estimator, Sampler, Session\n",
    "\n",
    "# Add your token below\n",
    "service = QiskitRuntimeService(channel='ibm_quantum', token=token)\n",
    "backend = service.get_backend(\"ibmq_qasm_simulator\")\n",
    "\n",
    "session = Session(backend=backend)\n",
    "\n",
    "estimator = Estimator(session=session)\n",
    "sampler = Sampler(session=session)"
   ],
   "metadata": {
    "collapsed": false,
    "is_executing": true
   },
   "id": "c45ef9839f8cd02e"
  },
  {
   "cell_type": "code",
   "outputs": [],
   "source": [
    "from qiskit import QuantumCircuit\n",
    "from qiskit_ibm_runtime import Estimator\n",
    "\n",
    "\n",
    "def cost_func_vqe(params: np.ndarray, ansatz: QuantumCircuit, hamiltonian: SparsePauliOp, estimator: Estimator):\n",
    "    \"\"\"Return estimate of energy from estimator\n",
    "\n",
    "    Parameters:\n",
    "        params (ndarray): Array of ansatz parameters\n",
    "        ansatz (QuantumCircuit): Parameterized ansatz circuit\n",
    "        hamiltonian (SparsePauliOp): Operator representation of Hamiltonian\n",
    "        estimator (Estimator): Estimator primitive instance\n",
    "\n",
    "    Returns:\n",
    "        float: Energy estimate\n",
    "    \"\"\"\n",
    "    cost = estimator.run(ansatz, hamiltonian, parameter_values=params).result().values[0]\n",
    "    return cost"
   ],
   "metadata": {
    "collapsed": false,
    "is_executing": true
   },
   "id": "c75de7315c4666e9"
  },
  {
   "cell_type": "markdown",
   "source": [
    "We now set an initial set of parameters:"
   ],
   "metadata": {
    "collapsed": false
   },
   "id": "4b224291d21692c7"
  },
  {
   "cell_type": "code",
   "outputs": [],
   "source": [
    "import numpy as np\n",
    "\n",
    "x0 = np.ones(ansatz.num_parameters)"
   ],
   "metadata": {
    "collapsed": false,
    "is_executing": true
   },
   "id": "43e824fde4564aca"
  },
  {
   "cell_type": "markdown",
   "source": [
    "We can minimize this cost function to calculate optimal parameters:"
   ],
   "metadata": {
    "collapsed": false
   },
   "id": "4a509a1e11872e9b"
  },
  {
   "cell_type": "code",
   "outputs": [],
   "source": [
    "# SciPy minimizer routine\n",
    "from scipy.optimize import minimize\n",
    "import time\n",
    "\n",
    "start_time = time.time()\n",
    "\n",
    "result = minimize(cost_func_vqe, x0, args=(ansatz, H2_op, estimator), method=\"COBYLA\")\n",
    "\n",
    "end_time = time.time()\n",
    "execution_time = end_time - start_time\n",
    "\n",
    "result"
   ],
   "metadata": {
    "collapsed": false,
    "is_executing": true
   },
   "id": "d6bb6a9299fc2a0a"
  },
  {
   "cell_type": "code",
   "outputs": [],
   "source": [
    "session.close()"
   ],
   "metadata": {
    "collapsed": false
   },
   "id": "826108bb45bca113"
  },
  {
   "cell_type": "markdown",
   "source": [
    "### Excited States\n",
    "\n",
    "We can also leverage VQD to solve for $k=3$ excited states."
   ],
   "metadata": {
    "collapsed": false
   },
   "id": "b39bc0d384a89163"
  },
  {
   "cell_type": "code",
   "outputs": [],
   "source": [
    "from qiskit.quantum_info import SparsePauliOp\n",
    "import numpy as np\n",
    "\n",
    "k = 3\n",
    "betas = [33, 33, 33]\n",
    "x0 = np.zeros(ansatz.num_parameters)\n",
    "\n",
    "prev_states = []\n",
    "prev_opt_parameters = []\n",
    "eigenvalues = []"
   ],
   "metadata": {
    "collapsed": false,
    "is_executing": true
   },
   "id": "1516659a1c265368"
  },
  {
   "cell_type": "markdown",
   "source": [
    "We'll add our overlap calculation:"
   ],
   "metadata": {
    "collapsed": false
   },
   "id": "8df63ad5e10aead8"
  },
  {
   "cell_type": "code",
   "outputs": [],
   "source": [
    "from qiskit.circuit import ParameterVector\n",
    "\n",
    "\n",
    "def calculate_overlap(circuits_1, circuits_2, parameters, sampler):\n",
    "    def get_global_fidelity(probability_distribution):\n",
    "        \"\"\"Process the probability distribution of a measurement to determine the\n",
    "        global fidelity.\n",
    "        \"\"\"\n",
    "        return probability_distribution.get(0, 0)\n",
    "\n",
    "    def create_fidelity_circuit(circuit_1, circuit_2):\n",
    "        if len(circuit_1.clbits) > 0:\n",
    "            circuit_1.remove_final_measurements()\n",
    "        if len(circuit_2.clbits) > 0:\n",
    "            circuit_2.remove_final_measurements()\n",
    "\n",
    "        circuit = circuit_1.compose(circuit_2.inverse())\n",
    "        circuit.measure_all()\n",
    "        return circuit\n",
    "\n",
    "    def construct_fidelity_circuits(circuits_1, circuits_2):\n",
    "        \"\"\"\n",
    "        Constructs the list of fidelity circuits to be evaluated.\n",
    "        These circuits represent the state overlap between pairs of input circuits,\n",
    "        and their construction depends on the fidelity method implementations.\n",
    "        \"\"\"\n",
    "        circuits = []\n",
    "        for (circuit_1, circuit_2) in zip(circuits_1, circuits_2):\n",
    "            # re-parametrize input circuits\n",
    "            parameters_1 = ParameterVector(\"x\", circuit_1.num_parameters)\n",
    "            parametrized_circuit_1 = circuit_1.assign_parameters(parameters_1)\n",
    "            parameters_2 = ParameterVector(\"y\", circuit_2.num_parameters)\n",
    "            parametrized_circuit_2 = circuit_2.assign_parameters(parameters_2)\n",
    "\n",
    "            circuit = create_fidelity_circuit(\n",
    "                parametrized_circuit_1, parametrized_circuit_2\n",
    "            )\n",
    "            circuits.append(circuit)\n",
    "\n",
    "        return circuits\n",
    "\n",
    "    circuits = construct_fidelity_circuits(circuits_1, circuits_2)\n",
    "\n",
    "    job = sampler.run(circuits=circuits, parameter_values=parameters)\n",
    "    result = job.result()\n",
    "\n",
    "    raw_fidelities = [\n",
    "        get_global_fidelity(prob_dist) for prob_dist in result.quasi_dists\n",
    "    ]\n",
    "\n",
    "    return np.clip(raw_fidelities, 0, 1).tolist()"
   ],
   "metadata": {
    "collapsed": false,
    "is_executing": true
   },
   "id": "ce001813ea5c915f"
  },
  {
   "cell_type": "code",
   "outputs": [],
   "source": [
    "# IBM Qiskit Runtime\n",
    "from qiskit_ibm_runtime import QiskitRuntimeService\n",
    "from qiskit_ibm_runtime import Estimator, Sampler, Session\n",
    "\n",
    "# Add your token below\n",
    "service = QiskitRuntimeService(channel='ibm_quantum', token=token)\n",
    "backend = service.get_backend(\"ibmq_qasm_simulator\")\n",
    "\n",
    "session = Session(backend=backend)\n",
    "\n",
    "estimator = Estimator(session=session)\n",
    "sampler = Sampler(session=session)"
   ],
   "metadata": {
    "collapsed": false,
    "is_executing": true
   },
   "id": "b680ea5b68efe95"
  },
  {
   "cell_type": "code",
   "outputs": [],
   "source": [
    "import numpy as np\n",
    "\n",
    "\n",
    "def cost_func_vqd(parameters, ansatz, prev_states, step, betas, estimator, sampler, hamiltonian):\n",
    "    if len(parameters.shape) == 1:\n",
    "        parameters = np.reshape(parameters, (-1, ansatz.num_parameters))\n",
    "\n",
    "    batch_size = len(parameters)\n",
    "\n",
    "    estimator_job = estimator.run(\n",
    "        batch_size * [ansatz], batch_size * [hamiltonian], parameters\n",
    "    )\n",
    "\n",
    "    total_cost = np.zeros(batch_size)\n",
    "\n",
    "    if step > 1:\n",
    "        # compute overlap cost\n",
    "        batched_prev_states = [state for state in prev_states for _ in range(batch_size)]\n",
    "        costs = calculate_overlap(\n",
    "            batch_size * [ansatz] * (step - 1),\n",
    "            batched_prev_states,\n",
    "            np.tile(parameters, (step - 1, 1)),\n",
    "            sampler\n",
    "        )\n",
    "\n",
    "        costs = np.reshape(costs, (step - 1, -1))\n",
    "        for state, cost in enumerate(costs):\n",
    "            total_cost += np.real(betas[state] * cost)\n",
    "\n",
    "    estimator_result = estimator_job.result()\n",
    "\n",
    "    values = estimator_result.values + total_cost\n",
    "\n",
    "    return values if len(values) > 1 else values[0]"
   ],
   "metadata": {
    "collapsed": false,
    "is_executing": true
   },
   "id": "4264b410b353dff1"
  },
  {
   "cell_type": "code",
   "outputs": [],
   "source": [
    "from scipy.optimize import minimize\n",
    "\n",
    "for step in range(1, k + 1):\n",
    "\n",
    "    if step > 1:\n",
    "        prev_states.append(ansatz.assign_parameters(prev_opt_parameters))\n",
    "\n",
    "    result = minimize(cost_func_vqd, x0, args=(ansatz, prev_states, step, betas, estimator, sampler, H2_op),\n",
    "                      method=\"COBYLA\")\n",
    "    print(result)\n",
    "\n",
    "    prev_opt_parameters = result.x\n",
    "    eigenvalues.append(result.fun)"
   ],
   "metadata": {
    "collapsed": false,
    "is_executing": true
   },
   "id": "72da8422d919cebb"
  },
  {
   "cell_type": "code",
   "outputs": [],
   "source": [
    "eigenvalues"
   ],
   "metadata": {
    "collapsed": false,
    "is_executing": true
   },
   "id": "33cbeb1e8d775e38"
  },
  {
   "cell_type": "code",
   "outputs": [],
   "source": [
    "session.close()"
   ],
   "metadata": {
    "collapsed": false,
    "is_executing": true
   },
   "id": "de9509139b9ba437"
  },
  {
   "cell_type": "markdown",
   "source": [
    "## Optimization: Max-Cut\n",
    "\n",
    "The maximum cut (Max-Cut) problem is a combinatorial optimization problem that involves dividing the vertices of a graph into two disjoint sets such that the number of edges between the two sets is maximized. More formally, given an undirected graph $G=(V,E)$, Where$V$ is the set of vertices and $E$ is the set of edges, the Max-Cut problem asks to partition the vertices into two disjoint subsets, $S$ and $T$, such that the number of edges with one endpoint in $S$ and the other in $T$ is maximized.\n",
    "\n",
    "We can apply Max-Cut to solve various problems, such as clustering, network design, phase transition, etc. We'll start by creating a problem graph: "
   ],
   "metadata": {
    "collapsed": false
   },
   "id": "fce9c0df7379a302"
  },
  {
   "cell_type": "code",
   "outputs": [],
   "source": [
    "import rustworkx as rx\n",
    "from rustworkx.visualization import mpl_draw\n",
    "\n",
    "n = 4\n",
    "G = rx.PyGraph()\n",
    "G.add_nodes_from(range(n))\n",
    "# The edge syntax is (start, end, weight)\n",
    "edges = [(0, 1, 1.0), (0, 2, 1.0), (0, 3, 1.0), (1, 2, 1.0), (2, 3, 1.0)]\n",
    "G.add_edges_from(edges)\n",
    "\n",
    "mpl_draw(G, pos=rx.shell_layout(G), with_labels=True, edge_labels=str, node_color=\"#1192E8\")"
   ],
   "metadata": {
    "collapsed": false,
    "is_executing": true
   },
   "id": "cfcf7b74d54378d1"
  },
  {
   "cell_type": "markdown",
   "source": [
    "This problem can be expressed as a binary optimization problem. For each node $0 \\leq i < n$, where $n$ is the number of nodes of the graph (in this case $n=4$), we will consider the binary variable $x_i$. This variable will have the value $1$ if node $i$ is one of the groups that we'll label $1$ and $0$ if it's in the other group, that we'll label as $0$. We will also denote as $w_{ij}$ (element $(i,j)$ of the adjacency matrix $w$) the weight of the edge that goes from node $i$ to node$j$. Because the graph is undirected, $w_{ij} = w_{ji}$. Then we can formulate our problem as maximizing the following cost function:\n",
    "\n",
    "$$\n",
    "\\begin{align}\n",
    "    C(\\vec x) &= \\sum_{i,j=0}^n w_{ij}x_i(1-x_j) \\\\\n",
    "              $= \\sum_{i,j=0}^n w_{ij}x_i - \\sum_{i,j=0}^n w_{ij}x_ix_j \\\\\n",
    "              $= \\sum_{i,j=0}^n w_{ij}x_i - \\sum_{i=0}^n\\sum_{j=0}^i2w_{ij}x_ix_j\n",
    "\\end{align}\n",
    "$$\n",
    "\n",
    "To solve this problem with a quantum computer, we are going to express the cost function as the expected value of an observable. However, the observables that Qiskit admits natively consist of Pauli operators, that have eigenvalues $1$ and $-1$ instead of $0$ and $1$. That's why we are going to make the following change of variable:\n",
    "\n",
    "Where $\\vec x = (x_0, x_1, \\ldots, x_{n-1})$, we can use the adjacency matrix $w$ to comfortably access the weights of all edges. This will be used to obtain our cost function:\n",
    "\n",
    "$$\n",
    "z_i = 1 - 2x_i \\rightarrow x_i = \\frac{1 - z_i}{2}\n",
    "$$\n",
    "\n",
    "This implies that:\n",
    "\n",
    "$$\n",
    "\\begin{align}\n",
    "    x_i &= 0 \\rightarrow z_i = 1 \\\\\n",
    "    x_i &= 1 \\rightarrow z_i = -1\n",
    "\\end{align}\n",
    "$$\n",
    "\n",
    "So the new cost function we want to maximize is:\n",
    "\n",
    "$$\n",
    "\\begin{align}\n",
    "    C(\\vec z) &= \\sum_{i,j=0}^n w_{ij}(\\frac{1 - z_i}{2})(1- \\frac{1 - z_j}{2}) \\\\\n",
    "              &= \\sum_{i,j=0}^n \\frac{w_{ij}}{4} - \\sum_{i,j=0}^n \\frac{w_{ij}}{4}z_iz_j \\\\\n",
    "              &= \\sum_{i=0}^n \\sum_{j=0}^i \\frac{w_{ij}}{2} - \\sum_{i=0}^n \\sum_{j=0}^i \\frac{w_{ij}}{2}z_iz_j\n",
    "\\end{align}\n",
    "$$\n",
    "\n",
    "Moreover, the natural tendency of a quantum computer is to find minima (usually the lowest energy) instead of maxima so instead of maximizing $C(\\vec z)$, we are going to minimize:\n",
    "\n",
    "$$\n",
    "-C(\\vec z) = \\sum_{i=0}^n \\sum_{j=0}^i \\frac{w_{ij}}{2}z_iz_j - \\sum_{i=0}^n \\sum_{j=0}^i \\frac{w_{ij}}{2}\n",
    "$$\n",
    "\n",
    "Now that we have a cost function to minimize whose variables can have the values $-1$ and $1$, we can make the following analogy with the Pauli Z:\n",
    "\n",
    "$$\n",
    "z_i \\equiv Z_i = \\overbrace{I}^{n-1} \\otimes \\ldots \\otimes \\overbrace{Z}^{i} \\otimes \\ldots \\otimes \\overbrace{I}^{0}\n",
    "$$\n",
    "\n",
    "In other words, the variable z_i will be equivalent to a $Z$ gate acting on qubit $i$. Moreover:\n",
    "\n",
    "$$\n",
    "Z_i|x_{n-1}\\ldots x_0\\rangle = z_i|x_{n-1}\\ldots x_0\\rangle \\rightarrow \\langle x_{n-1}\\ldots x_0|Z_i|x_{n-1}\\ldots x_0\\rangle = z_i\n",
    "$$\n",
    "\n",
    "Then the observable we are going to consider is:\n",
    "\n",
    "$$\n",
    "\\hat H = \\sum_{i=0}^n \\sum_{j=0}^i \\frac{w_{ij}}{2}Z_iZ_j\n",
    "$$\n",
    "\n",
    "to which we will have to add the independent term afterwards:\n",
    "\n",
    "$$\n",
    "\\text{offset} = -\\sum_{i=0}^n \\sum_{j=0}^i \\frac{w_{ij}}{2}\n",
    "$$\n",
    "\n",
    "The operator is a linear combination of terms with Z operators on nodes connected by an edge (recall that the 0th qubit is farthest right): $IIZZ + IZIZ + IZZI + ZIIZ + ZZII$. Once the operator is constructed, the ansatz for the QAOA algorithm can easily be built by using the `QAOAAnsatz` circuit form the Qiskit library.\n"
   ],
   "metadata": {
    "collapsed": false
   },
   "id": "5f2f015a12927de1"
  },
  {
   "cell_type": "code",
   "outputs": [],
   "source": [
    "from qiskit.circuit.library import QAOAAnsatz\n",
    "from qiskit.quantum_info import SparsePauliOp\n",
    "\n",
    "hamiltonian = SparsePauliOp.from_list([\n",
    "    (\"IIZZ\", 1), (\"IZIZ\", 1), (\"IZZI\", 1), (\"ZIIZ\", 1), (\"ZZII\", 1)\n",
    "])\n",
    "\n",
    "ansatz = QAOAAnsatz(hamiltonian, reps=2)\n",
    "# Draw\n",
    "ansatz.decompose(reps=3).draw(\"mpl\", style=\"iqp\")"
   ],
   "metadata": {
    "collapsed": false,
    "is_executing": true
   },
   "id": "8a2463b3da7069f2"
  },
  {
   "cell_type": "code",
   "outputs": [],
   "source": [
    "# Sum the weights, and divide by 2\n",
    "\n",
    "offset = - sum(edge[2] for edge in edges) / 2\n",
    "print(f\"\"\"Offset: {offset}\"\"\")"
   ],
   "metadata": {
    "collapsed": false,
    "is_executing": true
   },
   "id": "b12ddfbfab631470"
  },
  {
   "cell_type": "code",
   "outputs": [],
   "source": [
    "def cost_func(params, ansatz, hamiltonian, estimator):\n",
    "    \"\"\"Return estimate of energy from estimator\n",
    "\n",
    "    Parameters:\n",
    "        params (ndarray): Array of ansatz parameters\n",
    "        ansatz (QuantumCircuit): Parameterized ansatz circuit\n",
    "        hamiltonian (SparsePauliOp): Operator representation of Hamiltonian\n",
    "        estimator (Estimator): Estimator primitive instance\n",
    "\n",
    "    Returns:\n",
    "        float: Energy estimate\n",
    "    \"\"\"\n",
    "    cost = estimator.run(ansatz, hamiltonian, parameter_values=params).result().values[0]\n",
    "    return cost"
   ],
   "metadata": {
    "collapsed": false,
    "is_executing": true
   },
   "id": "4e7d0fa5dea5b46b"
  },
  {
   "cell_type": "code",
   "outputs": [],
   "source": [
    "# IBM Qiskit Runtime\n",
    "from qiskit_ibm_runtime import QiskitRuntimeService\n",
    "from qiskit_ibm_runtime import Estimator, Sampler, Session\n",
    "\n",
    "# Add your token below\n",
    "service = QiskitRuntimeService(channel='ibm_quantum', token=token)\n",
    "backend = service.get_backend(\"ibmq_qasm_simulator\")\n",
    "\n",
    "session = Session(backend=backend)\n",
    "\n",
    "estimator = Estimator(session=session)\n",
    "sampler = Sampler(session=session)"
   ],
   "metadata": {
    "collapsed": false,
    "is_executing": true
   },
   "id": "fc85ed45e485deaf"
  },
  {
   "cell_type": "markdown",
   "source": [
    "We now set an initial set of random parameters:"
   ],
   "metadata": {
    "collapsed": false
   },
   "id": "d26965cbfd427e1"
  },
  {
   "cell_type": "code",
   "outputs": [],
   "source": [
    "import numpy as np\n",
    "\n",
    "x0 = 2 * np.pi * np.random.rand(ansatz.num_parameters)"
   ],
   "metadata": {
    "collapsed": false,
    "is_executing": true
   },
   "id": "7601d05488d82eb8"
  },
  {
   "cell_type": "markdown",
   "source": [
    "Any classical optimizer can be used to minimize the cost function. On a real quantum system, an optimizer designed for non-smooth cost function landscapes usually does better. Here we use the [`COBYLA` routine](https://docs.scipy.org/doc/scipy/reference/optimize.minimize-cobyla.html#optimize-minimize-cobyla) from SciPy via the minimize function.\n",
    "\n",
    "Because we are iteratively executing many calls to Runtime, we make use of a `Session` in order to execute all calls within a single block. Moreover, for QAOA, the solution is encoded in the output distribution of the ansatz circuit bound with the optimal parameters from the minimization. Therefore, we will need a `Sampler` primitive as well, and will instantiate it with the same `Session` and run our minimization routine:"
   ],
   "metadata": {
    "collapsed": false
   },
   "id": "aa76a0f970c984ae"
  },
  {
   "cell_type": "code",
   "outputs": [],
   "source": [
    "from scipy.optimize import minimize\n",
    "\n",
    "result = minimize(cost_func, x0, args=(ansatz, hamiltonian, estimator), method=\"COBYLA\")"
   ],
   "metadata": {
    "collapsed": false,
    "is_executing": true
   },
   "id": "afa74c3f8ed3d1cf"
  },
  {
   "cell_type": "code",
   "outputs": [],
   "source": [
    "result"
   ],
   "metadata": {
    "collapsed": false,
    "is_executing": true
   },
   "id": "eccf3f5285256545"
  },
  {
   "cell_type": "markdown",
   "source": [
    "The solution vector of parameter angles (`x`), when plugged into the ansatz circuit, yields the graph partitioning that we were looking for."
   ],
   "metadata": {
    "collapsed": false
   },
   "id": "8cda435d15df4557"
  },
  {
   "cell_type": "code",
   "outputs": [],
   "source": [
    "eigenvalue = cost_func(result.x, ansatz, hamiltonian, estimator)\n",
    "print(f\"\"\"Eigenvalue: {eigenvalue}\"\"\")\n",
    "print(f\"\"\"Max-Cut Objective: {eigenvalue + offset}\"\"\")"
   ],
   "metadata": {
    "collapsed": false,
    "is_executing": true
   },
   "id": "42b0037f44b65d2c"
  },
  {
   "cell_type": "code",
   "outputs": [],
   "source": [
    "# Assign solution parameters to ansatz\n",
    "qc = ansatz.assign_parameters(result.x)\n",
    "\n",
    "# Add measurements to our circuit\n",
    "qc.measure_all()\n",
    "\n",
    "# Sample ansatz at optimal parameters\n",
    "samp_dist = sampler.run(qc).result().quasi_dists[0]\n",
    "\n",
    "# Close the session since we are now done with it\n",
    "session.close()"
   ],
   "metadata": {
    "collapsed": false,
    "is_executing": true
   },
   "id": "687965f25d226772"
  },
  {
   "cell_type": "code",
   "outputs": [],
   "source": [
    "from qiskit.visualization import plot_distribution\n",
    "\n",
    "probabilities = samp_dist.binary_probabilities()\n",
    "plot_distribution(probabilities)"
   ],
   "metadata": {
    "collapsed": false,
    "is_executing": true
   },
   "id": "e46eedfe87f3b19a"
  },
  {
   "cell_type": "code",
   "outputs": [],
   "source": [
    "binary_string = max(probabilities.items(), key=lambda kv: kv[1])[0]\n",
    "x = np.asarray([int(y) for y in reversed(list(binary_string))])\n",
    "\n",
    "colors = [\"r\" if x[i] == 0 else \"c\" for i in range(n)]\n",
    "mpl_draw(G, pos=rx.shell_layout(G), with_labels=True, edge_labels=str, node_color=colors)"
   ],
   "metadata": {
    "collapsed": false,
    "is_executing": true
   },
   "id": "b26bed107982cf4d"
  },
  {
   "cell_type": "code",
   "outputs": [],
   "source": [],
   "metadata": {
    "collapsed": false
   },
   "id": "80fac6ca0cf1b353"
  }
 ],
 "metadata": {
  "kernelspec": {
   "display_name": "Python 3",
   "language": "python",
   "name": "python3"
  },
  "language_info": {
   "codemirror_mode": {
    "name": "ipython",
    "version": 2
   },
   "file_extension": ".py",
   "mimetype": "text/x-python",
   "name": "python",
   "nbconvert_exporter": "python",
   "pygments_lexer": "ipython2",
   "version": "2.7.6"
  }
 },
 "nbformat": 4,
 "nbformat_minor": 5
}

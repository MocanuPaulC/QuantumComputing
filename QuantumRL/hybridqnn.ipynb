{
 "cells": [
  {
   "cell_type": "markdown",
   "metadata": {},
   "source": [
    "#### Import of relevant packages"
   ]
  },
  {
   "cell_type": "code",
   "execution_count": 1,
   "metadata": {
    "ExecuteTime": {
     "end_time": "2024-03-13T10:27:25.192120042Z",
     "start_time": "2024-03-13T10:27:22.880345973Z"
    }
   },
   "outputs": [
    {
     "data": {
      "text/plain": "<torch._C.Generator at 0x7f6d67962070>"
     },
     "execution_count": 1,
     "metadata": {},
     "output_type": "execute_result"
    }
   ],
   "source": [
    "from datetime import time\n",
    "\n",
    "# General imports\n",
    "import numpy as np\n",
    "import matplotlib.pyplot as plt\n",
    "\n",
    "from qiskit.circuit.library import TwoLocal\n",
    "\n",
    "# Qiskit imports\n",
    "import qiskit as qk\n",
    "from qiskit_machine_learning.connectors import TorchConnector\n",
    "from qiskit_machine_learning.neural_networks import SamplerQNN\n",
    "\n",
    "# PyTorch imports\n",
    "import torch\n",
    "from torch import Tensor\n",
    "from torch.optim import Adam\n",
    "\n",
    "# OpenAI Gym import\n",
    "import gymnasium as gym\n",
    "from collections import deque\n",
    "\n",
    "\n",
    "# Fix seed for reproducibility\n",
    "seed = 42\n",
    "np.random.seed(seed)\n",
    "torch.manual_seed(seed)\n"
   ]
  },
  {
   "cell_type": "markdown",
   "source": [
    "- input_parameters:\n",
    "The encoding layer initializes the quantum circuit with classical data as inputs. Specifically, it deals with the state variables from the CartPole environment, which are represented by a four-number array indicating the system's state. These variables are encoded into a quantum register consisting of four qubits, each initialized to zero, through the application of Rx rotations."
   ],
   "metadata": {
    "collapsed": false
   }
  },
  {
   "cell_type": "markdown",
   "metadata": {},
   "source": []
  },
  {
   "cell_type": "code",
   "execution_count": 2,
   "metadata": {
    "ExecuteTime": {
     "end_time": "2024-03-13T10:27:25.240032523Z",
     "start_time": "2024-03-13T10:27:25.187912807Z"
    }
   },
   "outputs": [],
   "source": [
    "def input_parameters(inputs, num_qubits = 4, *args):\n",
    "    \"\"\"\n",
    "    Encode classical input data (i.e. the state of the enironment) on a quantum circuit. \n",
    "    To be used inside the `parametrized_circuit` function. \n",
    "    \n",
    "    Args\n",
    "    -------\n",
    "    inputs (list): a list containing the classical inputs.\n",
    "    num_qubits (int): number of qubits in the quantum circuit.\n",
    "    \n",
    "    Return\n",
    "    -------\n",
    "    qc (QuantumCircuit): quantum circuit with encoding gates.\n",
    "    \n",
    "    \"\"\"\n",
    "    \n",
    "    qc = qk.QuantumCircuit(num_qubits)\n",
    "    \n",
    "    # Encode data with a RX rotation\n",
    "    for i in range(len(inputs)): \n",
    "        qc.rx(inputs[i], i)\n",
    "        \n",
    "    return qc\n",
    "\n",
    "def parametrized_circuit(num_qubits = 4, reps = 2, insert_barriers = True, meas = False):\n",
    "    \"\"\"\n",
    "    Create the Parameterized Quantum Circuit (PQC) for estimating Q-values.\n",
    "    It implements the architecure proposed in Skolik et al. arXiv:2104.15084.\n",
    "    \n",
    "    Args\n",
    "    -------\n",
    "    num_qubit (int): number of qubits in the quantum circuit. \n",
    "    reps (int): number of repetitions (layers) in the variational circuit. \n",
    "    insert_barrirerd (bool): True to add barriers in between gates, for better drawing of the circuit. \n",
    "    meas (bool): True to add final measurements on the qubits. \n",
    "    \n",
    "    Return\n",
    "    -------\n",
    "    qc (QuantumCircuit): the full parametrized quantum circuit. \n",
    "    \"\"\"\n",
    "    \n",
    "    qr = qk.QuantumRegister(num_qubits, 'qr')\n",
    "    qc = qk.QuantumCircuit(qr)\n",
    "    \n",
    "    if meas:\n",
    "        qr = qk.QuantumRegister(num_qubits, 'qr')\n",
    "        cr = qk.ClassicalRegister(num_qubits, 'cr')\n",
    "        qc = qk.QuantumCircuit(qr,cr)\n",
    "    \n",
    "        # Define a vector containg Inputs as parameters (*not* to be optimized)\n",
    "    inputs = qk.circuit.ParameterVector('x', num_qubits)\n",
    "                \n",
    "    # Define a vector containng variational parameters\n",
    "    theta = qk.circuit.ParameterVector('theta', 2 * num_qubits * reps)\n",
    "    \n",
    "    # Iterate for a number of repetitions\n",
    "    for rep in range(reps):\n",
    "\n",
    "        # Encode classical input data\n",
    "        qc.compose(input_parameters(inputs, num_qubits = num_qubits), inplace = True)\n",
    "        if insert_barriers: qc.barrier()\n",
    "            \n",
    "        # Variational circuit (does the same as TwoLocal from Qiskit)\n",
    "        for qubit in range(num_qubits):\n",
    "            qc.ry(theta[qubit + 2*num_qubits*(rep)], qubit)\n",
    "            qc.rz(theta[qubit + 2*num_qubits*(rep) + num_qubits], qubit)\n",
    "        if insert_barriers: qc.barrier()\n",
    "            \n",
    "        # Add entanglers (this code is for a circular entangler)\n",
    "        qc.cz(qr[-1], qr[0])\n",
    "        \n",
    "        for qubit in range(num_qubits-1):\n",
    "            qc.cz(qr[qubit], qr[qubit+1])\n",
    "        if insert_barriers: qc.barrier()\n",
    "                    \n",
    "        # Add final measurements\n",
    "    if meas: qc.measure(qr,cr)\n",
    "        \n",
    "    return qc"
   ]
  },
  {
   "cell_type": "markdown",
   "metadata": {},
   "source": [
    "### Create the PQC  \n",
    "\n",
    "We can use the functions just defined to create the Parametrized Quantum Circuit:"
   ]
  },
  {
   "cell_type": "code",
   "execution_count": 3,
   "metadata": {
    "ExecuteTime": {
     "end_time": "2024-03-13T10:27:26.107500462Z",
     "start_time": "2024-03-13T10:27:25.230852606Z"
    }
   },
   "outputs": [
    {
     "data": {
      "text/plain": "<Figure size 2222.57x785.944 with 1 Axes>",
      "image/png": "[encoded data removed]"
     },
     "execution_count": 3,
     "metadata": {},
     "output_type": "execute_result"
    }
   ],
   "source": [
    "# Select the number of qubits equal to the number of inputs in the environment\n",
    "num_qubits = 4\n",
    "\n",
    "# Generate the Parametrized Quantum Circuit\n",
    "qc = parametrized_circuit(num_qubits = num_qubits, reps = 5)\n",
    "\n",
    "# Fetch the parameters from the circuit and divide them in Inputs (X) and Trainable Parameters (params)\n",
    "# The first four parameters are for the inputs \n",
    "inputs = list(qc.parameters)[: num_qubits]\n",
    "\n",
    "# The remaining ones are the trainable weights of the quantum neural network\n",
    "trainable_params = list(qc.parameters)[num_qubits:]\n",
    "\n",
    "qc.draw(\"mpl\")"
   ]
  },
  {
   "cell_type": "markdown",
   "source": [
    "### Quantum Neural Network\n",
    "We use the `SamplerQNN` class to define the quantum neural network. This class is a wrapper around the `QuantumCircuit` class, which allows us to use the quantum circuit as a layer in a classical neural network."
   ],
   "metadata": {
    "collapsed": false
   }
  },
  {
   "cell_type": "code",
   "execution_count": 4,
   "metadata": {
    "ExecuteTime": {
     "end_time": "2024-03-11T13:24:55.631558216Z",
     "start_time": "2024-03-11T13:24:55.626467380Z"
    }
   },
   "outputs": [],
   "source": [
    "\n",
    "from qiskit.primitives import Sampler\n",
    "\n",
    "sampler=Sampler(options={'method': 'statevector'})\n",
    "sampler.set_options(shots=2048)\n",
    "qnn = SamplerQNN(sampler=sampler,circuit=qc, input_params=inputs, weight_params=trainable_params)\n",
    "\n",
    "quantum_nn = TorchConnector(qnn) # Torch connector provides the weights uniformly from [-1, 1]"
   ]
  },
  {
   "cell_type": "markdown",
   "source": [
    "## Define the classical layers\n",
    "These layers are used to preprocess the input data and postprocess the output of the quantum neural network.\n",
    "\n",
    "## `encoding_layer` \n",
    "\n",
    "- Inherits from `torch.nn.Module`.\n",
    "- Encodes classical data onto a quantum circuit simulation using parameterized rotations.\n",
    "- **Initialization**: Sets up weights for qubits, initialized between -1 and 1.\n",
    "- **Forward Method**: Applies weights and arctangent function to input data, simulating encoding on a quantum register.\n",
    "\n",
    "## `exp_val_layer`\n",
    "\n",
    "- Calculates expected values in a quantum simulation.\n",
    "- **Initialization**: Sets action space size and initializes weights between 25 and 50. Defines masks for calculating expectation values `<Z_0*Z_1>` and `<Z_2*Z_3>`.\n",
    "- **Forward Method**: Computes expected values using masks and weights, supporting both single samples and batches. Outputs are weighted and normalized."
   ],
   "metadata": {
    "collapsed": false
   }
  },
  {
   "cell_type": "code",
   "execution_count": 5,
   "metadata": {
    "ExecuteTime": {
     "end_time": "2024-03-11T13:24:55.834145844Z",
     "start_time": "2024-03-11T13:24:55.629448583Z"
    }
   },
   "outputs": [],
   "source": [
    "\n",
    "class encoding_layer(torch.nn.Module):\n",
    "    def __init__(self, num_qubits = 4):\n",
    "        super().__init__()\n",
    "        \n",
    "        # Define weights for the layer\n",
    "        weights = torch.Tensor(num_qubits)\n",
    "        self.weights = torch.nn.Parameter(weights)\n",
    "        torch.nn.init.uniform_(self.weights, 0,0) # <--  Initialization strategy\n",
    "    \n",
    "        \n",
    "    def forward(self, x):\n",
    "        \"\"\"Forward step, as explained above.\"\"\"\n",
    "        \n",
    "        if not isinstance(x, Tensor):\n",
    "            x = Tensor(x)\n",
    "        \n",
    "        x = self.weights * x\n",
    "        x = torch.atan(x)\n",
    "                \n",
    "        return x"
   ]
  },
  {
   "cell_type": "markdown",
   "metadata": {},
   "source": []
  },
  {
   "cell_type": "code",
   "execution_count": 6,
   "metadata": {
    "ExecuteTime": {
     "end_time": "2024-03-11T13:24:55.834572127Z",
     "start_time": "2024-03-11T13:24:55.655011866Z"
    }
   },
   "outputs": [],
   "source": [
    "class exp_val_layer(torch.nn.Module):\n",
    "    def __init__(self, action_space = 2):\n",
    "        super().__init__()\n",
    "        \n",
    "        # Define the weights for the layer\n",
    "        weights = torch.Tensor(action_space)\n",
    "        \n",
    "        self.weights = torch.nn.Parameter(weights)\n",
    "        torch.nn.init.uniform_(self.weights, 35,45) # <-- Initialization strategy (heuristic choice)\n",
    "        print(self.weights)\n",
    "        # Masks that map the vector of probabilities to <Z_0*Z_1> and <Z_2*Z_3>\n",
    "        self.mask_ZZ_12 = torch.tensor([1.,-1.,-1.,1.,1.,-1.,-1.,1.,1.,-1.,-1.,1.,1.,-1.,-1.,1.], requires_grad = False)\n",
    "        self.mask_ZZ_34 = torch.tensor([-1.,-1.,-1.,-1.,1.,1.,1.,1.,-1.,-1.,-1.,-1.,1.,1.,1.,1.], requires_grad = False)\n",
    "        \n",
    "    def forward(self, x):\n",
    "        \"\"\"Forward step, as described above.\"\"\"\n",
    "        \n",
    "        expval_ZZ_12 = self.mask_ZZ_12 * x\n",
    "        expval_ZZ_34 = self.mask_ZZ_34 * x\n",
    "        \n",
    "        # Single sample\n",
    "        if len(x.shape) == 1:\n",
    "            expval_ZZ_12 = torch.sum(expval_ZZ_12)\n",
    "            expval_ZZ_34 = torch.sum(expval_ZZ_34)\n",
    "            out = torch.cat((expval_ZZ_12.unsqueeze(0), expval_ZZ_34.unsqueeze(0)))\n",
    "        \n",
    "        # Batch of samples\n",
    "        else:\n",
    "            expval_ZZ_12 = torch.sum(expval_ZZ_12, dim = 1, keepdim = True)\n",
    "            expval_ZZ_34 = torch.sum(expval_ZZ_34, dim = 1, keepdim = True)\n",
    "            out = torch.cat((expval_ZZ_12, expval_ZZ_34), 1)\n",
    "                \n",
    "        return self.weights * ((out + 1.) / 2.)"
   ]
  },
  {
   "cell_type": "markdown",
   "metadata": {},
   "source": [
    "### Hybrid Quantum-Classical Deep Q-Network\n",
    "We've gathered all the components required to assemble a hybrid quantum-classical neural network designed to tackle the CartPole challenge.   \n",
    "\n",
    "\n",
    "### Complete Model\n",
    "The final hybrid model is constructed by sequentially combining the three layers:\n",
    "`model` = `encoding_layer` --> `quantum_layer` --> `exp_val_layer`\n"
   ]
  },
  {
   "cell_type": "code",
   "execution_count": 7,
   "metadata": {
    "ExecuteTime": {
     "end_time": "2024-03-11T13:24:55.835002090Z",
     "start_time": "2024-03-11T13:24:55.655219622Z"
    }
   },
   "outputs": [
    {
     "name": "stdout",
     "output_type": "stream",
     "text": [
      "Parameter containing:\n",
      "tensor([38., 38.], requires_grad=True)\n"
     ]
    },
    {
     "data": {
      "text/plain": "OrderedDict([('0.weights', tensor([ 0.4522, -0.7365, -0.4933, -0.3887])),\n             ('1.weight',\n              tensor([ 0.2880, -0.8019, -0.5814, -0.0443,  0.8085,  0.2115, -0.6041,  0.1439,\n                       0.7772, -0.7977,  0.6964,  0.9559, -0.6269, -0.8883,  0.8330, -0.1578,\n                      -0.0998, -0.0475,  0.7991,  0.6999, -0.5011, -0.7798,  0.6011, -0.3387,\n                       0.6764, -0.9414, -0.2415, -0.1978,  0.1004, -0.3827, -0.9127, -0.0117,\n                      -0.6808, -0.1177, -0.4964, -0.1941, -0.4118,  0.3718,  0.7374,  0.0487,\n                      -0.3383,  0.4841, -0.4720, -0.8655,  0.0182, -0.6947, -0.2076,  0.8751,\n                      -0.6872, -0.9806, -0.1583, -0.1785,  0.3422, -0.1843, -0.9020,  0.6215,\n                      -0.4423,  0.6390,  0.5994,  0.2177,  0.8330,  0.7653,  0.8894, -0.9674])),\n             ('1._weights',\n              tensor([ 0.2880, -0.8019, -0.5814, -0.0443,  0.8085,  0.2115, -0.6041,  0.1439,\n                       0.7772, -0.7977,  0.6964,  0.9559, -0.6269, -0.8883,  0.8330, -0.1578,\n                      -0.0998, -0.0475,  0.7991,  0.6999, -0.5011, -0.7798,  0.6011, -0.3387,\n                       0.6764, -0.9414, -0.2415, -0.1978,  0.1004, -0.3827, -0.9127, -0.0117,\n                      -0.6808, -0.1177, -0.4964, -0.1941, -0.4118,  0.3718,  0.7374,  0.0487,\n                      -0.3383,  0.4841, -0.4720, -0.8655,  0.0182, -0.6947, -0.2076,  0.8751,\n                      -0.6872, -0.9806, -0.1583, -0.1785,  0.3422, -0.1843, -0.9020,  0.6215,\n                      -0.4423,  0.6390,  0.5994,  0.2177,  0.8330,  0.7653,  0.8894, -0.9674])),\n             ('2.weights', tensor([38., 38.]))])"
     },
     "execution_count": 7,
     "metadata": {},
     "output_type": "execute_result"
    }
   ],
   "source": [
    "# Classical trainable preprocessing\n",
    "encoding = encoding_layer()\n",
    "\n",
    "# Classical trainable postprocessing\n",
    "exp_val = exp_val_layer()\n",
    "# model = qm.get_reuploading_model(num_qubits, reps)\n",
    "\n",
    "model = torch.nn.Sequential(encoding,quantum_nn, exp_val)\n",
    "model.load_state_dict(torch.load(\"./default_good.pth\"))\n",
    "model.state_dict()\n"
   ]
  },
  {
   "cell_type": "code",
   "execution_count": 8,
   "metadata": {
    "ExecuteTime": {
     "end_time": "2024-03-11T13:24:55.835270784Z",
     "start_time": "2024-03-11T13:24:55.661859876Z"
    }
   },
   "outputs": [],
   "source": [
    "import QRL.learning.approximate.quantum_model as qm\n",
    "\n",
    "env = qm.RandomizedCartPoleEnv()\n",
    "input_shape = [4] # == env.observation_space.shape\n",
    "n_outputs = 2 # == env.action_space.n"
   ]
  },
  {
   "cell_type": "markdown",
   "metadata": {},
   "source": [
    "### Training Mechanics\n",
    "\n",
    "Let's dive into how we can train our quantum agent within this hybrid quantum-classical framework. \n",
    "\n",
    "The core strategy for training revolves around the well-known Deep Q-Learning algorithm. However, instead of using a purely classical neural network, we integrate a quantum neural network. \n",
    "The initial phase of training involves allowing the agent to interact with the environment in a random manner. \n",
    "This *exploration* stage helps the agent gather a diverse set of experiences. Following this, we transition to the *exploitation* phase, where the agent leverages its accumulated experiences to learn and adapt its strategy for solving the given task. \n",
    "Over time, the agent refines its predictions of the optimal Q-values \\(Q^\\ast(s,a)\\), gradually developing a strategy that ideally balances the pole. This overview is intentionally broad and simplistic; delving into the specifics of Q-learning is recommended for those unfamiliar with reinforcement learning (RL) concepts.\n",
    "\n"
   ]
  },
  {
   "cell_type": "markdown",
   "metadata": {},
   "source": [
    "This code is used to store memories of the past experiences for the agents, which are used during the training of the agent."
   ]
  },
  {
   "cell_type": "code",
   "execution_count": 9,
   "metadata": {
    "ExecuteTime": {
     "end_time": "2024-03-11T13:24:55.864272094Z",
     "start_time": "2024-03-11T13:24:55.667721517Z"
    }
   },
   "outputs": [],
   "source": [
    "\n",
    "replay_memory = deque(maxlen=10000)"
   ]
  },
  {
   "cell_type": "code",
   "execution_count": 10,
   "metadata": {
    "ExecuteTime": {
     "end_time": "2024-03-11T13:24:55.864677219Z",
     "start_time": "2024-03-11T13:24:55.711505824Z"
    }
   },
   "outputs": [],
   "source": [
    "def get_action_greedy(state,model, epsilon=0):\n",
    "    if np.random.rand() < epsilon:\n",
    "        return np.random.randint(n_outputs)\n",
    "    else:\n",
    "        with torch.no_grad():\n",
    "            if isinstance(state, tuple):\n",
    "                state = state[0]  # Assuming the first element of the tuple is the state array\n",
    "            \n",
    "            if isinstance(state, np.ndarray):\n",
    "                state = state.tolist()\n",
    "            Q_values = model(Tensor(state)).numpy()\n",
    "            \n",
    "        return np.argmax(Q_values)\n",
    "\n",
    "def sample(batch_size):\n",
    "    \"\"\"Sample some past experiences from the replay memory\"\"\"\n",
    "    indices = np.random.randint(len(replay_memory), size=batch_size)\n",
    "    batch = [replay_memory[index] for index in indices]\n",
    "    try:\n",
    "        states, actions, rewards, next_states, dones = [\n",
    "            np.array([experience[field_index] for experience in batch])\n",
    "            for field_index in range(5)]\n",
    "    except:\n",
    "        print(\"Error in the batch\")\n",
    "        for experience in batch:\n",
    "            print(experience)\n",
    "    return states, actions, rewards, next_states, dones\n",
    "\n",
    "def train(batch_size):\n",
    "    # Sample past experiences\n",
    "    experiences = sample(batch_size)\n",
    "    states, actions, rewards, next_states, dones = experiences\n",
    "        # replay_memory.append((obs, action, reward, next_state,terminated))\n",
    "\n",
    "    # Evaluates Target Q-values\n",
    "    with torch.no_grad():\n",
    "        next_Q_values = model(torch.Tensor(next_states)).detach().numpy()\n",
    "    max_next_Q_values = np.max(next_Q_values, axis=1)\n",
    "    target_Q_values = rewards + (1 - dones) * discount_rate * max_next_Q_values\n",
    "    \n",
    "    total_loss = 0.  # Initialize total loss for the batch\n",
    "    for j, state in enumerate(states):\n",
    "        if isinstance(state, tuple):\n",
    "            state = state[0]  # Assuming the first element of the tuple is the state array\n",
    "        if isinstance(state, np.ndarray):\n",
    "            state = state.tolist()\n",
    "\n",
    "        single_Q_value = model(torch.Tensor([state]))  # Ensure input is batched\n",
    "        Q_value = single_Q_value[0, actions[j]]  # Correctly index the predicted Q-value\n",
    "        loss = (target_Q_values[j] - Q_value) ** 2  # Compute squared loss for this sample\n",
    "        total_loss += loss  # Accumulate loss\n",
    "\n",
    "    avg_loss = total_loss / len(states)  # Compute average loss for the batch\n",
    "    # print(\"Average loss: \", avg_loss)\n",
    "    # Evaluate the gradients and update the parameters\n",
    "    optimizer.zero_grad()\n",
    "    avg_loss.backward()  # Backpropagate based on the average loss\n",
    "    optimizer.step()\n",
    "\n",
    "    "
   ]
  },
  {
   "cell_type": "markdown",
   "metadata": {},
   "source": [
    "#### Hyperparameters and training loop"
   ]
  },
  {
   "cell_type": "code",
   "execution_count": 11,
   "metadata": {
    "ExecuteTime": {
     "end_time": "2024-03-11T13:24:55.910869426Z",
     "start_time": "2024-03-11T13:24:55.711643849Z"
    }
   },
   "outputs": [],
   "source": [
    "batch_size = 32\n",
    "discount_rate = 0.99\n",
    "optimizer = Adam(model.parameters(), lr=0.01)\n",
    "rewards = [] \n",
    "best_avg_score=135\n",
    "best_avg_score_episode=0\n",
    "best_score=250\n",
    "n_episodes=2000"
   ]
  },
  {
   "cell_type": "markdown",
   "metadata": {},
   "source": [
    "- **Initialization**: \n",
    "    - `rewards` list stores the number of steps (or score) achieved by the agent in each episode.\n",
    "    - `best_avg_score` initialized at 135, to keep track of the highest average score over 100 consecutive episodes.\n",
    "    - `best_avg_score_episode` stores the episode number where the best average score was first achieved.\n",
    "    - `best_score` tracks the highest score achieved in a single episode.\n",
    "\n",
    "- **Training Loop**:\n",
    "    - The agent is set to train for `n_episodes` episodes. For each episode:\n",
    "        - The environment is reset, and an initial observation (`obs`) is obtained.\n",
    "        - The loop iterates up to 2000 steps, aiming for a target score of 200 to consider the environment solved.\n",
    "        - `epsilon` is dynamically adjusted to manage the transition from exploration (random actions) to exploitation (actions based on learned policy). It starts from 1 and decreases to a minimum of 0.01 as the episodes progress.\n",
    "        - Observation (`obs`) is checked for its type and converted to a suitable format (list or state array) for processing.\n",
    "        - The `play` function is called with the current environment, observation, and epsilon value, returning the new observation, reward, and done flag among others.\n",
    "        - If the episode ends (`done` is True), the loop breaks.\n",
    "    - After each episode, the number of steps achieved is appended to the `rewards` list.\n",
    "    - The best performing model is saved if the current episode's steps exceed the `best_score`.\n",
    "    - An average score of the last 100 episodes is calculated. If this average score is higher than `best_avg_score`, it updates `best_avg_score`, `best_avg_score_episode`, and saves the model.\n",
    "\n",
    "- **Training Feedback**:\n",
    "    - After each episode, a summary is printed to show the episode number, steps taken, epsilon value, average reward of the last 100 episodes, the best average score, and the episode number where the best average score was achieved.\n",
    "    - Training of the model (`train` function) starts after 50 episodes to ensure enough level of exploration before exploitation besides the greedy policy.\n",
    "    - Every 100 episodes, a plot showing the sum of rewards (score) per episode is displayed to visualize the agent's performance over time.\n"
   ]
  },
  {
   "cell_type": "code",
   "execution_count": null,
   "metadata": {},
   "outputs": [],
   "source": [
    "num_qubits = 4\n",
    "reps = 8\n",
    "\n",
    "for episode in range(n_episodes):\n",
    "    \n",
    "    # Run enviroment simulation\n",
    "    obs = env.reset()  \n",
    "    \n",
    "    # 200 is the target score for considering the environment solved\n",
    "    for step in range(500):\n",
    "        \n",
    "        # Manages the transition from exploration to exploitation\n",
    "        epsilon = max(1 - episode / 0.75* n_episodes, 0.01)\n",
    "        action = qm.epsilon_greedy_policy(obs, model,epsilon=epsilon)\n",
    "        next_state, reward, terminated, truncated, info = env.step(action)\n",
    "        replay_memory.append((obs, action, reward, next_state,terminated))\n",
    "        obs = next_state\n",
    "        if terminated or truncated:\n",
    "            rewards.append(step)\n",
    "            break\n",
    "    \n",
    "    if rewards[-1] >= best_score:\n",
    "        torch.save(model.state_dict(),\"./best_score.pth\")\n",
    "        best_score = rewards[-1]\n",
    "    \n",
    "    # get average of last 100 eps or 0 if not enough eps\n",
    "    avg_score = np.mean(rewards[-100:]) if len(rewards) >= 100 else 0\n",
    "    if avg_score > best_avg_score:\n",
    "        best_avg_score = avg_score\n",
    "        best_avg_score_episode = episode\n",
    "        torch.save(model.state_dict(), './best_average_score.pth') # Save best weights\n",
    "        \n",
    "    \n",
    "    \n",
    "    print(\"\\rEpisode: {}, Steps : {}, eps: {:.3f}, avg rwrd last 100 eps: {} best avg score: {}, at episode: {:.3f}\".format(episode, rewards[-1] + 1, epsilon, avg_score, best_avg_score, best_avg_score_episode ), end=\"\")\n",
    "    \n",
    "    # Start training only after some exploration experiences  \n",
    "    if episode > 50:\n",
    "        train(batch_size)\n",
    "    if episode % 50 == 0 or episode==(n_episodes-1):\n",
    "        print(\"\\rEpisode: {}, Steps : {}, eps: {:.3f}, avg rwrd last 100 eps: {} best avg score: {}, at episode: {:.3f}\".format(episode, step + 1, epsilon, avg_score, best_avg_score, best_avg_score_episode ))\n",
    "        plt.figure(figsize=(8, 4))\n",
    "        plt.plot(rewards)\n",
    "        plt.xlabel(\"Episode\", fontsize=14)\n",
    "        plt.ylabel(\"Sum of rewards\", fontsize=14)\n",
    "        plt.show()\n",
    "        "
   ]
  }
 ],
 "metadata": {
  "kernelspec": {
   "display_name": "Python 3",
   "language": "python",
   "name": "python3"
  },
  "language_info": {
   "codemirror_mode": {
    "name": "ipython",
    "version": 3
   },
   "file_extension": ".py",
   "mimetype": "text/x-python",
   "name": "python",
   "nbconvert_exporter": "python",
   "pygments_lexer": "ipython3",
   "version": "3.8.8"
  }
 },
 "nbformat": 4,
 "nbformat_minor": 4
}
